{
 "cells": [
  {
   "cell_type": "code",
   "execution_count": null,
   "id": "aa9990d1",
   "metadata": {},
   "outputs": [],
   "source": [
    "import numpy as np\n",
    "import gpflow\n",
    "import tensorflow_probability as tfp\n",
    "from tensorflow_probability import distributions as tfd\n",
    "import matplotlib.pyplot as plt\n",
    "import tensorflow as tf\n",
    "from gpflow.utilities import print_summary, set_trainable, to_default_float, positive\n",
    "import statistics\n",
    "from scipy import stats\n",
    "from scipy import io\n",
    "from scipy.stats import gamma\n",
    "import random\n",
    "# from gpflow.utilities import print_summary, positive\n",
    "import math\n",
    "from gpflow.ci_utils import ci_niter\n",
    "#import plot_from_samples, colors\n",
    "colors = [\"#1f77b4\", \"#ff7f0e\", \"#2ca02c\"]"
   ]
  },
  {
   "cell_type": "code",
   "execution_count": null,
   "id": "d6366793",
   "metadata": {},
   "outputs": [],
   "source": [
    "# load data\n",
    "annots = io.loadmat('ACU01')\n",
    "annots2 = io.loadmat('ACU02')\n",
    "annots3 = io.loadmat('ACU03')\n",
    "annots4 = io.loadmat('ACU04')\n",
    "annots5 = io.loadmat('ACU05')\n",
    "annots6 = io.loadmat('ACU06')\n",
    "annots7 = io.loadmat('ACU07')\n",
    "annot = io.loadmat('LTV01')\n",
    "annot2 = io.loadmat('LTV02')\n",
    "annot3 = io.loadmat('LTV03')\n",
    "annot4 = io.loadmat('LTV04')\n",
    "annot5 = io.loadmat('LTV05')\n",
    "annot6 = io.loadmat('LTV06')"
   ]
  },
  {
   "cell_type": "code",
   "execution_count": null,
   "id": "dbe2731b",
   "metadata": {},
   "outputs": [],
   "source": [
    "def ACU_data(i):\n",
    "    \n",
    "    if i == 1:\n",
    "        t=np.squeeze(annots['ACU01'][0][0]['t'])\n",
    "        genes=np.squeeze(annots['ACU01'][0][0]['genes'])\n",
    "        rawdat=np.squeeze(annots['ACU01'][0][0]['rawdat'])\n",
    "        dat=np.squeeze(annots['ACU01'][0][0]['dat'])\n",
    "        \n",
    "    elif i == 2:\n",
    "        t=np.squeeze(annots2['ACU02'][0][0]['t'])\n",
    "        genes=np.squeeze(annots2['ACU02'][0][0]['genes'])\n",
    "        rawdat=np.squeeze(annots2['ACU02'][0][0]['rawdat'])\n",
    "        dat=np.squeeze(annots2['ACU02'][0][0]['dat'])\n",
    "        \n",
    "    elif i == 3:\n",
    "        t=np.squeeze(annots3['ACU03'][0][0]['t'])\n",
    "        genes=np.squeeze(annots3['ACU03'][0][0]['genes'])\n",
    "        rawdat=np.squeeze(annots3['ACU03'][0][0]['rawdat'])\n",
    "        dat=np.squeeze(annots3['ACU03'][0][0]['dat'])\n",
    "        \n",
    "    elif i == 4:\n",
    "        t=np.squeeze(annots4['ACU04'][0][0]['t'])\n",
    "        genes=np.squeeze(annots4['ACU04'][0][0]['genes'])\n",
    "        rawdat=np.squeeze(annots4['ACU04'][0][0]['rawdat'])\n",
    "        dat=np.squeeze(annots4['ACU04'][0][0]['dat'])\n",
    "        \n",
    "    elif i == 5:\n",
    "        t=np.squeeze(annots5['ACU05'][0][0]['t'])\n",
    "        genes=np.squeeze(annots5['ACU05'][0][0]['genes'])\n",
    "        rawdat=np.squeeze(annots5['ACU05'][0][0]['rawdat'])\n",
    "        dat=np.squeeze(annots5['ACU05'][0][0]['dat'])\n",
    "        \n",
    "    elif i == 6:\n",
    "        t=np.squeeze(annots6['ACU06'][0][0]['t'])\n",
    "        genes=np.squeeze(annots6['ACU06'][0][0]['genes'])\n",
    "        rawdat=np.squeeze(annots6['ACU06'][0][0]['rawdat'])\n",
    "        dat=np.squeeze(annots6['ACU06'][0][0]['dat'])\n",
    "        \n",
    "    elif i == 7:\n",
    "        t=np.squeeze(annots7['ACU07'][0][0]['t'])\n",
    "        genes=np.squeeze(annots7['ACU07'][0][0]['genes'])\n",
    "        rawdat=np.squeeze(annots7['ACU07'][0][0]['rawdat'])\n",
    "        dat=np.squeeze(annots7['ACU07'][0][0]['dat'])\n",
    "        \n",
    "    return t, genes, rawdat, dat"
   ]
  },
  {
   "cell_type": "code",
   "execution_count": null,
   "id": "81f98496",
   "metadata": {},
   "outputs": [],
   "source": [
    "def LTV_data(i):\n",
    "    \n",
    "    if i == 1:\n",
    "        t=np.squeeze(annot['LTV01'][0][0]['t'])\n",
    "        genes=np.squeeze(annot['LTV01'][0][0]['genes'])\n",
    "        rawdat=np.squeeze(annot['LTV01'][0][0]['rawdat'])\n",
    "        dat=np.squeeze(annot['LTV01'][0][0]['dat'])\n",
    "        \n",
    "    elif i == 2:\n",
    "        t=np.squeeze(annot2['LTV02'][0][0]['t'])\n",
    "        genes=np.squeeze(annot2['LTV02'][0][0]['genes'])\n",
    "        rawdat=np.squeeze(annot2['LTV02'][0][0]['rawdat'])\n",
    "        dat=np.squeeze(annot2['LTV02'][0][0]['dat'])\n",
    "        \n",
    "    elif i == 3:\n",
    "        t=np.squeeze(annot3['LTV03'][0][0]['t'])\n",
    "        genes=np.squeeze(annot3['LTV03'][0][0]['genes'])\n",
    "        rawdat=np.squeeze(annot3['LTV03'][0][0]['rawdat'])\n",
    "        dat=np.squeeze(annot3['LTV03'][0][0]['dat'])\n",
    "        \n",
    "    elif i == 4:\n",
    "        t=np.squeeze(annot4['LTV04'][0][0]['t'])\n",
    "        genes=np.squeeze(annot4['LTV04'][0][0]['genes'])\n",
    "        rawdat=np.squeeze(annot4['LTV04'][0][0]['rawdat'])\n",
    "        dat=np.squeeze(annot4['LTV04'][0][0]['dat'])\n",
    "        \n",
    "    elif i == 5:\n",
    "        t=np.squeeze(annot5['LTV05'][0][0]['t'])\n",
    "        genes=np.squeeze(annot5['LTV05'][0][0]['genes'])\n",
    "        rawdat=np.squeeze(annot5['LTV05'][0][0]['rawdat'])\n",
    "        dat=np.squeeze(annot5['LTV05'][0][0]['dat'])\n",
    "        \n",
    "    elif i == 6:\n",
    "        t=np.squeeze(annot6['LTV06'][0][0]['t'])\n",
    "        genes=np.squeeze(annot6['LTV06'][0][0]['genes'])\n",
    "        rawdat=np.squeeze(annot6['LTV06'][0][0]['rawdat'])\n",
    "        dat=np.squeeze(annot6['LTV06'][0][0]['dat'])\n",
    "        \n",
    "    return t, genes, rawdat, dat"
   ]
  },
  {
   "cell_type": "code",
   "execution_count": null,
   "id": "cf215ad2",
   "metadata": {},
   "outputs": [],
   "source": [
    "def mean2(data):\n",
    "    n=len(data)\n",
    "    mean=sum(data)/n\n",
    "    return mean"
   ]
  },
  {
   "cell_type": "code",
   "execution_count": null,
   "id": "97bd8fb0",
   "metadata": {},
   "outputs": [],
   "source": [
    "class OffsetLinear(gpflow.kernels.Kernel):\n",
    "    def __init__(self, variance=1.0, offset=0.001, active_dims=None):\n",
    "        super().__init__(active_dims)\n",
    "        self.variance = gpflow.Parameter(variance, transform=positive())\n",
    "        self.offset = gpflow.Parameter(offset, transform=positive())\n",
    "        self._validate_ard_active_dims(self.variance)\n",
    "        \n",
    "    @property\n",
    "    def ard(self) -> bool:\n",
    "        \"\"\"\n",
    "        Whether ARD behaviour is active.\n",
    "        \"\"\"\n",
    "        return self.variance.shape.ndims > 0\n",
    "\n",
    "    def K(self, X, X2=None):\n",
    "        if X2 is None:\n",
    "            return tf.matmul(tf.subtract(X, self.offset) * self.variance, tf.subtract(X,self.offset), transpose_b=True)\n",
    "        else:\n",
    "            return tf.tensordot(tf.subtract(X, self.offset) * self.variance, tf.subtract(X2,self.offset), [[-1], [-1]])\n",
    "\n",
    "    def K_diag(self, X):\n",
    "        return tf.reduce_sum(tf.square(tf.subtract(X, self.offset)) * self.variance, axis=-1)"
   ]
  },
  {
   "cell_type": "code",
   "execution_count": null,
   "id": "bb9923de",
   "metadata": {},
   "outputs": [],
   "source": [
    "def shape_data(data, i):\n",
    "    \n",
    "    # extract relevant data\n",
    "    t, genes, rawdat, dat = data\n",
    "    n = np.size(rawdat[:,i])\n",
    "    \n",
    "    # convert data to right shape\n",
    "    X = t.reshape(n,1)\n",
    "    X = tf.cast(X, tf.double)\n",
    "    X.numpy()\n",
    "    Z = rawdat[:,i].reshape(n,1)\n",
    "    Z = tf.cast(Z, tf.double)\n",
    "    Z.numpy()\n",
    "    Z = stats.zscore(Z) # z-score raw data\n",
    "    \n",
    "    return X, Z"
   ]
  },
  {
   "cell_type": "code",
   "execution_count": null,
   "id": "34249647",
   "metadata": {},
   "outputs": [],
   "source": [
    "def our_kernel(period=24.0, off_var=0.001, offset=0.001):\n",
    "    \n",
    "    # define kernel\n",
    "    k1=gpflow.kernels.Periodic(gpflow.kernels.SquaredExponential(), period=period) # periodic kernel\n",
    "    k2=OffsetLinear(variance=off_var, offset=offset) # offset kernel\n",
    "    k3=gpflow.kernels.Constant(0.001)\n",
    "    k=k1+k2+k3\n",
    "    \n",
    "    return k"
   ]
  },
  {
   "cell_type": "code",
   "execution_count": null,
   "id": "9a4d7121",
   "metadata": {},
   "outputs": [],
   "source": [
    "def plot_mod(X, Z, m, pl_start = -5, pl_end = 55):\n",
    "    \n",
    "    ## generate test points for prediction\n",
    "    xx = np.linspace(-72.1, 72.1, 100).reshape(100, 1)  # test points must be of shape (N, D)\n",
    "\n",
    "    ## predict mean and variance of latent GP at test points\n",
    "    mean, var = m.predict_f(xx)\n",
    "\n",
    "    ## generate 10 samples from posterior\n",
    "    tf.random.set_seed(1)  # for reproducibility\n",
    "    samples = m.predict_f_samples(xx, 10)  # shape (10, 100, 1)\n",
    "\n",
    "    ## plot\n",
    "    plt.figure(figsize=(12, 6))\n",
    "    plt.plot(X, Z, \"kx\", mew=2)\n",
    "    plt.plot(xx, mean, \"C0\", lw=2)\n",
    "    plt.fill_between(\n",
    "        xx[:, 0],\n",
    "        mean[:, 0] - 1.96 * np.sqrt(var[:, 0]),\n",
    "        mean[:, 0] + 1.96 * np.sqrt(var[:, 0]),\n",
    "        color=\"C0\",\n",
    "        alpha=0.2,\n",
    "    )\n",
    "\n",
    "    plt.plot(xx, samples[:, :, 0].numpy().T, \"C0\", linewidth=0.5)\n",
    "    _ = plt.xlim(pl_start, pl_end)\n",
    "    plt.title(\"Samples from Posterior Distribution\")\n",
    "    plt.show()"
   ]
  },
  {
   "cell_type": "code",
   "execution_count": null,
   "id": "0dc447dd",
   "metadata": {},
   "outputs": [],
   "source": [
    "def load_priors(k):\n",
    "    \n",
    "    k.kernels[0].base_kernel.variance.prior = tfp.distributions.Gamma(\n",
    "        to_default_float(2), to_default_float(1)\n",
    "    ) \n",
    "\n",
    "    k.kernels[0].base_kernel.lengthscales.prior = tfp.distributions.Gamma(\n",
    "        to_default_float(2), to_default_float(1)\n",
    "    )\n",
    "    k.kernels[0].period.prior = tfp.distributions.Gamma(\n",
    "       to_default_float(25), to_default_float(1)\n",
    "    )\n",
    "    k.kernels[1].variance.prior = tfp.distributions.Gamma(\n",
    "       to_default_float(2), to_default_float(1000)\n",
    "    )\n",
    "    k.kernels[1].offset.prior = tfp.distributions.Gamma(\n",
    "       to_default_float(2), to_default_float(1000)\n",
    "    )\n",
    "    k.kernels[2].variance.prior = tfp.distributions.Gamma(\n",
    "       to_default_float(2), to_default_float(1000)\n",
    "    )\n",
    "    \n",
    "    return k"
   ]
  },
  {
   "cell_type": "code",
   "execution_count": null,
   "id": "5f246bce",
   "metadata": {},
   "outputs": [],
   "source": [
    "def mle_sub(data, i, period=24.0, off_var=0.001, offset=0.001, plot_m=False):\n",
    "    \n",
    "    # function to compute MLE for ACU patient with time subtracted mean\n",
    "    X, Z = shape_data(data, i)\n",
    "    \n",
    "    # subtract mean\n",
    "    X_orig = X\n",
    "    X = X_orig - mean2(X_orig)\n",
    "    \n",
    "    k = our_kernel(period, off_var, offset)\n",
    "    \n",
    "    # create model using data and kernel\n",
    "    m = gpflow.models.GPR(data=(X,Z), kernel=k, mean_function=None)\n",
    "    m.likelihood.variance.assign(0.1)\n",
    "    \n",
    "    # optimise using MLE\n",
    "    opt = gpflow.optimizers.Scipy()\n",
    "    opt.minimize(m.training_loss, variables=m.trainable_variables)\n",
    "    \n",
    "    if plot_m:\n",
    "        # return hyperparameters\n",
    "        print(\"Maximum Likelihood Estimate for gene\", i+1)\n",
    "        print_summary(m, fmt=\"notebook\")\n",
    "        \n",
    "        # plot\n",
    "        plot_mod(X, Z, m, pl_start = -25, pl_end = 25)\n",
    "    return X, Z, m"
   ]
  },
  {
   "cell_type": "code",
   "execution_count": null,
   "id": "dd7f25d4",
   "metadata": {},
   "outputs": [],
   "source": [
    "def map_sub(data, i, period=24.0, off_var=0.001, offset=0.001, plot_m=False):\n",
    "    # function for MAP of ACU patient with time subtracted mean\n",
    "    \n",
    "    X, Z = shape_data(data, i)\n",
    "    \n",
    "    # subtract mean time from time\n",
    "    X_orig = X\n",
    "    X = X_orig - mean2(X_orig)\n",
    "    \n",
    "    k = our_kernel(period, off_var, offset)\n",
    "    \n",
    "    # set kernel priors\n",
    "    k = load_priors(k)\n",
    "    \n",
    "    # create model using data and kernel\n",
    "    m = gpflow.models.GPR(data=(X,Z), kernel=k, mean_function=None)\n",
    "    \n",
    "    # set model priors\n",
    "    m.likelihood.variance.prior = tfp.distributions.Gamma(\n",
    "       to_default_float(1), to_default_float(0.1)\n",
    "    )\n",
    "        \n",
    "    # optimise using MLE\n",
    "    opt = gpflow.optimizers.Scipy()\n",
    "    opt.minimize(m.training_loss, variables=m.trainable_variables)\n",
    "    \n",
    "    if plot_m:\n",
    "        # return hyperparameters\n",
    "        print(\"Maximum A Posteri Estimate for gene\", i+1)\n",
    "        print_summary(m, fmt=\"notebook\")\n",
    "        \n",
    "        # plot\n",
    "        plot_mod(X, Z, m, pl_start = -25, pl_end = 25)\n",
    "    return X, Z, m"
   ]
  },
  {
   "cell_type": "markdown",
   "id": "d0cebcb0",
   "metadata": {},
   "source": [
    "# ACU01 Patient"
   ]
  },
  {
   "cell_type": "code",
   "execution_count": null,
   "id": "20be5aad",
   "metadata": {},
   "outputs": [],
   "source": [
    "for i in range(13):\n",
    "    print(\"Gene \", i+1)\n",
    "    # plot data\n",
    "    t, genes, rawdat, dat = ACU_data(1)\n",
    "    plt.plot(t,rawdat[:,i])\n",
    "    plt.title(\"Raw Data\")\n",
    "    plt.show()\n",
    "        \n",
    "    # mle estimation\n",
    "    #mle_sub(ACU_data(1), i, plot_m=True)\n",
    "    \n",
    "    # map estimation\n",
    "    map_sub(ACU_data(1), i, plot_m=True)"
   ]
  },
  {
   "cell_type": "markdown",
   "id": "2536e526",
   "metadata": {},
   "source": [
    "# ACU02 Patient"
   ]
  },
  {
   "cell_type": "code",
   "execution_count": null,
   "id": "09c31813",
   "metadata": {},
   "outputs": [],
   "source": [
    "for i in range(13):\n",
    "    print(\"Gene \", i+1)\n",
    "    # plot data\n",
    "    t, genes, rawdat, dat = ACU_data(2)\n",
    "    plt.plot(t,rawdat[:,i])\n",
    "    plt.title(\"Raw Data\")\n",
    "    plt.show()\n",
    "    \n",
    "    # mle estimation\n",
    "    #mle_sub(ACU_data(2), i, plot_m=True)\n",
    "    \n",
    "    # map estimation\n",
    "    map_sub(ACU_data(2), i, plot_m=True)"
   ]
  },
  {
   "cell_type": "markdown",
   "id": "e14549df",
   "metadata": {},
   "source": [
    "# ACU03 Patient"
   ]
  },
  {
   "cell_type": "code",
   "execution_count": null,
   "id": "d5714314",
   "metadata": {},
   "outputs": [],
   "source": [
    "for i in range(13):\n",
    "    print(\"Gene \", i+1)\n",
    "    # plot data\n",
    "    t, genes, rawdat, dat = ACU_data(3)\n",
    "    plt.plot(t,rawdat[:,i])\n",
    "    plt.title(\"Raw Data\")\n",
    "    plt.show()\n",
    "    \n",
    "    # mle estimation\n",
    "    #mle_sub(ACU_data(3), i, plot_m=True)\n",
    "    \n",
    "    # map estimation\n",
    "    map_sub(ACU_data(3), i, plot_m=True)"
   ]
  },
  {
   "cell_type": "markdown",
   "id": "fd82dfdf",
   "metadata": {},
   "source": [
    "# ACU04 Patient"
   ]
  },
  {
   "cell_type": "code",
   "execution_count": null,
   "id": "4f708d70",
   "metadata": {},
   "outputs": [],
   "source": [
    "for i in range(13):\n",
    "    print(\"Gene \", i+1)\n",
    "    # plot data\n",
    "    t, genes, rawdat, dat = ACU_data(4)\n",
    "    plt.plot(t,rawdat[:,i])\n",
    "    plt.title(\"Raw Data\")\n",
    "    plt.show()\n",
    "    \n",
    "    # mle estimation\n",
    "    #mle_sub(ACU_data(4), i, plot_m=True)\n",
    "    \n",
    "    # map estimation\n",
    "    map_sub(ACU_data(4), i, plot_m=True)"
   ]
  },
  {
   "cell_type": "markdown",
   "id": "2ef8085b",
   "metadata": {},
   "source": [
    "# ACU05 Patient"
   ]
  },
  {
   "cell_type": "code",
   "execution_count": null,
   "id": "5691e2d3",
   "metadata": {},
   "outputs": [],
   "source": [
    "for i in range(13):\n",
    "    print(\"Gene \", i+1)\n",
    "    # plot data\n",
    "    t, genes, rawdat, dat = ACU_data(5)\n",
    "    plt.plot(t,rawdat[:,i])\n",
    "    plt.title(\"Raw Data\")\n",
    "    plt.show()\n",
    "    \n",
    "    # mle estimation\n",
    "    #mle_sub(ACU_data(5), i, plot_m=True)\n",
    "    \n",
    "    # map estimation\n",
    "    map_sub(ACU_data(5), i, plot_m=True)"
   ]
  },
  {
   "cell_type": "markdown",
   "id": "d2fe57cf",
   "metadata": {},
   "source": [
    "# ACU06 Patient"
   ]
  },
  {
   "cell_type": "code",
   "execution_count": null,
   "id": "da36e5fd",
   "metadata": {},
   "outputs": [],
   "source": [
    "for i in range(13):\n",
    "    print(\"Gene \", i+1)\n",
    "    # plot data\n",
    "    t, genes, rawdat, dat = ACU_data(6)\n",
    "    plt.plot(t,rawdat[:,i])\n",
    "    plt.title(\"Raw Data\")\n",
    "    plt.show()\n",
    "    \n",
    "    # mle estimation\n",
    "    #mle_sub(ACU_data(6), i, plot_m=True)\n",
    "    \n",
    "    # map estimation\n",
    "    map_sub(ACU_data(6), i, plot_m=True)"
   ]
  },
  {
   "cell_type": "markdown",
   "id": "7ebcd660",
   "metadata": {},
   "source": [
    "# ACU07 Patient"
   ]
  },
  {
   "cell_type": "code",
   "execution_count": null,
   "id": "9d993db6",
   "metadata": {},
   "outputs": [],
   "source": [
    "for i in range(13):\n",
    "    print(\"Gene \", i+1)\n",
    "    # plot data\n",
    "    t, genes, rawdat, dat = ACU_data(7)\n",
    "    plt.plot(t,rawdat[:,i])\n",
    "    plt.title(\"Raw Data\")\n",
    "    plt.show()\n",
    "    \n",
    "    # mle estimation\n",
    "    #mle_sub(ACU_data(7), i, plot_m=True)\n",
    "    \n",
    "    # map estimation\n",
    "    map_sub(ACU_data(7), i, plot_m=True)"
   ]
  },
  {
   "cell_type": "markdown",
   "id": "a04d8446",
   "metadata": {},
   "source": [
    "# LTV01 Patient"
   ]
  },
  {
   "cell_type": "code",
   "execution_count": null,
   "id": "4288852f",
   "metadata": {},
   "outputs": [],
   "source": [
    "for i in range(13):\n",
    "    print(\"Gene \", i+1)\n",
    "    # plot data\n",
    "    t, genes, rawdat, dat = LTV_data(1)\n",
    "    plt.plot(t,rawdat[:,i])\n",
    "    plt.title(\"Raw Data\")\n",
    "    plt.show()\n",
    "    \n",
    "    # mle estimation\n",
    "    #mle_sub(LTV_data(1), i, plot_m=True)\n",
    "    \n",
    "    # map estimation\n",
    "    map_sub(LTV_data(1), i, plot_m=True)"
   ]
  },
  {
   "cell_type": "markdown",
   "id": "61c79bf1",
   "metadata": {},
   "source": [
    "# LTV02 Patient"
   ]
  },
  {
   "cell_type": "code",
   "execution_count": null,
   "id": "82b812f5",
   "metadata": {},
   "outputs": [],
   "source": [
    "for i in range(13):\n",
    "    print(\"Gene \", i+1)\n",
    "    # plot data\n",
    "    t, genes, rawdat, dat = LTV_data(2)\n",
    "    plt.plot(t,rawdat[:,i])\n",
    "    plt.title(\"Raw Data\")\n",
    "    plt.show()\n",
    "    \n",
    "    # mle estimation\n",
    "    #mle_sub(LTV_data(2), i, plot_m=True)\n",
    "    \n",
    "    # map estimation\n",
    "    map_sub(LTV_data(2), i, plot_m=True)"
   ]
  },
  {
   "cell_type": "markdown",
   "id": "16142a9a",
   "metadata": {},
   "source": [
    "# LTV03 Patient"
   ]
  },
  {
   "cell_type": "code",
   "execution_count": null,
   "id": "84f94867",
   "metadata": {},
   "outputs": [],
   "source": [
    "for i in range(13):\n",
    "    print(\"Gene \", i+1)\n",
    "    # plot data\n",
    "    t, genes, rawdat, dat = LTV_data(3)\n",
    "    plt.plot(t,rawdat[:,i])\n",
    "    plt.title(\"Raw Data\")\n",
    "    plt.show()\n",
    "    \n",
    "    # mle estimation\n",
    "    #mle_sub(LTV_data(3), i, plot_m=True)\n",
    "    \n",
    "    # map estimation\n",
    "    map_sub(LTV_data(3), i, plot_m=True)"
   ]
  },
  {
   "cell_type": "markdown",
   "id": "93d243ed",
   "metadata": {},
   "source": [
    "# LTV04 Patient"
   ]
  },
  {
   "cell_type": "code",
   "execution_count": null,
   "id": "338521ee",
   "metadata": {},
   "outputs": [],
   "source": [
    "i = 0\n",
    "print(\"Gene \", i+1)\n",
    "# plot data\n",
    "t, genes, rawdat, dat = LTV_data(4)\n",
    "plt.plot(t,rawdat[:,i])\n",
    "plt.title(\"Raw Data\")\n",
    "plt.show()\n",
    "\n",
    "# mle estimation\n",
    "#mle_sub(LTV_data(4), i, plot_m=True)\n",
    "\n",
    "# map estimation\n",
    "map_sub(LTV_data(4), i, plot_m=True)\n",
    "\n",
    "i = 1\n",
    "print(\"Gene \", i+1)\n",
    "# plot data\n",
    "t, genes, rawdat, dat = LTV_data(4)\n",
    "plt.plot(t,rawdat[:,i])\n",
    "plt.title(\"Raw Data\")\n",
    "plt.show()\n",
    "\n",
    "# map estimation\n",
    "map_sub(LTV_data(4), i, plot_m=True)\n",
    "\n",
    "for i in range(2, 13):\n",
    "    print(\"Gene \", i+1)\n",
    "    # plot data\n",
    "    t, genes, rawdat, dat = LTV_data(4)\n",
    "    plt.plot(t,rawdat[:,i])\n",
    "    plt.title(\"Raw Data\")\n",
    "    plt.show()\n",
    "    \n",
    "    # mle estimation\n",
    "    #mle_sub(LTV_data(4), i, plot_m=True)\n",
    "    \n",
    "    # map estimation\n",
    "    map_sub(LTV_data(4), i, plot_m=True)"
   ]
  },
  {
   "cell_type": "markdown",
   "id": "215f88fc",
   "metadata": {},
   "source": [
    "# LTV05 Patient"
   ]
  },
  {
   "cell_type": "code",
   "execution_count": null,
   "id": "337e5c74",
   "metadata": {},
   "outputs": [],
   "source": [
    "for i in range(13):\n",
    "    print(\"Gene \", i+1)\n",
    "    # plot data\n",
    "    t, genes, rawdat, dat = LTV_data(5)\n",
    "    plt.plot(t,rawdat[:,i])\n",
    "    plt.title(\"Raw Data\")\n",
    "    plt.show()\n",
    "    \n",
    "    # mle estimation\n",
    "    #mle_sub(LTV_data(5), i, plot_m=True)\n",
    "    \n",
    "    # map estimation\n",
    "    map_sub(LTV_data(5), i, plot_m=True)"
   ]
  },
  {
   "cell_type": "markdown",
   "id": "a10cdab0",
   "metadata": {},
   "source": [
    "# LTV06 Patient"
   ]
  },
  {
   "cell_type": "code",
   "execution_count": null,
   "id": "1947aa26",
   "metadata": {},
   "outputs": [],
   "source": [
    "for i in range(7):\n",
    "    print(\"Gene \", i+1)\n",
    "    # plot data\n",
    "    t, genes, rawdat, dat = LTV_data(6)\n",
    "    plt.plot(t,rawdat[:,i])\n",
    "    plt.title(\"Raw Data\")\n",
    "    plt.show()\n",
    "    \n",
    "    # mle estimation\n",
    "    #mle_sub(LTV_data(6), i, plot_m=True)\n",
    "    \n",
    "    # map estimation\n",
    "    map_sub(LTV_data(6), i, plot_m=True)\n",
    "    \n",
    "i = 7\n",
    "print(\"Gene \", i+1)\n",
    "# plot data\n",
    "t, genes, rawdat, dat = LTV_data(6)\n",
    "plt.plot(t,rawdat[:,i])\n",
    "plt.title(\"Raw Data\")\n",
    "plt.show()\n",
    "\n",
    "# map estimation\n",
    "map_sub(LTV_data(6), i, plot_m=True)\n",
    "\n",
    "for i in range(8,13):\n",
    "    print(\"Gene \", i+1)\n",
    "    # plot data\n",
    "    t, genes, rawdat, dat = LTV_data(6)\n",
    "    plt.plot(t,rawdat[:,i])\n",
    "    plt.title(\"Raw Data\")\n",
    "    plt.show()\n",
    "    \n",
    "    # mle estimation\n",
    "    #mle_sub(LTV_data(6), i, plot_m=True)\n",
    "    \n",
    "    # map estimation\n",
    "    map_sub(LTV_data(6), i, plot_m=True)"
   ]
  },
  {
   "cell_type": "markdown",
   "id": "e11fe765",
   "metadata": {},
   "source": [
    "# Peak to Peak Amplitude"
   ]
  },
  {
   "cell_type": "code",
   "execution_count": null,
   "id": "42b64fa1",
   "metadata": {},
   "outputs": [],
   "source": [
    "def peak2peak_amp(data, i):\n",
    "    \n",
    "    X, Z, m = map_sub(data, i)\n",
    "    \n",
    "    # extract periodic kernel\n",
    "    k1=gpflow.kernels.Periodic(gpflow.kernels.SquaredExponential(), period=24.0)\n",
    "    m1 = gpflow.models.GPR(data=(X,Z), kernel=k1, mean_function=None)\n",
    "    m1.kernel.base_kernel.variance.assign(m.kernel.kernels[0].base_kernel.variance)\n",
    "    m1.kernel.base_kernel.lengthscales.assign(m.kernel.kernels[0].base_kernel.lengthscales)\n",
    "    m1.kernel.period.assign(m.kernel.kernels[0].period)\n",
    "    \n",
    "    ## generate test points for prediction\n",
    "    xx = np.linspace(-72.1, 72.1, 100).reshape(100, 1)  # test points must be of shape (N, D)\n",
    "\n",
    "    ## predict mean and variance of latent GP at test points\n",
    "    mean1, var1 = m1.predict_f(xx)\n",
    "\n",
    "    ## generate 10 samples from posterior\n",
    "    tf.random.set_seed(1)  # for reproducibility\n",
    "    samples = m1.predict_f_samples(xx, 10)  # shape (10, 100, 1)\n",
    "\n",
    "    ## plot\n",
    "    plt.figure(figsize=(12, 6))\n",
    "    plt.plot(xx, mean1, \"C0\", lw=2)\n",
    "\n",
    "    _ = plt.xlim(-25, 25)\n",
    "    plt.show()\n",
    "    \n",
    "    # calculate peak to peak amplitude\n",
    "    maxi = tf.math.reduce_max(mean1)\n",
    "    mini = tf.math.reduce_min(mean1)\n",
    "    amp = maxi-mini\n",
    "    \n",
    "    var = m1.kernel.base_kernel.variance\n",
    "    return amp, var"
   ]
  },
  {
   "cell_type": "code",
   "execution_count": null,
   "id": "f1ff36cc",
   "metadata": {},
   "outputs": [],
   "source": [
    "def mod_corr(data):\n",
    "    # plots correlation between Peak to Peak Amplitude and Signal Standard Deviation\n",
    "    \n",
    "    amps = np.zeros(13)\n",
    "    std = np.zeros(13)\n",
    "    for i in range(13):\n",
    "        amps1, std1 = peak2peak_amp(data, i)\n",
    "        amps[i] = amps1\n",
    "        std[i] = math.sqrt(std1.numpy())\n",
    "    plt.scatter(amps,std)\n",
    "    plt.title(\"Correlation between Peak to Peak Amplitude and Signal Standard Deviation\")\n",
    "    plt.xlabel(\"Peak to Peak Amplitude\")\n",
    "    plt.ylabel(\"Signal Standard Deviation\")\n",
    "    \n",
    "    return amps, std"
   ]
  },
  {
   "cell_type": "markdown",
   "id": "743c9b6b",
   "metadata": {},
   "source": [
    "## Measures of signalling strength and circadian nature"
   ]
  },
  {
   "cell_type": "code",
   "execution_count": null,
   "id": "eabfe207",
   "metadata": {},
   "outputs": [],
   "source": [
    "def Ca(data, i):\n",
    "    \n",
    "    # calculates measure of oscillation strength\n",
    "    X, Z, m = map_sub(data, i)\n",
    "    l_var = m.likelihood.variance.numpy()\n",
    "    sig_var = m.kernel.kernels[0].base_kernel.variance.numpy()\n",
    "    Ca = sig_var / (l_var + sig_var)\n",
    "    \n",
    "    return Ca"
   ]
  },
  {
   "cell_type": "code",
   "execution_count": null,
   "id": "94b1285b",
   "metadata": {},
   "outputs": [],
   "source": [
    "def Cp(data, i):\n",
    "    \n",
    "    # measure of how circadian the period is\n",
    "    X, Z, m = map_sub(data, i)\n",
    "    lscales = m.kernel.kernels[0].base_kernel.lengthscales.numpy()\n",
    "    \n",
    "    return lscales"
   ]
  },
  {
   "cell_type": "code",
   "execution_count": null,
   "id": "8e2e31ae",
   "metadata": {},
   "outputs": [],
   "source": [
    "def C_measure(data, i):\n",
    "    \n",
    "    # overall measure of gene\n",
    "    C_measure = Ca(data,i)*Cp(data,i)\n",
    "    \n",
    "    return C_measure"
   ]
  },
  {
   "cell_type": "code",
   "execution_count": null,
   "id": "d808e764",
   "metadata": {},
   "outputs": [],
   "source": [
    "def C_plot_list(data):\n",
    "    \n",
    "    Ca_list = np.zeros(13)\n",
    "    Cp_list = np.zeros(13)\n",
    "    C_measure_list = np.zeros(13)\n",
    "    for i in range(13):\n",
    "        Ca_list[i] = Ca(data, i)\n",
    "        Cp_list[i] = Cp(data, i)\n",
    "        C_measure_list[i] = C_measure(data, i)\n",
    "\n",
    "    plt.scatter(Ca_list, Cp_list)\n",
    "    plt.xlabel(\"C_a\")\n",
    "    plt.ylabel(\"C_p\")\n",
    "\n",
    "    return C_measure_list"
   ]
  },
  {
   "cell_type": "markdown",
   "id": "2955d558",
   "metadata": {},
   "source": [
    "## ACU01"
   ]
  },
  {
   "cell_type": "code",
   "execution_count": null,
   "id": "c79deb08",
   "metadata": {
    "scrolled": true
   },
   "outputs": [],
   "source": [
    "mod_corr(ACU_data(1))"
   ]
  },
  {
   "cell_type": "markdown",
   "id": "5f9d5253",
   "metadata": {},
   "source": [
    "## ACU02"
   ]
  },
  {
   "cell_type": "code",
   "execution_count": null,
   "id": "3a311855",
   "metadata": {
    "scrolled": true
   },
   "outputs": [],
   "source": [
    "mod_corr(ACU_data(2))"
   ]
  },
  {
   "cell_type": "markdown",
   "id": "3d77a159",
   "metadata": {},
   "source": [
    "## ACU03"
   ]
  },
  {
   "cell_type": "code",
   "execution_count": null,
   "id": "d1847ad6",
   "metadata": {},
   "outputs": [],
   "source": [
    "mod_corr(ACU_data(3))"
   ]
  },
  {
   "cell_type": "markdown",
   "id": "b53b4216",
   "metadata": {},
   "source": [
    "## ACU04"
   ]
  },
  {
   "cell_type": "code",
   "execution_count": null,
   "id": "326fccc5",
   "metadata": {
    "scrolled": true
   },
   "outputs": [],
   "source": [
    "mod_corr(ACU_data(4))"
   ]
  },
  {
   "cell_type": "markdown",
   "id": "d420982c",
   "metadata": {},
   "source": [
    "## ACU05"
   ]
  },
  {
   "cell_type": "code",
   "execution_count": null,
   "id": "f143d4b5",
   "metadata": {
    "scrolled": true
   },
   "outputs": [],
   "source": [
    "mod_corr(ACU_data(5))"
   ]
  },
  {
   "cell_type": "markdown",
   "id": "570341f2",
   "metadata": {},
   "source": [
    "## ACU06"
   ]
  },
  {
   "cell_type": "code",
   "execution_count": null,
   "id": "47aec1b7",
   "metadata": {},
   "outputs": [],
   "source": [
    "mod_corr(ACU_data(6))"
   ]
  },
  {
   "cell_type": "markdown",
   "id": "ac173184",
   "metadata": {},
   "source": [
    "## ACU07"
   ]
  },
  {
   "cell_type": "code",
   "execution_count": null,
   "id": "1b4f503d",
   "metadata": {},
   "outputs": [],
   "source": [
    "mod_corr(ACU_data(7))"
   ]
  },
  {
   "cell_type": "markdown",
   "id": "1eb58793",
   "metadata": {},
   "source": [
    "### Correlation of all ACU cohort"
   ]
  },
  {
   "cell_type": "code",
   "execution_count": null,
   "id": "5093ab90",
   "metadata": {},
   "outputs": [],
   "source": [
    "# correlation of all ACU cohort\n",
    "amps_a = np.zeros((7,13))\n",
    "std_a = np.zeros((7,13))\n",
    "for j in range(1,8):\n",
    "    amps = np.zeros(13)\n",
    "    std = np.zeros(13)\n",
    "    for i in range(13):\n",
    "        amps1, std1 = peak2peak_amp(ACU_data(j), i)\n",
    "        amps[i] = amps1\n",
    "        std[i] = math.sqrt(std1.numpy())\n",
    "    amps_a[j-1]=amps\n",
    "    std_a[j-1]=std\n",
    "amps_a=amps_a.tolist()\n",
    "std_a=std_a.tolist()"
   ]
  },
  {
   "cell_type": "code",
   "execution_count": null,
   "id": "5c0f8cc9",
   "metadata": {},
   "outputs": [],
   "source": [
    "# plot correlation\n",
    "plt.figure(figsize=(10,6))\n",
    "plt.scatter(amps_a,std_a)\n",
    "plt.title(\"Correlation between Peak to Peak Amplitude and Signal Standard Deviation for ACU cohort\")\n",
    "plt.xlabel(\"Peak to Peak Amplitude\")\n",
    "plt.ylabel(\"Signal Standard Deviation\")\n",
    "plt.show()"
   ]
  },
  {
   "cell_type": "markdown",
   "id": "eda362bc",
   "metadata": {},
   "source": [
    "## LTV01"
   ]
  },
  {
   "cell_type": "code",
   "execution_count": null,
   "id": "f70b14a8",
   "metadata": {},
   "outputs": [],
   "source": [
    "mod_corr(LTV_data(1))"
   ]
  },
  {
   "cell_type": "markdown",
   "id": "1debb66f",
   "metadata": {},
   "source": [
    "## LTV02"
   ]
  },
  {
   "cell_type": "code",
   "execution_count": null,
   "id": "8089794f",
   "metadata": {
    "scrolled": true
   },
   "outputs": [],
   "source": [
    "mod_corr(LTV_data(2))"
   ]
  },
  {
   "cell_type": "markdown",
   "id": "485c18c2",
   "metadata": {},
   "source": [
    "## LTV03"
   ]
  },
  {
   "cell_type": "code",
   "execution_count": null,
   "id": "adc68e15",
   "metadata": {},
   "outputs": [],
   "source": [
    "mod_corr(LTV_data(3))"
   ]
  },
  {
   "cell_type": "markdown",
   "id": "bcc89aa9",
   "metadata": {},
   "source": [
    "## LTV04"
   ]
  },
  {
   "cell_type": "code",
   "execution_count": null,
   "id": "8a98b583",
   "metadata": {},
   "outputs": [],
   "source": [
    "mod_corr(LTV_data(4))"
   ]
  },
  {
   "cell_type": "markdown",
   "id": "68cb043d",
   "metadata": {},
   "source": [
    "## LTV05"
   ]
  },
  {
   "cell_type": "code",
   "execution_count": null,
   "id": "0ff1e41c",
   "metadata": {},
   "outputs": [],
   "source": [
    "mod_corr(LTV_data(5))"
   ]
  },
  {
   "cell_type": "markdown",
   "id": "827c7f0f",
   "metadata": {},
   "source": [
    "## LTV06"
   ]
  },
  {
   "cell_type": "code",
   "execution_count": null,
   "id": "b1135ea5",
   "metadata": {},
   "outputs": [],
   "source": [
    "mod_corr(LTV_data(6))"
   ]
  },
  {
   "cell_type": "markdown",
   "id": "3c520aae",
   "metadata": {},
   "source": [
    "## Scattergram of measures\n",
    "\n",
    "### ACU patients on one plot"
   ]
  },
  {
   "cell_type": "code",
   "execution_count": null,
   "id": "5561dbd6",
   "metadata": {},
   "outputs": [],
   "source": [
    "C_pl_a = np.zeros(shape=(7,13)) # an array to store C_measure\n",
    "plt.figure(figsize=(6,6))\n",
    "plt.xlim([0, 1])\n",
    "plt.ylim([0, 1])\n",
    "for i in range(1, 8):\n",
    "    C_pl_a[i-1]=C_plot_list(ACU_data(i))\n",
    "plt.show()\n",
    "C_pl_a"
   ]
  },
  {
   "cell_type": "markdown",
   "id": "a5c87d1d",
   "metadata": {},
   "source": [
    "### ACU patients on separate plots"
   ]
  },
  {
   "cell_type": "code",
   "execution_count": null,
   "id": "88c64728",
   "metadata": {},
   "outputs": [],
   "source": [
    "for i in range(1, 8):\n",
    "    C_plot_list(ACU_data(i))\n",
    "    print(\"ACU Patient\", i)\n",
    "    plt.show()"
   ]
  },
  {
   "cell_type": "markdown",
   "id": "260da3b0",
   "metadata": {},
   "source": [
    "### LTV patients on one plot"
   ]
  },
  {
   "cell_type": "code",
   "execution_count": null,
   "id": "d57508ff",
   "metadata": {},
   "outputs": [],
   "source": [
    "C_pl_l = np.zeros(shape=(6,13)) # an array to store C_measure\n",
    "plt.figure(figsize=(6,6))\n",
    "plt.xlim([0, 1])\n",
    "plt.ylim([0, 1])\n",
    "for i in range(1, 7):\n",
    "    C_pl_l[i-1] = C_plot_list(LTV_data(i))\n",
    "plt.title(\"C_a vs C_p for LTV dupdat\")\n",
    "plt.show()    \n",
    "C_pl_l"
   ]
  },
  {
   "cell_type": "markdown",
   "id": "4203987d",
   "metadata": {},
   "source": [
    "### LTV patients on separate plots"
   ]
  },
  {
   "cell_type": "code",
   "execution_count": null,
   "id": "ed2f12f6",
   "metadata": {},
   "outputs": [],
   "source": [
    "for i in range(1, 7):\n",
    "    C_plot_list(LTV_data(i))\n",
    "    print(\"LTV Patient\", i)\n",
    "    plt.show()"
   ]
  },
  {
   "cell_type": "markdown",
   "id": "9bc2ec83",
   "metadata": {},
   "source": [
    "### Maximum Score for ACU patients"
   ]
  },
  {
   "cell_type": "code",
   "execution_count": null,
   "id": "22acf64c",
   "metadata": {
    "scrolled": true
   },
   "outputs": [],
   "source": [
    "np.max(C_pl_a)"
   ]
  },
  {
   "cell_type": "markdown",
   "id": "1b773fe5",
   "metadata": {},
   "source": [
    "### Maximum Score for LTV patients"
   ]
  },
  {
   "cell_type": "code",
   "execution_count": null,
   "id": "68176b82",
   "metadata": {},
   "outputs": [],
   "source": [
    "np.max(C_pl_l)"
   ]
  },
  {
   "cell_type": "markdown",
   "id": "109ad751",
   "metadata": {},
   "source": [
    "## Box Plots for Period\n",
    "\n",
    "### ACU patients"
   ]
  },
  {
   "cell_type": "code",
   "execution_count": null,
   "id": "c99111b1",
   "metadata": {},
   "outputs": [],
   "source": [
    "periods_a = np.zeros((7,13))\n",
    "for j in range(1,8):\n",
    "    period = np.zeros(13)\n",
    "    for i in range(13):\n",
    "        X, Z, m = map_sub(ACU_data(j),i)\n",
    "        period[i]=m.kernel.kernels[0].period.numpy()\n",
    "    periods_a[j-1]=period"
   ]
  },
  {
   "cell_type": "code",
   "execution_count": null,
   "id": "2dea25c2",
   "metadata": {
    "scrolled": true
   },
   "outputs": [],
   "source": [
    "plt.figure(figsize=(12,8))\n",
    "plt.boxplot(periods_a, labels=genes)\n",
    "plt.axhline(y=24, linestyle='-')\n",
    "plt.title(\"Spread of Periods among ACU patients (Average Data)\")\n",
    "plt.xlabel(\"Genes\")\n",
    "plt.yticks(np.arange(14,36))\n",
    "plt.ylabel(\"Period (hr)\")\n",
    "plt.ylim([14,36])"
   ]
  },
  {
   "cell_type": "code",
   "execution_count": null,
   "id": "845fb75a",
   "metadata": {},
   "outputs": [],
   "source": [
    "a = np.arange(1,14)\n",
    "ad_a = np.concatenate((a,a,a,a,a,a,a))\n",
    "lists_a=np.reshape((periods_a),np.shape(ad_a))"
   ]
  },
  {
   "cell_type": "code",
   "execution_count": null,
   "id": "03fd7643",
   "metadata": {},
   "outputs": [],
   "source": [
    "plt.figure(figsize=(12,8))\n",
    "plt.violinplot(periods_a, showmeans=True)\n",
    "plt.axhline(y=24, linestyle='-')\n",
    "plt.scatter(ad_a,lists_a,c='k')\n",
    "plt.title(\"Spread of Periods among ACU patients (Average Data)\")\n",
    "plt.xlabel(\"Genes\")\n",
    "plt.xticks(np.arange(1,14), labels=genes)\n",
    "plt.yticks(np.arange(14,37))\n",
    "plt.ylabel(\"Period (hr)\")\n",
    "plt.ylim([14,36])"
   ]
  },
  {
   "cell_type": "markdown",
   "id": "d34fa980",
   "metadata": {},
   "source": [
    "### LTV patients"
   ]
  },
  {
   "cell_type": "code",
   "execution_count": null,
   "id": "96e8ffa1",
   "metadata": {},
   "outputs": [],
   "source": [
    "periods_l = np.zeros((6,13))\n",
    "for j in range(1,7):\n",
    "    period = np.zeros(13)\n",
    "    for i in range(13):\n",
    "        X, Z, m = map_sub(LTV_data(j),i)\n",
    "        period[i]=m.kernel.kernels[0].period.numpy()\n",
    "    periods_l[j-1]=period"
   ]
  },
  {
   "cell_type": "code",
   "execution_count": null,
   "id": "2b3d9648",
   "metadata": {
    "scrolled": true
   },
   "outputs": [],
   "source": [
    "plt.figure(figsize=(12,8))\n",
    "plt.boxplot(periods_l,labels=genes)\n",
    "plt.axhline(y=24, linestyle='-')\n",
    "plt.title(\"Spread of Periods among LTV patients (Average Data)\")\n",
    "plt.xlabel(\"Genes\")\n",
    "plt.yticks(np.arange(14,36))\n",
    "plt.ylabel(\"Period (hr)\")\n",
    "plt.ylim([14,36])"
   ]
  },
  {
   "cell_type": "code",
   "execution_count": null,
   "id": "d9b0fe7b",
   "metadata": {},
   "outputs": [],
   "source": [
    "a = np.arange(1,14)\n",
    "ad_l = np.concatenate((a,a,a,a,a,a))\n",
    "lists_l=np.reshape((periods_l),np.shape(ad_l))"
   ]
  },
  {
   "cell_type": "code",
   "execution_count": null,
   "id": "6fd86e28",
   "metadata": {},
   "outputs": [],
   "source": [
    "plt.figure(figsize=(12,8))\n",
    "plt.violinplot(periods_l,showmeans=True)\n",
    "plt.axhline(y=24, linestyle='-')\n",
    "plt.scatter(ad_l,lists_l,c='k')\n",
    "plt.title(\"Spread of Periods among LTV patients (Average Data)\")\n",
    "plt.xlabel(\"Genes\")\n",
    "plt.xticks(np.arange(1,14), labels=genes)\n",
    "plt.yticks(np.arange(14,37))\n",
    "plt.ylabel(\"Period (hr)\")\n",
    "plt.ylim([14,36])"
   ]
  },
  {
   "cell_type": "markdown",
   "id": "33ee451d",
   "metadata": {},
   "source": [
    "## Is it circadian?"
   ]
  },
  {
   "cell_type": "code",
   "execution_count": null,
   "id": "f4631e5c",
   "metadata": {},
   "outputs": [],
   "source": [
    "def CircCheck(data, i):\n",
    "    X, Z, m = map_sub(data, i)\n",
    "    l_var = m.likelihood.variance.numpy()\n",
    "    sig_var = m.kernel.kernels[0].base_kernel.variance.numpy()\n",
    "    lscales = m.kernel.kernels[0].base_kernel.lengthscales.numpy()\n",
    "    period = m.kernel.kernels[0].period\n",
    "    if sig_var>0.1 and 20<=period<=28 and lscales>0.5:\n",
    "        CircCheck = True\n",
    "    else:\n",
    "        CircCheck = False\n",
    "    return CircCheck"
   ]
  },
  {
   "cell_type": "code",
   "execution_count": null,
   "id": "1bcba257",
   "metadata": {},
   "outputs": [],
   "source": [
    "CC_grid_a = np.zeros((7,13))\n",
    "for j in range(1,8):\n",
    "    for i in range(13):\n",
    "        CC_grid_a[j-1,i]=CircCheck(ACU_data(j),i)\n",
    "print(CC_grid_a)"
   ]
  },
  {
   "cell_type": "code",
   "execution_count": null,
   "id": "3199f603",
   "metadata": {},
   "outputs": [],
   "source": [
    "CC_list_a = np.zeros(13)\n",
    "for i in range(13):\n",
    "    CC_list_a[i] = 100*((CC_grid_a[:,i] == 1).sum())/7\n",
    "\n",
    "plt.figure(figsize=(12,8))\n",
    "plt.bar(np.arange(1,14), CC_list_a)\n",
    "plt.title('Percentage of Genes that are Circadian in ACU cohort')\n",
    "plt.xlabel('Genes')\n",
    "plt.xticks(np.arange(1,14),genes)\n",
    "plt.ylabel('Percentage')"
   ]
  },
  {
   "cell_type": "code",
   "execution_count": null,
   "id": "bf9cf265",
   "metadata": {},
   "outputs": [],
   "source": [
    "CC_olist_a = np.zeros(7)\n",
    "for i in range(7):\n",
    "    CC_olist_a[i] = (CC_grid_a[i] == 1).sum()\n",
    "plt.bar(['ACU01','ACU02','ACU03','ACU04','ACU05','ACU06','ACU07'], CC_olist_a)\n",
    "plt.title('Number of Circadian Genes found in each Patient')\n",
    "plt.xlabel('Patients')\n",
    "plt.ylabel('Number of genes')"
   ]
  },
  {
   "cell_type": "code",
   "execution_count": null,
   "id": "cc4426e0",
   "metadata": {},
   "outputs": [],
   "source": [
    "CC_grid_l = np.zeros((6,13))\n",
    "for j in range(1,7):\n",
    "    for i in range(13):\n",
    "        CC_grid_l[j-1,i]=CircCheck(LTV_data(j),i)"
   ]
  },
  {
   "cell_type": "code",
   "execution_count": null,
   "id": "438c521c",
   "metadata": {},
   "outputs": [],
   "source": [
    "CC_list_l = np.zeros(13)\n",
    "for i in range(13):\n",
    "    CC_list_l[i] = 100*((CC_grid_l[:,i] == 1).sum())/6\n",
    "\n",
    "plt.figure(figsize=(12,8))\n",
    "plt.bar(np.arange(1,14), CC_list_l)\n",
    "plt.title('Percentage of Genes that are Circadian in LTV cohort')\n",
    "plt.xlabel('Genes')\n",
    "plt.xticks(np.arange(1,14),genes)\n",
    "plt.ylabel('Percentage')"
   ]
  },
  {
   "cell_type": "code",
   "execution_count": null,
   "id": "788fcb06",
   "metadata": {},
   "outputs": [],
   "source": [
    "CC_olist_l = np.zeros(6)\n",
    "for i in range(6):\n",
    "    CC_olist_l[i] = (CC_grid_l[i] == 1).sum()\n",
    "plt.bar(['LTV01','LTV02','LTV03','LTV04','LTV05','LTV06'], CC_olist_l)\n",
    "plt.title('Number of Circadian Genes found in each Patient')\n",
    "plt.xlabel('Patients')\n",
    "plt.ylabel('Number of genes')"
   ]
  },
  {
   "cell_type": "code",
   "execution_count": null,
   "id": "ffe502d1",
   "metadata": {
    "scrolled": false
   },
   "outputs": [],
   "source": [
    "CC_olist=np.concatenate((CC_olist_a,CC_olist_l))\n",
    "plt.figure(figsize=(12,8))\n",
    "plt.bar(['ACU01','ACU02','ACU03','ACU04','ACU05','ACU06','ACU07','LTV01','LTV02','LTV03','LTV04','LTV05','LTV06'], CC_olist)\n",
    "plt.title('Number of Circadian Genes found in each Patient')\n",
    "plt.xlabel('Patients')\n",
    "plt.ylabel('Number of genes')\n",
    "plt.yticks(np.arange(1,10))"
   ]
  }
 ],
 "metadata": {
  "kernelspec": {
   "display_name": "Python 3",
   "language": "python",
   "name": "python3"
  },
  "language_info": {
   "codemirror_mode": {
    "name": "ipython",
    "version": 3
   },
   "file_extension": ".py",
   "mimetype": "text/x-python",
   "name": "python",
   "nbconvert_exporter": "python",
   "pygments_lexer": "ipython3",
   "version": "3.8.10"
  }
 },
 "nbformat": 4,
 "nbformat_minor": 5
}
