{
 "cells": [
  {
   "cell_type": "code",
   "execution_count": null,
   "id": "aa9990d1",
   "metadata": {},
   "outputs": [],
   "source": [
    "import numpy as np\n",
    "import gpflow\n",
    "import tensorflow_probability as tfp\n",
    "from tensorflow_probability import distributions as tfd\n",
    "import matplotlib.pyplot as plt\n",
    "import tensorflow as tf\n",
    "from gpflow.utilities import print_summary, set_trainable, to_default_float, positive\n",
    "import statistics\n",
    "from scipy import stats\n",
    "from scipy import io\n",
    "from scipy.stats import gamma\n",
    "import random\n",
    "# from gpflow.utilities import print_summary, positive\n",
    "import math\n",
    "from gpflow.ci_utils import ci_niter\n",
    "#import plot_from_samples, colors\n",
    "colors = [\"#1f77b4\", \"#ff7f0e\", \"#2ca02c\"]"
   ]
  },
  {
   "cell_type": "code",
   "execution_count": null,
   "id": "d6366793",
   "metadata": {},
   "outputs": [],
   "source": [
    "# load data\n",
    "annots = io.loadmat('ACU01dup')\n",
    "annots2 = io.loadmat('ACU02dup')\n",
    "annots3 = io.loadmat('ACU03dup')\n",
    "annots4 = io.loadmat('ACU04dup')\n",
    "annots5 = io.loadmat('ACU05dup')\n",
    "annots6 = io.loadmat('ACU06dup')\n",
    "annots7 = io.loadmat('ACU07dup')\n",
    "annot = io.loadmat('LTV01dup')\n",
    "annot2 = io.loadmat('LTV02dup')\n",
    "annot3 = io.loadmat('LTV03dup')\n",
    "annot4 = io.loadmat('LTV04dup')\n",
    "annot5 = io.loadmat('LTV05dup')\n",
    "annot6 = io.loadmat('LTV06dup')"
   ]
  },
  {
   "cell_type": "code",
   "execution_count": null,
   "id": "dbe2731b",
   "metadata": {},
   "outputs": [],
   "source": [
    "def ACU_data(i):\n",
    "    \n",
    "    if i == 1:\n",
    "        t=np.squeeze(annots['ACU01dup'][0][0]['t'])\n",
    "        genes=np.squeeze(annots['ACU01dup'][0][0]['genes'])\n",
    "        rawdat=np.squeeze(annots['ACU01dup'][0][0]['rawdat'])\n",
    "        dat=np.squeeze(annots['ACU01dup'][0][0]['dat'])\n",
    "        \n",
    "    elif i == 2:\n",
    "        t=np.squeeze(annots2['ACU02dup'][0][0]['t'])\n",
    "        genes=np.squeeze(annots2['ACU02dup'][0][0]['genes'])\n",
    "        rawdat=np.squeeze(annots2['ACU02dup'][0][0]['rawdat'])\n",
    "        dat=np.squeeze(annots2['ACU02dup'][0][0]['dat'])\n",
    "        \n",
    "    elif i == 3:\n",
    "        t=np.squeeze(annots3['ACU03dup'][0][0]['t'])\n",
    "        genes=np.squeeze(annots3['ACU03dup'][0][0]['genes'])\n",
    "        rawdat=np.squeeze(annots3['ACU03dup'][0][0]['rawdat'])\n",
    "        dat=np.squeeze(annots3['ACU03dup'][0][0]['dat'])\n",
    "        \n",
    "    elif i == 4:\n",
    "        t=np.squeeze(annots4['ACU04dup'][0][0]['t'])\n",
    "        genes=np.squeeze(annots4['ACU04dup'][0][0]['genes'])\n",
    "        rawdat=np.squeeze(annots4['ACU04dup'][0][0]['rawdat'])\n",
    "        dat=np.squeeze(annots4['ACU04dup'][0][0]['dat'])\n",
    "        \n",
    "    elif i == 5:\n",
    "        t=np.squeeze(annots5['ACU05dup'][0][0]['t'])\n",
    "        genes=np.squeeze(annots5['ACU05dup'][0][0]['genes'])\n",
    "        rawdat=np.squeeze(annots5['ACU05dup'][0][0]['rawdat'])\n",
    "        dat=np.squeeze(annots5['ACU05dup'][0][0]['dat'])\n",
    "        \n",
    "    elif i == 6:\n",
    "        t=np.squeeze(annots6['ACU06dup'][0][0]['t'])\n",
    "        genes=np.squeeze(annots6['ACU06dup'][0][0]['genes'])\n",
    "        rawdat=np.squeeze(annots6['ACU06dup'][0][0]['rawdat'])\n",
    "        dat=np.squeeze(annots6['ACU06dup'][0][0]['dat'])\n",
    "        \n",
    "    elif i == 7:\n",
    "        t=np.squeeze(annots7['ACU07dup'][0][0]['t'])\n",
    "        genes=np.squeeze(annots7['ACU07dup'][0][0]['genes'])\n",
    "        rawdat=np.squeeze(annots7['ACU07dup'][0][0]['rawdat'])\n",
    "        dat=np.squeeze(annots7['ACU07dup'][0][0]['dat'])\n",
    "        \n",
    "    return t, genes, rawdat, dat"
   ]
  },
  {
   "cell_type": "code",
   "execution_count": null,
   "id": "81f98496",
   "metadata": {},
   "outputs": [],
   "source": [
    "def LTV_data(i):\n",
    "    \n",
    "    if i == 1:\n",
    "        t=np.squeeze(annot['LTV01dup'][0][0]['t'])\n",
    "        genes=np.squeeze(annot['LTV01dup'][0][0]['genes'])\n",
    "        rawdat=np.squeeze(annot['LTV01dup'][0][0]['rawdat'])\n",
    "        dat=np.squeeze(annot['LTV01dup'][0][0]['dat'])\n",
    "        \n",
    "    elif i == 2:\n",
    "        t=np.squeeze(annot2['LTV02dup'][0][0]['t'])\n",
    "        genes=np.squeeze(annot2['LTV02dup'][0][0]['genes'])\n",
    "        rawdat=np.squeeze(annot2['LTV02dup'][0][0]['rawdat'])\n",
    "        dat=np.squeeze(annot2['LTV02dup'][0][0]['dat'])\n",
    "        \n",
    "    elif i == 3:\n",
    "        t=np.squeeze(annot3['LTV03dup'][0][0]['t'])\n",
    "        genes=np.squeeze(annot3['LTV03dup'][0][0]['genes'])\n",
    "        rawdat=np.squeeze(annot3['LTV03dup'][0][0]['rawdat'])\n",
    "        dat=np.squeeze(annot3['LTV03dup'][0][0]['dat'])\n",
    "        \n",
    "    elif i == 4:\n",
    "        t=np.squeeze(annot4['LTV04dup'][0][0]['t'])\n",
    "        genes=np.squeeze(annot4['LTV04dup'][0][0]['genes'])\n",
    "        rawdat=np.squeeze(annot4['LTV04dup'][0][0]['rawdat'])\n",
    "        dat=np.squeeze(annot4['LTV04dup'][0][0]['dat'])\n",
    "        \n",
    "    elif i == 5:\n",
    "        t=np.squeeze(annot5['LTV05dup'][0][0]['t'])\n",
    "        genes=np.squeeze(annot5['LTV05dup'][0][0]['genes'])\n",
    "        rawdat=np.squeeze(annot5['LTV05dup'][0][0]['rawdat'])\n",
    "        dat=np.squeeze(annot5['LTV05dup'][0][0]['dat'])\n",
    "        \n",
    "    elif i == 6:\n",
    "        t=np.squeeze(annot6['LTV06dup'][0][0]['t'])\n",
    "        genes=np.squeeze(annot6['LTV06dup'][0][0]['genes'])\n",
    "        rawdat=np.squeeze(annot6['LTV06dup'][0][0]['rawdat'])\n",
    "        dat=np.squeeze(annot6['LTV06dup'][0][0]['dat'])\n",
    "        \n",
    "    return t, genes, rawdat, dat"
   ]
  },
  {
   "cell_type": "code",
   "execution_count": null,
   "id": "cf215ad2",
   "metadata": {},
   "outputs": [],
   "source": [
    "def mean2(data):\n",
    "    n=len(data)\n",
    "    mean=sum(data)/n\n",
    "    return mean"
   ]
  },
  {
   "cell_type": "code",
   "execution_count": null,
   "id": "97bd8fb0",
   "metadata": {},
   "outputs": [],
   "source": [
    "class OffsetLinear(gpflow.kernels.Kernel):\n",
    "    # define a linear kernel with  an offset\n",
    "    def __init__(self, variance=1.0, offset=0.001, active_dims=None):\n",
    "        super().__init__(active_dims)\n",
    "        self.variance = gpflow.Parameter(variance, transform=positive())\n",
    "        self.offset = gpflow.Parameter(offset, transform=positive())\n",
    "        self._validate_ard_active_dims(self.variance)\n",
    "        \n",
    "    @property\n",
    "    def ard(self) -> bool:\n",
    "        \"\"\"\n",
    "        Whether ARD behaviour is active.\n",
    "        \"\"\"\n",
    "        return self.variance.shape.ndims > 0\n",
    "\n",
    "    def K(self, X, X2=None):\n",
    "        if X2 is None:\n",
    "            return tf.matmul(tf.subtract(X, self.offset) * self.variance, tf.subtract(X,self.offset), transpose_b=True)\n",
    "        else:\n",
    "            return tf.tensordot(tf.subtract(X, self.offset) * self.variance, tf.subtract(X2,self.offset), [[-1], [-1]])\n",
    "\n",
    "    def K_diag(self, X):\n",
    "        return tf.reduce_sum(tf.square(tf.subtract(X, self.offset)) * self.variance, axis=-1)"
   ]
  },
  {
   "cell_type": "markdown",
   "id": "fd02a51c",
   "metadata": {},
   "source": [
    "## Samples from OffsetLinear Kernel's Priors"
   ]
  },
  {
   "cell_type": "code",
   "execution_count": null,
   "id": "85cd9267",
   "metadata": {},
   "outputs": [],
   "source": [
    "k_offset = OffsetLinear()\n",
    "print_summary(k_offset, fmt=\"notebook\")"
   ]
  },
  {
   "cell_type": "code",
   "execution_count": null,
   "id": "95ec56ee",
   "metadata": {},
   "outputs": [],
   "source": [
    "np.random.seed(30)  # for reproducibility\n",
    "\n",
    "def plotkernelsample(k, ax, xmin=0, xmax=3):\n",
    "    # function to plot prior samples from gpflow docs\n",
    "    xx = np.linspace(xmin, xmax, 300)[:, None]\n",
    "    K = k(xx)\n",
    "    ax.plot(xx, np.random.multivariate_normal(np.zeros(300), K, 5).T)\n",
    "    ax.set_title(\"Samples \" + k.__class__.__name__)"
   ]
  },
  {
   "cell_type": "code",
   "execution_count": null,
   "id": "a0e7ae61",
   "metadata": {},
   "outputs": [],
   "source": [
    "f, ax = plt.subplots(figsize=(12,6))\n",
    "plotkernelsample(k_offset, ax)"
   ]
  },
  {
   "cell_type": "code",
   "execution_count": null,
   "id": "bb9923de",
   "metadata": {},
   "outputs": [],
   "source": [
    "def shape_data(data, i):\n",
    "    # convert data t a usable shape\n",
    "    t, genes, rawdat, dat = data # extract data\n",
    "    \n",
    "    # concatenate duplicates\n",
    "    rawdata = np.concatenate([rawdat[:,:,i][0],rawdat[:,:,i][1]])\n",
    "    time = np.concatenate([t,t])\n",
    "    \n",
    "    # extract nans\n",
    "    notnan = ~np.isnan(rawdata) # mark any numbers\n",
    "    rawdata = rawdata[notnan] # extract numbers\n",
    "    time = time[notnan] # extract corresponding times\n",
    "    n = np.size(rawdata)\n",
    "    \n",
    "    # convert data to right shape\n",
    "    X = time.reshape(n,1)\n",
    "    X = tf.cast(X, tf.double)\n",
    "    X.numpy()\n",
    "    Z = rawdata.reshape(n,1)\n",
    "    Z = tf.cast(Z, tf.double)\n",
    "    Z.numpy()\n",
    "    Z = stats.zscore(Z) # z-score raw data\n",
    "    \n",
    "    return X, Z"
   ]
  },
  {
   "cell_type": "code",
   "execution_count": null,
   "id": "34249647",
   "metadata": {},
   "outputs": [],
   "source": [
    "def our_kernel(period=24.0, off_var=0.001, offset=0.001):\n",
    "    \n",
    "    # define kernel\n",
    "    k1=gpflow.kernels.Periodic(gpflow.kernels.SquaredExponential(), period=period) # periodic kernel\n",
    "    k2=OffsetLinear(variance=off_var, offset=offset) # offset kernel\n",
    "    k3=gpflow.kernels.Constant(0.001)\n",
    "    k=k1+k2+k3\n",
    "    \n",
    "    return k"
   ]
  },
  {
   "cell_type": "markdown",
   "id": "47714865",
   "metadata": {},
   "source": [
    "## Samples from Combined Kernel's Priors"
   ]
  },
  {
   "cell_type": "code",
   "execution_count": null,
   "id": "23aebaa6",
   "metadata": {},
   "outputs": [],
   "source": [
    "np.random.seed(23)\n",
    "k = our_kernel()\n",
    "f, ax = plt.subplots(figsize=(12,6))\n",
    "plotkernelsample(k, ax, xmax = 50)\n",
    "plt.title(\"Samples from Priors of Combined Kernel\")"
   ]
  },
  {
   "cell_type": "code",
   "execution_count": null,
   "id": "9a4d7121",
   "metadata": {},
   "outputs": [],
   "source": [
    "def plot_mod(X, Z, m, pl_start = -5, pl_end = 55):\n",
    "    \n",
    "    ## generate test points for prediction\n",
    "    xx = np.linspace(-72.1, 72.1, 100).reshape(100, 1)\n",
    "\n",
    "    ## predict mean and variance of latent GP at test points\n",
    "    mean, var = m.predict_f(xx) # predict mean and variance from model\n",
    "\n",
    "    ## generate 10 samples from posterior\n",
    "    tf.random.set_seed(1)  # for reproducibility\n",
    "    samples = m.predict_f_samples(xx, 10)  # predict samples\n",
    "\n",
    "    ## plot\n",
    "    plt.figure(figsize=(12, 6))\n",
    "    plt.plot(X, Z, \"kx\", mew=2) # plot data\n",
    "    plt.plot(xx, mean, \"C0\", lw=2) # plot predicted mean\n",
    "    plt.fill_between(\n",
    "        xx[:, 0],\n",
    "        mean[:, 0] - 1.96 * np.sqrt(var[:, 0]),\n",
    "        mean[:, 0] + 1.96 * np.sqrt(var[:, 0]),\n",
    "        color=\"C0\",\n",
    "        alpha=0.2,\n",
    "    ) # plot uncertainty window\n",
    "\n",
    "    plt.plot(xx, samples[:, :, 0].numpy().T, \"C0\", linewidth=0.5)\n",
    "    _ = plt.xlim(pl_start, pl_end)\n",
    "    plt.title(\"Samples from Posterior Distribution\")\n",
    "    plt.show()"
   ]
  },
  {
   "cell_type": "code",
   "execution_count": null,
   "id": "0dc447dd",
   "metadata": {},
   "outputs": [],
   "source": [
    "def load_priors(k):\n",
    "    \n",
    "    k.kernels[0].base_kernel.variance.prior = tfp.distributions.Gamma(\n",
    "        to_default_float(2), to_default_float(1)\n",
    "    ) \n",
    "\n",
    "    k.kernels[0].base_kernel.lengthscales.prior = tfp.distributions.Gamma(\n",
    "        to_default_float(2), to_default_float(1)\n",
    "    )\n",
    "    k.kernels[0].period.prior = tfp.distributions.Gamma(\n",
    "       to_default_float(25), to_default_float(1)\n",
    "    )\n",
    "    k.kernels[1].variance.prior = tfp.distributions.Gamma(\n",
    "       to_default_float(2), to_default_float(1000)\n",
    "    )\n",
    "    k.kernels[1].offset.prior = tfp.distributions.Gamma(\n",
    "       to_default_float(2), to_default_float(1000)\n",
    "    )\n",
    "    k.kernels[2].variance.prior = tfp.distributions.Gamma(\n",
    "       to_default_float(2), to_default_float(1000)\n",
    "    )\n",
    "    return k"
   ]
  },
  {
   "cell_type": "code",
   "execution_count": null,
   "id": "5f246bce",
   "metadata": {},
   "outputs": [],
   "source": [
    "def mle_sub(data, i, period=24.0, off_var=0.001, offset=0.001, plot_m=False):\n",
    "    \n",
    "    # function to compute MLE for ACU patient with time subtracted mean\n",
    "    X, Z = shape_data(data, i)\n",
    "    \n",
    "    # subtract mean\n",
    "    X_orig = X\n",
    "    X = X_orig - mean2(X_orig)\n",
    "    \n",
    "    k = our_kernel(period, off_var, offset)\n",
    "    \n",
    "    # create model using data and kernel\n",
    "    m = gpflow.models.GPR(data=(X,Z), kernel=k, mean_function=None)\n",
    "    m.likelihood.variance.assign(0.1)\n",
    "    \n",
    "    # optimise using MLE\n",
    "    opt = gpflow.optimizers.Scipy()\n",
    "    opt.minimize(m.training_loss, variables=m.trainable_variables)\n",
    "    \n",
    "    if plot_m:\n",
    "        # return hyperparameters\n",
    "        print(\"Maximum Likelihood Estimate for gene\", i+1)\n",
    "        print_summary(m, fmt=\"notebook\")\n",
    "        \n",
    "        # plot\n",
    "        plot_mod(X, Z, m, pl_start = -25, pl_end = 25)\n",
    "    return X, Z, m"
   ]
  },
  {
   "cell_type": "markdown",
   "id": "28086027",
   "metadata": {},
   "source": [
    "## Using priors with Gamma distribution\n",
    "\n",
    "A random quantity $X$ has a Gamma distribution with parameters $\\alpha \\geq 1$ and $\\beta$, written $X | \\alpha, \\beta ~$ Gamma($\\alpha, \\beta$), if it has pdf\n",
    "\\begin{equation}\n",
    "f(x | \\alpha,\\beta) = \n",
    "\\begin{cases} \n",
    "  \\frac{\\beta^{\\alpha}}{\\Gamma(\\alpha)}x^{\\alpha - 1}\\exp({-\\beta x}) & x\\in [0,\\infty]\\\\\n",
    "  0 & otherwise \\\\\n",
    "\\end{cases}\n",
    "\\end{equation}\n",
    "This is useful when modelling strictly positive quantities, as we want our prior to be positive, we will try using a Gamma prior. To choose the right prior values, we can see what each distribution looks like below."
   ]
  },
  {
   "cell_type": "code",
   "execution_count": null,
   "id": "45ea41cc",
   "metadata": {},
   "outputs": [],
   "source": [
    "fig, axs = plt.subplots(2,2, figsize=(14, 8), constrained_layout=True)\n",
    "x = np.linspace(0,10,100)\n",
    "axs[0, 0].plot(x, gamma.pdf(x, 2, scale=1),label='$\\Gamma(2,1)$')\n",
    "axs[0, 0].legend(loc='best', frameon=False)\n",
    "axs[0, 0].set_title(\"Gamma Prior for Signal Variance and Lengthscale: $\\Gamma(2,1)$\")\n",
    "x = np.linspace(0,48,100)\n",
    "axs[0, 1].plot(x, gamma.pdf(x, 25, scale=1),label='$\\Gamma(25,1)$')\n",
    "axs[0, 1].legend(loc='best', frameon=False)\n",
    "axs[0, 1].set_title(\"Gamma Prior for Period: $\\Gamma(25,1)$\")\n",
    "x = np.linspace(0,0.5,100)\n",
    "axs[1, 0].plot(x, gamma.pdf(x, 2, scale=0.1),label='$\\Gamma(2,0.1)$')\n",
    "axs[1, 0].legend(loc='best', frameon=False)\n",
    "axs[1, 0].set_title(\"Gamma Prior for Likelihood Variance: $\\Gamma(2,0.1)$\")\n",
    "x = np.linspace(0,0.1,100)\n",
    "axs[1, 1].plot(x, gamma.pdf(x, 2, scale=0.001),label='$\\Gamma(2,0.001)$')\n",
    "axs[1, 1].legend(loc='best', frameon=False)\n",
    "axs[1, 1].set_title(\"Gamma Prior for the Offset and Constant kernels: $\\Gamma(2,0.001)$\")\n",
    "plt.show()"
   ]
  },
  {
   "cell_type": "code",
   "execution_count": null,
   "id": "dd7f25d4",
   "metadata": {},
   "outputs": [],
   "source": [
    "def map_sub(data, i, period=24.0, off_var=0.001, offset=0.001, plot_m=False):\n",
    "    # function for MAP of ACU patient with time subtracted mean\n",
    "    \n",
    "    X, Z = shape_data(data, i)\n",
    "    \n",
    "    # subtract mean time from time\n",
    "    X_orig = X\n",
    "    X = X_orig - mean2(X_orig)\n",
    "    \n",
    "    k = our_kernel(period, off_var, offset)\n",
    "    \n",
    "    # set kernel priors\n",
    "    k = load_priors(k)\n",
    "    \n",
    "    # create model using data and kernel\n",
    "    m = gpflow.models.GPR(data=(X,Z), kernel=k, mean_function=None)\n",
    "    \n",
    "    # set model priors\n",
    "    m.likelihood.variance.prior = tfp.distributions.Gamma(\n",
    "       to_default_float(2), to_default_float(10)\n",
    "    )\n",
    "        \n",
    "    # optimise using MLE\n",
    "    opt = gpflow.optimizers.Scipy()\n",
    "    opt.minimize(m.training_loss, variables=m.trainable_variables)\n",
    "    \n",
    "    if plot_m:\n",
    "        # return hyperparameters\n",
    "        print(\"Maximum A Posteriori Estimate for gene\", i+1)\n",
    "        print_summary(m, fmt=\"notebook\")\n",
    "        \n",
    "        # plot\n",
    "        plot_mod(X, Z, m, pl_start = -25, pl_end = 25)\n",
    "    return X, Z, m"
   ]
  },
  {
   "cell_type": "markdown",
   "id": "d0cebcb0",
   "metadata": {},
   "source": [
    "# ACU01 Patient"
   ]
  },
  {
   "cell_type": "code",
   "execution_count": null,
   "id": "20be5aad",
   "metadata": {},
   "outputs": [],
   "source": [
    "for i in range(13):\n",
    "    print(\"Gene \", i+1)\n",
    "    # plot data\n",
    "    t, genes, rawdat, dat = ACU_data(1)\n",
    "    time = np.concatenate([t,t])\n",
    "    rawdata = np.concatenate([rawdat[:,:,i][0],rawdat[:,:,i][1]])\n",
    "    plt.plot(t,rawdat[:,:,i][0])\n",
    "    plt.plot(t,rawdat[:,:,i][1])\n",
    "    plt.title(\"Raw Data\")\n",
    "    plt.show()\n",
    "        \n",
    "    # mle estimation\n",
    "    mle_sub(ACU_data(1), i, plot_m=True)\n",
    "    \n",
    "    # map estimation\n",
    "    map_sub(ACU_data(1), i, plot_m=True)"
   ]
  },
  {
   "cell_type": "markdown",
   "id": "2536e526",
   "metadata": {},
   "source": [
    "# ACU02 Patient"
   ]
  },
  {
   "cell_type": "code",
   "execution_count": null,
   "id": "09c31813",
   "metadata": {},
   "outputs": [],
   "source": [
    "for i in range(13):\n",
    "    print(\"Gene \", i+1)\n",
    "    # plot data\n",
    "    t, genes, rawdat, dat = ACU_data(2)\n",
    "    time = np.concatenate([t,t])\n",
    "    rawdata = np.concatenate([rawdat[:,:,i][0],rawdat[:,:,i][1]])\n",
    "    plt.plot(t,rawdat[:,:,i][0])\n",
    "    plt.plot(t,rawdat[:,:,i][1])\n",
    "    plt.title(\"Raw Data\")\n",
    "    plt.show()\n",
    "    \n",
    "    # mle estimation\n",
    "    #mle_sub(ACU_data(2), i, plot_m=True)\n",
    "    \n",
    "    # map estimation\n",
    "    map_sub(ACU_data(2), i, plot_m=True)"
   ]
  },
  {
   "cell_type": "markdown",
   "id": "e14549df",
   "metadata": {},
   "source": [
    "# ACU03 Patient"
   ]
  },
  {
   "cell_type": "code",
   "execution_count": null,
   "id": "d5714314",
   "metadata": {},
   "outputs": [],
   "source": [
    "for i in range(13):\n",
    "    print(\"Gene \", i+1)\n",
    "    # plot data\n",
    "    t, genes, rawdat, dat = ACU_data(3)\n",
    "    time = np.concatenate([t,t])\n",
    "    rawdata = np.concatenate([rawdat[:,:,i][0],rawdat[:,:,i][1]])\n",
    "    plt.plot(t,rawdat[:,:,i][0])\n",
    "    plt.plot(t,rawdat[:,:,i][1])\n",
    "    plt.title(\"Raw Data\")\n",
    "    plt.show()\n",
    "    \n",
    "    # mle estimation\n",
    "    #mle_sub(ACU_data(3), i, plot_m=True)\n",
    "    \n",
    "    # map estimation\n",
    "    map_sub(ACU_data(3), i, plot_m=True)"
   ]
  },
  {
   "cell_type": "markdown",
   "id": "fd82dfdf",
   "metadata": {},
   "source": [
    "# ACU04 Patient"
   ]
  },
  {
   "cell_type": "code",
   "execution_count": null,
   "id": "4f708d70",
   "metadata": {},
   "outputs": [],
   "source": [
    "for i in range(13):\n",
    "    print(\"Gene \", i+1)\n",
    "    # plot data\n",
    "    t, genes, rawdat, dat = ACU_data(4)\n",
    "    time = np.concatenate([t,t])\n",
    "    rawdata = np.concatenate([rawdat[:,:,i][0],rawdat[:,:,i][1]])\n",
    "    plt.plot(t,rawdat[:,:,i][0])\n",
    "    plt.plot(t,rawdat[:,:,i][1])\n",
    "    plt.title(\"Raw Data\")\n",
    "    plt.show()\n",
    "    \n",
    "    # mle estimation\n",
    "    #mle_sub(ACU_data(4), i, plot_m=True)\n",
    "    \n",
    "    # map estimation\n",
    "    map_sub(ACU_data(4), i, plot_m=True)"
   ]
  },
  {
   "cell_type": "markdown",
   "id": "2ef8085b",
   "metadata": {},
   "source": [
    "# ACU05 Patient"
   ]
  },
  {
   "cell_type": "code",
   "execution_count": null,
   "id": "5691e2d3",
   "metadata": {},
   "outputs": [],
   "source": [
    "for i in range(13):\n",
    "    print(\"Gene \", i+1)\n",
    "    # plot data\n",
    "    t, genes, rawdat, dat = ACU_data(5)\n",
    "    time = np.concatenate([t,t])\n",
    "    rawdata = np.concatenate([rawdat[:,:,i][0],rawdat[:,:,i][1]])\n",
    "    plt.plot(t,rawdat[:,:,i][0])\n",
    "    plt.plot(t,rawdat[:,:,i][1])\n",
    "    plt.title(\"Raw Data\")\n",
    "    plt.show()\n",
    "    \n",
    "    # mle estimation\n",
    "    #mle_sub(ACU_data(5), i, plot_m=True)\n",
    "    \n",
    "    # map estimation\n",
    "    map_sub(ACU_data(5), i, plot_m=True)"
   ]
  },
  {
   "cell_type": "markdown",
   "id": "d2fe57cf",
   "metadata": {},
   "source": [
    "# ACU06 Patient"
   ]
  },
  {
   "cell_type": "code",
   "execution_count": null,
   "id": "da36e5fd",
   "metadata": {},
   "outputs": [],
   "source": [
    "for i in range(13):\n",
    "    print(\"Gene \", i+1)\n",
    "    # plot data\n",
    "    t, genes, rawdat, dat = ACU_data(6)\n",
    "    time = np.concatenate([t,t])\n",
    "    rawdata = np.concatenate([rawdat[:,:,i][0],rawdat[:,:,i][1]])\n",
    "    plt.plot(t,rawdat[:,:,i][0])\n",
    "    plt.plot(t,rawdat[:,:,i][1])\n",
    "    plt.title(\"Raw Data\")\n",
    "    plt.show()\n",
    "    \n",
    "    # mle estimation\n",
    "    #mle_sub(ACU_data(6), i, plot_m=True)\n",
    "    \n",
    "    # map estimation\n",
    "    map_sub(ACU_data(6), i, plot_m=True)"
   ]
  },
  {
   "cell_type": "markdown",
   "id": "7ebcd660",
   "metadata": {},
   "source": [
    "# ACU07 Patient"
   ]
  },
  {
   "cell_type": "code",
   "execution_count": null,
   "id": "9d993db6",
   "metadata": {},
   "outputs": [],
   "source": [
    "for i in range(13):\n",
    "    print(\"Gene \", i+1)\n",
    "    # plot data\n",
    "    t, genes, rawdat, dat = ACU_data(7)\n",
    "    time = np.concatenate([t,t])\n",
    "    rawdata = np.concatenate([rawdat[:,:,i][0],rawdat[:,:,i][1]])\n",
    "    plt.plot(t,rawdat[:,:,i][0])\n",
    "    plt.plot(t,rawdat[:,:,i][1])\n",
    "    plt.title(\"Raw Data\")\n",
    "    plt.show()\n",
    "    \n",
    "    # mle estimation\n",
    "    #mle_sub(ACU_data(7), i, plot_m=True)\n",
    "    \n",
    "    # map estimation\n",
    "    map_sub(ACU_data(7), i, plot_m=True)"
   ]
  },
  {
   "cell_type": "markdown",
   "id": "a04d8446",
   "metadata": {},
   "source": [
    "# LTV01 Patient"
   ]
  },
  {
   "cell_type": "code",
   "execution_count": null,
   "id": "4288852f",
   "metadata": {},
   "outputs": [],
   "source": [
    "for i in range(13):\n",
    "    print(\"Gene \", i+1)\n",
    "    # plot data\n",
    "    t, genes, rawdat, dat = LTV_data(1)\n",
    "    time = np.concatenate([t,t])\n",
    "    rawdata = np.concatenate([rawdat[:,:,i][0],rawdat[:,:,i][1]])\n",
    "    plt.plot(t,rawdat[:,:,i][0])\n",
    "    plt.plot(t,rawdat[:,:,i][1])\n",
    "    plt.title(\"Raw Data\")\n",
    "    plt.show()\n",
    "    \n",
    "    # mle estimation\n",
    "    #mle_sub(LTV_data(1), i, plot_m=True)\n",
    "    \n",
    "    # map estimation\n",
    "    map_sub(LTV_data(1), i, plot_m=True)"
   ]
  },
  {
   "cell_type": "markdown",
   "id": "61c79bf1",
   "metadata": {},
   "source": [
    "# LTV02 Patient"
   ]
  },
  {
   "cell_type": "code",
   "execution_count": null,
   "id": "82b812f5",
   "metadata": {},
   "outputs": [],
   "source": [
    "for i in range(13):\n",
    "    print(\"Gene \", i+1)\n",
    "    # plot data\n",
    "    t, genes, rawdat, dat = LTV_data(2)\n",
    "    time = np.concatenate([t,t])\n",
    "    rawdata = np.concatenate([rawdat[:,:,i][0],rawdat[:,:,i][1]])\n",
    "    plt.plot(t,rawdat[:,:,i][0])\n",
    "    plt.plot(t,rawdat[:,:,i][1])\n",
    "    plt.title(\"Raw Data\")\n",
    "    plt.show()\n",
    "    \n",
    "    # mle estimation\n",
    "    #mle_sub(LTV_data(2), i, plot_m=True)\n",
    "    \n",
    "    # map estimation\n",
    "    map_sub(LTV_data(2), i, plot_m=True)"
   ]
  },
  {
   "cell_type": "markdown",
   "id": "16142a9a",
   "metadata": {},
   "source": [
    "# LTV03 Patient"
   ]
  },
  {
   "cell_type": "code",
   "execution_count": null,
   "id": "84f94867",
   "metadata": {},
   "outputs": [],
   "source": [
    "for i in range(13):\n",
    "    print(\"Gene \", i+1)\n",
    "    # plot data\n",
    "    t, genes, rawdat, dat = LTV_data(3)\n",
    "    time = np.concatenate([t,t])\n",
    "    rawdata = np.concatenate([rawdat[:,:,i][0],rawdat[:,:,i][1]])\n",
    "    plt.plot(t,rawdat[:,:,i][0])\n",
    "    plt.plot(t,rawdat[:,:,i][1])\n",
    "    plt.title(\"Raw Data\")\n",
    "    plt.show()\n",
    "    \n",
    "    # mle estimation\n",
    "    #mle_sub(LTV_data(3), i, plot_m=True)\n",
    "    \n",
    "    # map estimation\n",
    "    map_sub(LTV_data(3), i, plot_m=True)"
   ]
  },
  {
   "cell_type": "markdown",
   "id": "93d243ed",
   "metadata": {},
   "source": [
    "# LTV04 Patient"
   ]
  },
  {
   "cell_type": "code",
   "execution_count": null,
   "id": "338521ee",
   "metadata": {},
   "outputs": [],
   "source": [
    "for i in range(13):\n",
    "    print(\"Gene \", i+1)\n",
    "    # plot data\n",
    "    t, genes, rawdat, dat = LTV_data(4)\n",
    "    time = np.concatenate([t,t])\n",
    "    rawdata = np.concatenate([rawdat[:,:,i][0],rawdat[:,:,i][1]])\n",
    "    plt.plot(t,rawdat[:,:,i][0])\n",
    "    plt.plot(t,rawdat[:,:,i][1])\n",
    "    plt.title(\"Raw Data\")\n",
    "    plt.show()\n",
    "    \n",
    "    # mle estimation\n",
    "    #mle_sub(LTV_data(4), i, plot_m=True)\n",
    "    \n",
    "    # map estimation\n",
    "    map_sub(LTV_data(4), i, plot_m=True)"
   ]
  },
  {
   "cell_type": "markdown",
   "id": "215f88fc",
   "metadata": {},
   "source": [
    "# LTV05 Patient"
   ]
  },
  {
   "cell_type": "code",
   "execution_count": null,
   "id": "337e5c74",
   "metadata": {},
   "outputs": [],
   "source": [
    "for i in range(13):\n",
    "    print(\"Gene \", i+1)\n",
    "    # plot data\n",
    "    t, genes, rawdat, dat = LTV_data(5)\n",
    "    time = np.concatenate([t,t])\n",
    "    rawdata = np.concatenate([rawdat[:,:,i][0],rawdat[:,:,i][1]])\n",
    "    plt.plot(t,rawdat[:,:,i][0])\n",
    "    plt.plot(t,rawdat[:,:,i][1])\n",
    "    plt.title(\"Raw Data\")\n",
    "    plt.show()\n",
    "    \n",
    "    # mle estimation\n",
    "    #mle_sub(LTV_data(5), i, plot_m=True)\n",
    "    \n",
    "    # map estimation\n",
    "    map_sub(LTV_data(5), i, plot_m=True)"
   ]
  },
  {
   "cell_type": "markdown",
   "id": "a10cdab0",
   "metadata": {},
   "source": [
    "# LTV06 Patient"
   ]
  },
  {
   "cell_type": "code",
   "execution_count": null,
   "id": "1947aa26",
   "metadata": {},
   "outputs": [],
   "source": [
    "for i in range(13):\n",
    "    print(\"Gene \", i+1)\n",
    "    # plot data\n",
    "    t, genes, rawdat, dat = LTV_data(6)\n",
    "    time = np.concatenate([t,t])\n",
    "    rawdata = np.concatenate([rawdat[:,:,i][0],rawdat[:,:,i][1]])\n",
    "    plt.plot(t,rawdat[:,:,i][0])\n",
    "    plt.plot(t,rawdat[:,:,i][1])\n",
    "    plt.title(\"Raw Data\")\n",
    "    plt.show()\n",
    "    \n",
    "    # mle estimation\n",
    "    #mle_sub(LTV_data(6), i, plot_m=True)\n",
    "    \n",
    "    # map estimation\n",
    "    map_sub(LTV_data(6), i, plot_m=True)"
   ]
  },
  {
   "cell_type": "markdown",
   "id": "e11fe765",
   "metadata": {},
   "source": [
    "# Peak to Peak Amplitude"
   ]
  },
  {
   "cell_type": "code",
   "execution_count": null,
   "id": "42b64fa1",
   "metadata": {},
   "outputs": [],
   "source": [
    "def peak2peak_amp(data, i):\n",
    "    \n",
    "    X, Z, m = map_sub(data, i)\n",
    "    \n",
    "    # extract periodic kernel\n",
    "    k1=gpflow.kernels.Periodic(gpflow.kernels.SquaredExponential(), period=24.0)\n",
    "    m1 = gpflow.models.GPR(data=(X,Z), kernel=k1, mean_function=None)\n",
    "    m1.kernel.base_kernel.variance.assign(m.kernel.kernels[0].base_kernel.variance)\n",
    "    m1.kernel.base_kernel.lengthscales.assign(m.kernel.kernels[0].base_kernel.lengthscales)\n",
    "    m1.kernel.period.assign(m.kernel.kernels[0].period)\n",
    "    \n",
    "    ## generate test points for prediction\n",
    "    xx = np.linspace(-72.1, 72.1, 100).reshape(100, 1)  # test points must be of shape (N, D)\n",
    "\n",
    "    ## predict mean and variance of latent GP at test points\n",
    "    mean1, var1 = m1.predict_f(xx)\n",
    "\n",
    "    ## generate 10 samples from posterior\n",
    "    tf.random.set_seed(1)  # for reproducibility\n",
    "    samples = m1.predict_f_samples(xx, 10)  # shape (10, 100, 1)\n",
    "\n",
    "    ## plot\n",
    "    plt.figure(figsize=(12, 6))\n",
    "    plt.plot(xx, mean1, \"C0\", lw=2)\n",
    "\n",
    "    _ = plt.xlim(-25, 25)\n",
    "    plt.show()\n",
    "    \n",
    "    # calculate peak to peak amplitude\n",
    "    maxi = tf.math.reduce_max(mean1)\n",
    "    mini = tf.math.reduce_min(mean1)\n",
    "    amp = maxi-mini\n",
    "    \n",
    "    var = m1.kernel.base_kernel.variance\n",
    "    return amp, var"
   ]
  },
  {
   "cell_type": "code",
   "execution_count": null,
   "id": "f1ff36cc",
   "metadata": {},
   "outputs": [],
   "source": [
    "def mod_corr(data):\n",
    "    \n",
    "    amps = np.zeros(13)\n",
    "    std = np.zeros(13)\n",
    "    for i in range(13):\n",
    "        amps1, std1 = peak2peak_amp(data, i)\n",
    "        amps[i] = amps1\n",
    "        std[i] = math.sqrt(std1.numpy())\n",
    "    plt.scatter(amps,std)\n",
    "    plt.title(\"Correlation between Peak to Peak Amplitude and Signal Standard Deviation\")\n",
    "    plt.xlabel(\"Peak to Peak Amplitude\")\n",
    "    plt.ylabel(\"Signal Standard Deviation\")\n",
    "    \n",
    "    return amps, std"
   ]
  },
  {
   "cell_type": "markdown",
   "id": "0fdc9efc",
   "metadata": {},
   "source": [
    "### Compare phase of Combined Kernel with only periodic Kernel"
   ]
  },
  {
   "cell_type": "code",
   "execution_count": null,
   "id": "201ba67d",
   "metadata": {},
   "outputs": [],
   "source": [
    "X, Z, m = map_sub(ACU_data(1), 0)\n",
    "xx = np.linspace(-72.1, 72.1, 100).reshape(100, 1)\n",
    "mean, var = m.predict_f(xx)\n",
    "\n",
    "k1=gpflow.kernels.Periodic(gpflow.kernels.SquaredExponential(), period=24.0)\n",
    "m1 = gpflow.models.GPR(data=(X,Z), kernel=k1, mean_function=None)\n",
    "m1.kernel.base_kernel.variance.assign(m.kernel.kernels[0].base_kernel.variance)\n",
    "m1.kernel.base_kernel.lengthscales.assign(m.kernel.kernels[0].base_kernel.lengthscales)\n",
    "m1.kernel.period.assign(m.kernel.kernels[0].period)\n",
    "m1.likelihood.variance.assign(m.likelihood.variance)\n",
    "## generate test points for prediction\n",
    "xx = np.linspace(-72.1, 72.1, 100).reshape(100, 1)  # test points must be of shape (N, D)\n",
    "\n",
    "## predict mean and variance of latent GP at test points\n",
    "mean1, var1 = m1.predict_f(xx)\n",
    "\n",
    "## generate 10 samples from posterior\n",
    "tf.random.set_seed(1)  # for reproducibility\n",
    "samples = m1.predict_f_samples(xx, 10)  # shape (10, 100, 1)\n",
    "\n",
    "## plot\n",
    "plt.figure(figsize=(12, 6))\n",
    "plt.plot(xx, mean, \"C0\", lw=2)\n",
    "plt.plot(xx, mean1, \"C1\", lw=2)\n",
    "\n",
    "_ = plt.xlim(-25, 60)\n",
    "plt.legend([\"Combined Kernel\", \"Periodic Kernel Only\"])\n",
    "plt.title(\"Comparing phase of Extracted Periodic Kernel\")\n",
    "plt.show()"
   ]
  },
  {
   "cell_type": "markdown",
   "id": "2955d558",
   "metadata": {},
   "source": [
    "## ACU01"
   ]
  },
  {
   "cell_type": "code",
   "execution_count": null,
   "id": "c79deb08",
   "metadata": {
    "scrolled": true
   },
   "outputs": [],
   "source": [
    "mod_corr(ACU_data(1))"
   ]
  },
  {
   "cell_type": "markdown",
   "id": "5f9d5253",
   "metadata": {},
   "source": [
    "## ACU02"
   ]
  },
  {
   "cell_type": "code",
   "execution_count": null,
   "id": "3a311855",
   "metadata": {
    "scrolled": true
   },
   "outputs": [],
   "source": [
    "mod_corr(ACU_data(2))"
   ]
  },
  {
   "cell_type": "markdown",
   "id": "3d77a159",
   "metadata": {},
   "source": [
    "## ACU03"
   ]
  },
  {
   "cell_type": "code",
   "execution_count": null,
   "id": "d1847ad6",
   "metadata": {},
   "outputs": [],
   "source": [
    "mod_corr(ACU_data(3))"
   ]
  },
  {
   "cell_type": "markdown",
   "id": "b53b4216",
   "metadata": {},
   "source": [
    "## ACU04"
   ]
  },
  {
   "cell_type": "code",
   "execution_count": null,
   "id": "326fccc5",
   "metadata": {
    "scrolled": true
   },
   "outputs": [],
   "source": [
    "mod_corr(ACU_data(4))"
   ]
  },
  {
   "cell_type": "markdown",
   "id": "d420982c",
   "metadata": {},
   "source": [
    "## ACU05"
   ]
  },
  {
   "cell_type": "code",
   "execution_count": null,
   "id": "f143d4b5",
   "metadata": {
    "scrolled": true
   },
   "outputs": [],
   "source": [
    "mod_corr(ACU_data(5))"
   ]
  },
  {
   "cell_type": "markdown",
   "id": "570341f2",
   "metadata": {},
   "source": [
    "## ACU06"
   ]
  },
  {
   "cell_type": "code",
   "execution_count": null,
   "id": "47aec1b7",
   "metadata": {},
   "outputs": [],
   "source": [
    "mod_corr(ACU_data(6))"
   ]
  },
  {
   "cell_type": "markdown",
   "id": "ac173184",
   "metadata": {},
   "source": [
    "## ACU07"
   ]
  },
  {
   "cell_type": "code",
   "execution_count": null,
   "id": "1b4f503d",
   "metadata": {},
   "outputs": [],
   "source": [
    "mod_corr(ACU_data(7))"
   ]
  },
  {
   "cell_type": "markdown",
   "id": "eda362bc",
   "metadata": {},
   "source": [
    "## LTV01"
   ]
  },
  {
   "cell_type": "code",
   "execution_count": null,
   "id": "f70b14a8",
   "metadata": {},
   "outputs": [],
   "source": [
    "mod_corr(LTV_data(1))"
   ]
  },
  {
   "cell_type": "markdown",
   "id": "1debb66f",
   "metadata": {},
   "source": [
    "## LTV02"
   ]
  },
  {
   "cell_type": "code",
   "execution_count": null,
   "id": "8089794f",
   "metadata": {
    "scrolled": true
   },
   "outputs": [],
   "source": [
    "mod_corr(LTV_data(2))"
   ]
  },
  {
   "cell_type": "markdown",
   "id": "485c18c2",
   "metadata": {},
   "source": [
    "## LTV03"
   ]
  },
  {
   "cell_type": "code",
   "execution_count": null,
   "id": "adc68e15",
   "metadata": {},
   "outputs": [],
   "source": [
    "mod_corr(LTV_data(3))"
   ]
  },
  {
   "cell_type": "markdown",
   "id": "bcc89aa9",
   "metadata": {},
   "source": [
    "## LTV04"
   ]
  },
  {
   "cell_type": "code",
   "execution_count": null,
   "id": "8a98b583",
   "metadata": {},
   "outputs": [],
   "source": [
    "mod_corr(LTV_data(4))"
   ]
  },
  {
   "cell_type": "markdown",
   "id": "68cb043d",
   "metadata": {},
   "source": [
    "## LTV05"
   ]
  },
  {
   "cell_type": "code",
   "execution_count": null,
   "id": "0ff1e41c",
   "metadata": {},
   "outputs": [],
   "source": [
    "mod_corr(LTV_data(5))"
   ]
  },
  {
   "cell_type": "markdown",
   "id": "827c7f0f",
   "metadata": {},
   "source": [
    "## LTV06"
   ]
  },
  {
   "cell_type": "code",
   "execution_count": null,
   "id": "b1135ea5",
   "metadata": {
    "scrolled": true
   },
   "outputs": [],
   "source": [
    "mod_corr(LTV_data(6))"
   ]
  },
  {
   "cell_type": "markdown",
   "id": "8c703ffa",
   "metadata": {},
   "source": [
    "### Correlation of all ACU cohort"
   ]
  },
  {
   "cell_type": "code",
   "execution_count": null,
   "id": "11f7a33c",
   "metadata": {},
   "outputs": [],
   "source": [
    "# correlation of all ACU cohort\n",
    "amps_a = np.zeros((7,13))\n",
    "std_a = np.zeros((7,13))\n",
    "for j in range(1,8):\n",
    "    amps = np.zeros(13)\n",
    "    std = np.zeros(13)\n",
    "    for i in range(13):\n",
    "        amps1, std1 = peak2peak_amp(ACU_data(j), i)\n",
    "        amps[i] = amps1\n",
    "        std[i] = math.sqrt(std1.numpy())\n",
    "    amps_a[j-1]=amps\n",
    "    std_a[j-1]=std\n",
    "amps_a=amps_a.tolist()\n",
    "std_a=std_a.tolist()"
   ]
  },
  {
   "cell_type": "code",
   "execution_count": null,
   "id": "af2a8bc8",
   "metadata": {},
   "outputs": [],
   "source": [
    "# plot correlation\n",
    "plt.figure(figsize=(10,6))\n",
    "plt.scatter(amps_a,std_a)\n",
    "plt.title(\"Correlation between Peak to Peak Amplitude and Signal Standard Deviation for ACU cohort\")\n",
    "plt.xlabel(\"Peak to Peak Amplitude\")\n",
    "plt.ylabel(\"Signal Standard Deviation\")\n",
    "plt.show()"
   ]
  },
  {
   "cell_type": "markdown",
   "id": "3a7d15e6",
   "metadata": {},
   "source": [
    "### Correlation of all LTV cohort"
   ]
  },
  {
   "cell_type": "code",
   "execution_count": null,
   "id": "368a6306",
   "metadata": {},
   "outputs": [],
   "source": [
    "# correlation of all LTV cohort\n",
    "amps_l = np.zeros((6,13))\n",
    "std_l = np.zeros((6,13))\n",
    "for j in range(1,7):\n",
    "    amps = np.zeros(13)\n",
    "    std = np.zeros(13)\n",
    "    for i in range(13):\n",
    "        amps1, std1 = peak2peak_amp(LTV_data(j), i)\n",
    "        amps[i] = amps1\n",
    "        std[i] = math.sqrt(std1.numpy())\n",
    "    amps_l[j-1]=amps\n",
    "    std_l[j-1]=std\n",
    "amps_l=amps_l.tolist()\n",
    "std_l=std_l.tolist()"
   ]
  },
  {
   "cell_type": "code",
   "execution_count": null,
   "id": "f54b260c",
   "metadata": {},
   "outputs": [],
   "source": [
    "# plot correlation\n",
    "plt.figure(figsize=(10,6))\n",
    "plt.scatter(amps_l,std_l)\n",
    "plt.title(\"Correlation between Peak to Peak Amplitude and Signal Standard Deviation for LTV cohort\")\n",
    "plt.xlabel(\"Peak to Peak Amplitude\")\n",
    "plt.ylabel(\"Signal Standard Deviation\")\n",
    "plt.show()"
   ]
  },
  {
   "cell_type": "markdown",
   "id": "b2f17160",
   "metadata": {},
   "source": [
    "## Measures of signalling strength and circadian nature"
   ]
  },
  {
   "cell_type": "code",
   "execution_count": null,
   "id": "b42b83e3",
   "metadata": {},
   "outputs": [],
   "source": [
    "def Ca(data, i):\n",
    "    \n",
    "    # calculates measure of oscillation strength\n",
    "    X, Z, m = map_sub(data, i)\n",
    "    l_var = m.likelihood.variance.numpy()\n",
    "    sig_var = m.kernel.kernels[0].base_kernel.variance.numpy()\n",
    "    Ca = sig_var / (l_var + sig_var)\n",
    "    \n",
    "    return Ca"
   ]
  },
  {
   "cell_type": "code",
   "execution_count": null,
   "id": "50c42ca6",
   "metadata": {},
   "outputs": [],
   "source": [
    "def Cp(data, i):\n",
    "    \n",
    "    # measure of how circadian the period is\n",
    "    X, Z, m = map_sub(data, i)\n",
    "    #lscales = m.kernel.kernels[0].base_kernel.lengthscales.numpy()\n",
    "    period = m.kernel.kernels[0].period\n",
    "    #Cp = lscales/((period.numpy()-24)**2 + 1)\n",
    "    Cp = 1/((period.numpy()-24)**2 + 1)\n",
    "    \n",
    "    return Cp"
   ]
  },
  {
   "cell_type": "code",
   "execution_count": null,
   "id": "e331489f",
   "metadata": {},
   "outputs": [],
   "source": [
    "def C_measure(data, i):\n",
    "    \n",
    "    # overall measure of gene\n",
    "    C_measure = Ca(data,i)*Cp(data,i)\n",
    "    \n",
    "    return C_measure"
   ]
  },
  {
   "cell_type": "code",
   "execution_count": null,
   "id": "6c3b67cc",
   "metadata": {},
   "outputs": [],
   "source": [
    "def C_plot_list(data):\n",
    "    # function to create an array of measures and plot scatter plot of them\n",
    "    Ca_list = np.zeros(13) # empty list for Ca measure\n",
    "    Cp_list = np.zeros(13)\n",
    "    C_measure_list = np.zeros(13)\n",
    "    for i in range(13):\n",
    "        Ca_list[i] = Ca(data, i)\n",
    "        Cp_list[i] = Cp(data, i)\n",
    "        C_measure_list[i] = C_measure(data, i)\n",
    "\n",
    "    plt.scatter(Ca_list, Cp_list)\n",
    "    plt.xlabel(\"C_a\")\n",
    "    plt.ylabel(\"C_p\")\n",
    "\n",
    "    return C_measure_list"
   ]
  },
  {
   "cell_type": "markdown",
   "id": "3c520aae",
   "metadata": {},
   "source": [
    "## Scattergram of measures\n",
    "\n",
    "### ACU patients on one plot"
   ]
  },
  {
   "cell_type": "code",
   "execution_count": null,
   "id": "9762f0c8",
   "metadata": {},
   "outputs": [],
   "source": [
    "C_pl_a = np.zeros(shape=(7,13)) # an array to store C_measure\n",
    "plt.figure(figsize=(6,6))\n",
    "plt.xlim([0, 1])\n",
    "plt.ylim([0, 1])\n",
    "for i in range(1, 8):\n",
    "    C_pl_a[i-1]=C_plot_list(ACU_data(i))\n",
    "plt.title(\"C_a vs C_p for ACU dupdat\")\n",
    "plt.show()\n",
    "C_pl_a"
   ]
  },
  {
   "cell_type": "markdown",
   "id": "a5c87d1d",
   "metadata": {},
   "source": [
    "### ACU patients on separate plots"
   ]
  },
  {
   "cell_type": "code",
   "execution_count": null,
   "id": "88c64728",
   "metadata": {},
   "outputs": [],
   "source": [
    "'''for i in range(1, 8):\n",
    "    C_plot_list(ACU_data(i))\n",
    "    print(\"ACU Patient\", i)\n",
    "    plt.show()'''"
   ]
  },
  {
   "cell_type": "markdown",
   "id": "260da3b0",
   "metadata": {},
   "source": [
    "### LTV patients on one plot"
   ]
  },
  {
   "cell_type": "code",
   "execution_count": null,
   "id": "3758be08",
   "metadata": {
    "scrolled": true
   },
   "outputs": [],
   "source": [
    "C_pl_l = np.zeros(shape=(6,13)) # an array to store C_measure\n",
    "plt.figure(figsize=(6,6))\n",
    "plt.xlim([0, 1])\n",
    "plt.ylim([0, 1])\n",
    "for i in range(1, 7):\n",
    "    C_pl_l[i-1] = C_plot_list(LTV_data(i))\n",
    "plt.title(\"C_a vs C_p for LTV dupdat\")\n",
    "plt.show()\n",
    "C_pl_l"
   ]
  },
  {
   "cell_type": "markdown",
   "id": "3004d01f",
   "metadata": {},
   "source": [
    "### LTV patients on separate plots"
   ]
  },
  {
   "cell_type": "code",
   "execution_count": null,
   "id": "1349a41e",
   "metadata": {},
   "outputs": [],
   "source": [
    "'''for i in range(1, 7):\n",
    "    C_plot_list(LTV_data(i))\n",
    "    print(\"LTV Patient\", i)\n",
    "    plt.show()'''"
   ]
  },
  {
   "cell_type": "markdown",
   "id": "f8164019",
   "metadata": {},
   "source": [
    "## Graph for each gene, with different patient values"
   ]
  },
  {
   "cell_type": "code",
   "execution_count": null,
   "id": "dcbc659f",
   "metadata": {},
   "outputs": [],
   "source": [
    "'''for i in range(13):\n",
    "    plt.scatter(C_pl_l[:,i])\n",
    "    plt.scatter(C_pl_a[:,i])\n",
    "    plt.show()'''"
   ]
  },
  {
   "cell_type": "markdown",
   "id": "35531308",
   "metadata": {},
   "source": [
    "### Maximum Score for ACU patient"
   ]
  },
  {
   "cell_type": "code",
   "execution_count": null,
   "id": "f55ad1e4",
   "metadata": {},
   "outputs": [],
   "source": [
    "np.max(C_pl_a)"
   ]
  },
  {
   "cell_type": "code",
   "execution_count": null,
   "id": "589c7a7a",
   "metadata": {
    "scrolled": false
   },
   "outputs": [],
   "source": [
    "C_pl_a"
   ]
  },
  {
   "cell_type": "markdown",
   "id": "2d572309",
   "metadata": {},
   "source": [
    "## New attempt"
   ]
  },
  {
   "cell_type": "code",
   "execution_count": null,
   "id": "329f177b",
   "metadata": {},
   "outputs": [],
   "source": [
    "def C_measure_new(data, i):\n",
    "    \n",
    "    # overall measure of gene\n",
    "    X, Z, m = map_sub(data, i)\n",
    "    lscales = m.kernel.kernels[0].base_kernel.lengthscales.numpy()\n",
    "    C_measure_new = 0.5*(Ca(data,i)+Cp(data,i))*lscales\n",
    "    \n",
    "    return C_measure_new"
   ]
  },
  {
   "cell_type": "code",
   "execution_count": null,
   "id": "5ede4641",
   "metadata": {},
   "outputs": [],
   "source": [
    "def C_measure_list(data):\n",
    "    # function to create an array of measures and plot scatter plot of them\n",
    "    C_measure_new_list = np.zeros(13)\n",
    "    for i in range(13):\n",
    "        C_measure_new_list[i] = C_measure_new(data, i)\n",
    "        \n",
    "    return C_measure_new_list"
   ]
  },
  {
   "cell_type": "markdown",
   "id": "bd37dfd8",
   "metadata": {},
   "source": [
    "## ACU patients"
   ]
  },
  {
   "cell_type": "code",
   "execution_count": null,
   "id": "f7ffc28a",
   "metadata": {},
   "outputs": [],
   "source": [
    "C_pl_new_a = np.zeros(shape=(7,13)) # an array to store C_measure\n",
    "for i in range(1, 8):\n",
    "    C_pl_new_a[i-1]=C_measure_list(ACU_data(i))"
   ]
  },
  {
   "cell_type": "markdown",
   "id": "09ddad9a",
   "metadata": {},
   "source": [
    "### Best score in ACU"
   ]
  },
  {
   "cell_type": "code",
   "execution_count": null,
   "id": "ca5ea9bc",
   "metadata": {},
   "outputs": [],
   "source": [
    "np.max(C_pl_new_a)"
   ]
  },
  {
   "cell_type": "code",
   "execution_count": null,
   "id": "2470aa63",
   "metadata": {},
   "outputs": [],
   "source": [
    "np.where(C_pl_new_a == np.max(C_pl_new_a))"
   ]
  },
  {
   "cell_type": "code",
   "execution_count": null,
   "id": "81324c44",
   "metadata": {},
   "outputs": [],
   "source": [
    "C_pl_new_a"
   ]
  },
  {
   "cell_type": "code",
   "execution_count": null,
   "id": "20e3e5dd",
   "metadata": {},
   "outputs": [],
   "source": [
    "map_sub(ACU_data(2), 3, plot_m=True)"
   ]
  },
  {
   "cell_type": "markdown",
   "id": "3b0cb24c",
   "metadata": {},
   "source": [
    "### Worst score in ACU"
   ]
  },
  {
   "cell_type": "code",
   "execution_count": null,
   "id": "00a32a6a",
   "metadata": {},
   "outputs": [],
   "source": [
    "np.min(C_pl_new_a)"
   ]
  },
  {
   "cell_type": "code",
   "execution_count": null,
   "id": "d42ec0f4",
   "metadata": {},
   "outputs": [],
   "source": [
    "np.where(C_pl_new_a == np.min(C_pl_new_a))"
   ]
  },
  {
   "cell_type": "code",
   "execution_count": null,
   "id": "e6ca62ca",
   "metadata": {},
   "outputs": [],
   "source": [
    "map_sub(ACU_data(4), 7, plot_m=True)"
   ]
  },
  {
   "cell_type": "markdown",
   "id": "2ee0e641",
   "metadata": {},
   "source": [
    "## LTV patients"
   ]
  },
  {
   "cell_type": "code",
   "execution_count": null,
   "id": "bfbdcc8f",
   "metadata": {},
   "outputs": [],
   "source": [
    "C_pl_new_l = np.zeros(shape=(6,13)) # an array to store C_measure\n",
    "for i in range(1, 7):\n",
    "    C_pl_new_l[i-1]=C_measure_list(LTV_data(i))"
   ]
  },
  {
   "cell_type": "markdown",
   "id": "b34a8ce7",
   "metadata": {},
   "source": [
    "### Best score in LTV"
   ]
  },
  {
   "cell_type": "code",
   "execution_count": null,
   "id": "cfa7c088",
   "metadata": {},
   "outputs": [],
   "source": [
    "np.max(C_pl_new_l)"
   ]
  },
  {
   "cell_type": "code",
   "execution_count": null,
   "id": "810a6959",
   "metadata": {},
   "outputs": [],
   "source": [
    "np.where(C_pl_new_l == np.max(C_pl_new_l))"
   ]
  },
  {
   "cell_type": "code",
   "execution_count": null,
   "id": "5f9cc1d9",
   "metadata": {},
   "outputs": [],
   "source": [
    "C_pl_new_l"
   ]
  },
  {
   "cell_type": "code",
   "execution_count": null,
   "id": "442fd53d",
   "metadata": {},
   "outputs": [],
   "source": [
    "map_sub(LTV_data(6), 8, plot_m=True)"
   ]
  },
  {
   "cell_type": "markdown",
   "id": "9a0cf7ec",
   "metadata": {},
   "source": [
    "### Worst score in LTV"
   ]
  },
  {
   "cell_type": "code",
   "execution_count": null,
   "id": "ee3bd91f",
   "metadata": {},
   "outputs": [],
   "source": [
    "np.min(C_pl_new_l)"
   ]
  },
  {
   "cell_type": "code",
   "execution_count": null,
   "id": "0e1942fd",
   "metadata": {},
   "outputs": [],
   "source": [
    "np.where(C_pl_new_l == np.min(C_pl_new_l))"
   ]
  },
  {
   "cell_type": "code",
   "execution_count": null,
   "id": "fb55972b",
   "metadata": {},
   "outputs": [],
   "source": [
    "map_sub(LTV_data(6), 0, plot_m=True)"
   ]
  },
  {
   "cell_type": "markdown",
   "id": "6e040ced",
   "metadata": {},
   "source": [
    "## New attempt 2"
   ]
  },
  {
   "cell_type": "code",
   "execution_count": null,
   "id": "b1292f92",
   "metadata": {},
   "outputs": [],
   "source": [
    "def C_measure_new2(data, i):\n",
    "    \n",
    "    # overall measure of gene\n",
    "    X, Z, m = map_sub(data, i)\n",
    "    lscales = m.kernel.kernels[0].base_kernel.lengthscales.numpy()\n",
    "    if lscales>=0.5:\n",
    "        C_measure_new2 = Ca(data,i)*Cp(data,i)\n",
    "    else:\n",
    "        C_measure_new2 = 0\n",
    "    \n",
    "    return C_measure_new2"
   ]
  },
  {
   "cell_type": "code",
   "execution_count": null,
   "id": "c790a8ce",
   "metadata": {},
   "outputs": [],
   "source": [
    "def C_measure_list2(data):\n",
    "    # function to create an array of measures and plot scatter plot of them\n",
    "    C_measure_new_list2 = np.zeros(13)\n",
    "    for i in range(13):\n",
    "        C_measure_new_list2[i] = C_measure_new2(data, i)\n",
    "        \n",
    "    return C_measure_new_list2"
   ]
  },
  {
   "cell_type": "markdown",
   "id": "9a657159",
   "metadata": {},
   "source": [
    "## ACU patients"
   ]
  },
  {
   "cell_type": "code",
   "execution_count": null,
   "id": "0b137e9b",
   "metadata": {
    "scrolled": true
   },
   "outputs": [],
   "source": [
    "C_pl_new_a2 = np.zeros(shape=(7,13)) # an array to store C_measure\n",
    "for i in range(1, 8):\n",
    "    C_pl_new_a2[i-1]=C_measure_list2(ACU_data(i))"
   ]
  },
  {
   "cell_type": "markdown",
   "id": "3738ea45",
   "metadata": {},
   "source": [
    "### Best score in ACU"
   ]
  },
  {
   "cell_type": "code",
   "execution_count": null,
   "id": "57443c97",
   "metadata": {},
   "outputs": [],
   "source": [
    "np.max(C_pl_new_a2)"
   ]
  },
  {
   "cell_type": "code",
   "execution_count": null,
   "id": "bcb92d46",
   "metadata": {},
   "outputs": [],
   "source": [
    "np.where(C_pl_new_a2 == np.max(C_pl_new_a2))"
   ]
  },
  {
   "cell_type": "code",
   "execution_count": null,
   "id": "746b5e57",
   "metadata": {},
   "outputs": [],
   "source": [
    "C_pl_new_a2"
   ]
  },
  {
   "cell_type": "code",
   "execution_count": null,
   "id": "d2b1bb14",
   "metadata": {},
   "outputs": [],
   "source": [
    "map_sub(ACU_data(3), 10, plot_m=True)"
   ]
  },
  {
   "cell_type": "markdown",
   "id": "0cb1f2a2",
   "metadata": {},
   "source": [
    "## LTV patients"
   ]
  },
  {
   "cell_type": "code",
   "execution_count": null,
   "id": "c8143f25",
   "metadata": {},
   "outputs": [],
   "source": [
    "C_pl_new_l2 = np.zeros(shape=(6,13)) # an array to store C_measure\n",
    "for i in range(1, 7):\n",
    "    C_pl_new_l2[i-1]=C_measure_list2(LTV_data(i))"
   ]
  },
  {
   "cell_type": "markdown",
   "id": "30e778e9",
   "metadata": {},
   "source": [
    "### Best score in LTV"
   ]
  },
  {
   "cell_type": "code",
   "execution_count": null,
   "id": "68eb3eb0",
   "metadata": {},
   "outputs": [],
   "source": [
    "np.max(C_pl_new_l2)"
   ]
  },
  {
   "cell_type": "code",
   "execution_count": null,
   "id": "ee021db7",
   "metadata": {},
   "outputs": [],
   "source": [
    "np.where(C_pl_new_l2 == np.max(C_pl_new_l2))"
   ]
  },
  {
   "cell_type": "code",
   "execution_count": null,
   "id": "32f29340",
   "metadata": {},
   "outputs": [],
   "source": [
    "C_pl_new_l2"
   ]
  },
  {
   "cell_type": "code",
   "execution_count": null,
   "id": "e9c649ad",
   "metadata": {},
   "outputs": [],
   "source": [
    "map_sub(LTV_data(4), 3, plot_m=True)"
   ]
  },
  {
   "cell_type": "markdown",
   "id": "d3a4c8f1",
   "metadata": {},
   "source": [
    "## New attempt 3"
   ]
  },
  {
   "cell_type": "code",
   "execution_count": null,
   "id": "78b32996",
   "metadata": {},
   "outputs": [],
   "source": [
    "def C_measure_new3(data, i):\n",
    "    \n",
    "    # overall measure of gene\n",
    "    X, Z, m = map_sub(data, i)\n",
    "    lscales = m.kernel.kernels[0].base_kernel.lengthscales.numpy()\n",
    "    if lscales>=1:\n",
    "        C_measure_new3 = Ca(data,i)*Cp(data,i)\n",
    "    else:\n",
    "        C_measure_new3 = Ca(data,i)*Cp(data,i)*lscales\n",
    "    \n",
    "    return C_measure_new3"
   ]
  },
  {
   "cell_type": "code",
   "execution_count": null,
   "id": "ba2c4054",
   "metadata": {},
   "outputs": [],
   "source": [
    "def C_measure_list3(data):\n",
    "    # function to create an array of measures and plot scatter plot of them\n",
    "    C_measure_new_list3 = np.zeros(13)\n",
    "    for i in range(13):\n",
    "        C_measure_new_list3[i] = C_measure_new3(data, i)\n",
    "        \n",
    "    return C_measure_new_list3"
   ]
  },
  {
   "cell_type": "markdown",
   "id": "7f3c2178",
   "metadata": {},
   "source": [
    "## ACU patients"
   ]
  },
  {
   "cell_type": "code",
   "execution_count": null,
   "id": "28b4b9d7",
   "metadata": {
    "scrolled": true
   },
   "outputs": [],
   "source": [
    "C_pl_new_a3 = np.zeros(shape=(7,13)) # an array to store C_measure\n",
    "for i in range(1, 8):\n",
    "    C_pl_new_a3[i-1]=C_measure_list3(ACU_data(i))"
   ]
  },
  {
   "cell_type": "markdown",
   "id": "7e611347",
   "metadata": {},
   "source": [
    "### Best score in ACU"
   ]
  },
  {
   "cell_type": "code",
   "execution_count": null,
   "id": "8192160b",
   "metadata": {},
   "outputs": [],
   "source": [
    "np.max(C_pl_new_a3)"
   ]
  },
  {
   "cell_type": "code",
   "execution_count": null,
   "id": "ef49185b",
   "metadata": {},
   "outputs": [],
   "source": [
    "np.where(C_pl_new_a3 == np.max(C_pl_new_a3))"
   ]
  },
  {
   "cell_type": "code",
   "execution_count": null,
   "id": "aaa6f675",
   "metadata": {
    "scrolled": true
   },
   "outputs": [],
   "source": [
    "map_sub(ACU_data(3), 10, plot_m=True)"
   ]
  },
  {
   "cell_type": "code",
   "execution_count": null,
   "id": "51f0bf3a",
   "metadata": {},
   "outputs": [],
   "source": [
    "np.min(C_pl_new_a3)"
   ]
  },
  {
   "cell_type": "markdown",
   "id": "70780242",
   "metadata": {},
   "source": [
    "## LTV patients"
   ]
  },
  {
   "cell_type": "code",
   "execution_count": null,
   "id": "dc71adc2",
   "metadata": {},
   "outputs": [],
   "source": [
    "C_pl_new_l3 = np.zeros(shape=(6,13)) # an array to store C_measure\n",
    "for i in range(1, 7):\n",
    "    C_pl_new_l3[i-1]=C_measure_list3(LTV_data(i))"
   ]
  },
  {
   "cell_type": "markdown",
   "id": "3533da21",
   "metadata": {},
   "source": [
    "### Best score in LTV"
   ]
  },
  {
   "cell_type": "code",
   "execution_count": null,
   "id": "c1813d75",
   "metadata": {},
   "outputs": [],
   "source": [
    "np.max(C_pl_new_l3)"
   ]
  },
  {
   "cell_type": "code",
   "execution_count": null,
   "id": "0750f68b",
   "metadata": {},
   "outputs": [],
   "source": [
    "C_pl_new_l3"
   ]
  },
  {
   "cell_type": "code",
   "execution_count": null,
   "id": "49e25ed2",
   "metadata": {},
   "outputs": [],
   "source": [
    "np.where(C_pl_new_l3 == np.max(C_pl_new_l3))"
   ]
  },
  {
   "cell_type": "code",
   "execution_count": null,
   "id": "c3a56dc6",
   "metadata": {},
   "outputs": [],
   "source": [
    "map_sub(LTV_data(4), 3, plot_m=True)"
   ]
  },
  {
   "cell_type": "code",
   "execution_count": null,
   "id": "21aaf2b4",
   "metadata": {},
   "outputs": [],
   "source": [
    "np.min(C_pl_new_l3)"
   ]
  },
  {
   "cell_type": "code",
   "execution_count": null,
   "id": "84bcd8af",
   "metadata": {},
   "outputs": [],
   "source": [
    "np.where(C_pl_new_l3 == np.min(C_pl_new_l3))"
   ]
  },
  {
   "cell_type": "markdown",
   "id": "223a821f",
   "metadata": {},
   "source": [
    "### Maximum Score for LTV patient"
   ]
  },
  {
   "cell_type": "code",
   "execution_count": null,
   "id": "934baa78",
   "metadata": {},
   "outputs": [],
   "source": [
    "np.max(C_pl_l)"
   ]
  },
  {
   "cell_type": "code",
   "execution_count": null,
   "id": "8571bb09",
   "metadata": {},
   "outputs": [],
   "source": [
    "C_pl_l"
   ]
  },
  {
   "cell_type": "markdown",
   "id": "425a3c99",
   "metadata": {},
   "source": [
    "## Box Plots for Period\n",
    "\n",
    "### ACU patients"
   ]
  },
  {
   "cell_type": "code",
   "execution_count": null,
   "id": "cbb8f9ef",
   "metadata": {},
   "outputs": [],
   "source": [
    "periods_a = np.zeros((7,13)) # create an empty array for ACU periods\n",
    "for j in range(1,8): # loop over patients\n",
    "    period = np.zeros(13) # empty array for an individual's periods\n",
    "    for i in range(13): # loop over genes\n",
    "        X, Z, m = map_sub(ACU_data(j),i) # map estimation\n",
    "        period[i]=m.kernel.kernels[0].period.numpy() # assign period\n",
    "    periods_a[j-1]=period"
   ]
  },
  {
   "cell_type": "markdown",
   "id": "73454008",
   "metadata": {},
   "source": [
    "### Finding outliers in the data"
   ]
  },
  {
   "cell_type": "code",
   "execution_count": null,
   "id": "af8304cf",
   "metadata": {},
   "outputs": [],
   "source": [
    "x = np.where(periods_a > 30) # find periods over 30 hours\n",
    "\n",
    "print(x)"
   ]
  },
  {
   "cell_type": "code",
   "execution_count": null,
   "id": "c470ecac",
   "metadata": {},
   "outputs": [],
   "source": [
    "y = np.where(periods_a < 19) # find periods under 19 hours\n",
    "\n",
    "print(y)"
   ]
  },
  {
   "cell_type": "code",
   "execution_count": null,
   "id": "c0db3950",
   "metadata": {
    "scrolled": true
   },
   "outputs": [],
   "source": [
    "periods_a"
   ]
  },
  {
   "cell_type": "code",
   "execution_count": null,
   "id": "89725bbf",
   "metadata": {},
   "outputs": [],
   "source": [
    "# extracting labels for genes\n",
    "genes=np.squeeze(annot['LTV01dup'][0][0]['genes'])"
   ]
  },
  {
   "cell_type": "code",
   "execution_count": null,
   "id": "a2e9ff81",
   "metadata": {
    "scrolled": true
   },
   "outputs": [],
   "source": [
    "# box plots of ACU patients\n",
    "plt.figure(figsize=(12,8))\n",
    "plt.boxplot(periods_a, labels=genes)\n",
    "plt.axhline(y=24, linestyle='-') # show circadian period\n",
    "plt.title(\"Spread of Periods among ACU patients (Duplicate)\")\n",
    "plt.xlabel(\"Genes\")\n",
    "plt.yticks(np.arange(14,36))\n",
    "plt.ylabel(\"Period (hr)\")\n",
    "plt.ylim([14,36])"
   ]
  },
  {
   "cell_type": "code",
   "execution_count": null,
   "id": "b14ac2ed",
   "metadata": {},
   "outputs": [],
   "source": [
    "# create array to assign periods to correct patient\n",
    "a = np.arange(1,14)\n",
    "ad_a = np.concatenate((a,a,a,a,a,a,a))\n",
    "lists_a=np.reshape((periods_a),np.shape(ad_a)) # reshape for scatter"
   ]
  },
  {
   "cell_type": "code",
   "execution_count": null,
   "id": "57064807",
   "metadata": {},
   "outputs": [],
   "source": [
    "# violin plots of ACU period spread\n",
    "plt.figure(figsize=(12,8))\n",
    "plt.violinplot(periods_a, showmeans=True) # show means on periods\n",
    "plt.axhline(y=24, linestyle='-') # show circadian period\n",
    "plt.scatter(ad_a,lists_a,c='k') # add individual data points\n",
    "plt.title(\"Spread of Periods among ACU patients (Duplicate)\")\n",
    "plt.xlabel(\"Genes\")\n",
    "plt.xticks(np.arange(1,14), labels=genes)\n",
    "plt.yticks(np.arange(14,37))\n",
    "plt.ylabel(\"Period (hr)\")\n",
    "plt.ylim([14,36])"
   ]
  },
  {
   "cell_type": "markdown",
   "id": "cb7f70ba",
   "metadata": {},
   "source": [
    "### LTV patients"
   ]
  },
  {
   "cell_type": "code",
   "execution_count": null,
   "id": "58c76be0",
   "metadata": {},
   "outputs": [],
   "source": [
    "periods_l = np.zeros((6,13)) # create an erray to store LTV periods in\n",
    "for j in range(1,7): #loop over patients\n",
    "    period = np.zeros(13) # empty erray for individual's genes\n",
    "    for i in range(13): # loop over genes\n",
    "        X, Z, m = map_sub(LTV_data(j),i) # map estimatino\n",
    "        period[i]=m.kernel.kernels[0].period.numpy() # assign period\n",
    "    periods_l[j-1]=period"
   ]
  },
  {
   "cell_type": "code",
   "execution_count": null,
   "id": "14e4f9ac",
   "metadata": {
    "scrolled": true
   },
   "outputs": [],
   "source": [
    "# box plots of periods for LTV\n",
    "plt.figure(figsize=(12,8))\n",
    "plt.boxplot(periods_l, labels=genes)\n",
    "plt.axhline(y=24, linestyle='-')\n",
    "plt.title(\"Spread of Periods among LTV patients (Duplicate)\")\n",
    "plt.xlabel(\"Genes\")\n",
    "plt.yticks(np.arange(14,36))\n",
    "plt.ylabel(\"Period (hr)\")\n",
    "plt.ylim([14,36])"
   ]
  },
  {
   "cell_type": "code",
   "execution_count": null,
   "id": "0fc1f0b6",
   "metadata": {},
   "outputs": [],
   "source": [
    "# create an array to label each period to allow a scatter plot\n",
    "a = np.arange(1,14)\n",
    "ad_l = np.concatenate((a,a,a,a,a,a))\n",
    "lists_l=np.reshape((periods_l),np.shape(ad_l)) # reshape the periods for scatter plot"
   ]
  },
  {
   "cell_type": "code",
   "execution_count": null,
   "id": "0670f12f",
   "metadata": {},
   "outputs": [],
   "source": [
    "# plot violin plot of periods in LTV cohort\n",
    "plt.figure(figsize=(12,8))\n",
    "plt.violinplot(periods_l, showmeans=True) # plot LTV periods and show means\n",
    "plt.axhline(y=24, linestyle='-') # add line to show circadian period\n",
    "plt.scatter(ad_l,lists_l,c='k') # plot individual data points\n",
    "plt.title(\"Spread of Periods among LTV patients (Duplicate)\")\n",
    "plt.xlabel(\"Genes\")\n",
    "plt.xticks(np.arange(1,14), labels=genes)\n",
    "plt.yticks(np.arange(14,37))\n",
    "plt.ylabel(\"Period (hr)\")\n",
    "plt.ylim([14,36])"
   ]
  },
  {
   "cell_type": "markdown",
   "id": "7b43ab9a",
   "metadata": {},
   "source": [
    "## Is it circadian?"
   ]
  },
  {
   "cell_type": "code",
   "execution_count": null,
   "id": "1fa49e50",
   "metadata": {},
   "outputs": [],
   "source": [
    "def CircCheck(data, i):\n",
    "    # a function that classifies whether a specific gene is circadian or not\n",
    "    X, Z, m = map_sub(data, i) # perform MAP estimation\n",
    "    l_var = m.likelihood.variance.numpy() # extract likelihood variance\n",
    "    sig_var = m.kernel.kernels[0].base_kernel.variance.numpy() # extract signal variance\n",
    "    lscales = m.kernel.kernels[0].base_kernel.lengthscales.numpy() # extract lengthscales\n",
    "    period = m.kernel.kernels[0].period # extract period\n",
    "    if sig_var>0.1 and 20<=period<=28 and lscales>0.5:\n",
    "        CircCheck = True\n",
    "    else:\n",
    "        CircCheck = False\n",
    "    return CircCheck"
   ]
  },
  {
   "cell_type": "markdown",
   "id": "584939a5",
   "metadata": {},
   "source": [
    "#### ACU cohort"
   ]
  },
  {
   "cell_type": "code",
   "execution_count": null,
   "id": "4eb089a4",
   "metadata": {},
   "outputs": [],
   "source": [
    "CC_grid_a = np.zeros((7,13)) # create empty array to store circadian classifications for ACU cohort\n",
    "\n",
    "for j in range(1,8): # loop over patients\n",
    "    for i in range(13): # loop over genes\n",
    "        CC_grid_a[j-1,i]=CircCheck(ACU_data(j),i) # classify each as circadian or not\n",
    "\n",
    "print(CC_grid_a)"
   ]
  },
  {
   "cell_type": "code",
   "execution_count": null,
   "id": "f21276c9",
   "metadata": {},
   "outputs": [],
   "source": [
    "CC_list_a = np.zeros(13) # create empty list to store circadian genes in for ACU cohort\n",
    "\n",
    "for i in range(13): # loop over genes\n",
    "    CC_list_a[i] = 100*((CC_grid_a[:,i] == 1).sum())/7 # calculate percentage of genes that are circadian\n",
    "\n",
    "plt.figure(figsize=(12,8))\n",
    "plt.bar(np.arange(1,14), CC_list_a)\n",
    "plt.title('Percentage of Genes that are Circadian in ACU cohort')\n",
    "plt.xlabel('Genes')\n",
    "plt.xticks(np.arange(1,14),genes)\n",
    "plt.ylabel('Percentage')"
   ]
  },
  {
   "cell_type": "code",
   "execution_count": null,
   "id": "2a97f63d",
   "metadata": {
    "scrolled": true
   },
   "outputs": [],
   "source": [
    "CC_olist_a = np.zeros(7) # create empty list to store circadian genes in for ACU cohort\n",
    "\n",
    "for i in range(7): # loop over patients\n",
    "    CC_olist_a[i] = (CC_grid_a[i] == 1).sum() # add number of circadian genes for each patient\n",
    "plt.bar(['ACU01','ACU02','ACU03','ACU04','ACU05','ACU06','ACU07'], CC_olist_a)\n",
    "plt.title('Number of Circadian Genes found in each Patient')\n",
    "plt.xlabel('Patients')\n",
    "plt.ylabel('Number of genes')"
   ]
  },
  {
   "cell_type": "markdown",
   "id": "40dccd06",
   "metadata": {},
   "source": [
    "#### LTV cohort"
   ]
  },
  {
   "cell_type": "code",
   "execution_count": null,
   "id": "c1ccc76b",
   "metadata": {},
   "outputs": [],
   "source": [
    "CC_grid_l = np.zeros((6,13)) # create empty array to check whether a gene is circadian for LTV cohort\n",
    "for j in range(1,7): # loop over LTV patients\n",
    "    for i in range(13): # loop over genes\n",
    "        CC_grid_l[j-1,i]=CircCheck(LTV_data(j),i) # classify as circadian or not"
   ]
  },
  {
   "cell_type": "code",
   "execution_count": null,
   "id": "6d38b10a",
   "metadata": {},
   "outputs": [],
   "source": [
    "CC_list_l = np.zeros(13) # create empty list to store circadian genes in for LTV cohort\n",
    "\n",
    "for i in range(13): # loop over genes\n",
    "    CC_list_l[i] = 100*((CC_grid_l[:,i] == 1).sum())/6 # calculate percentage of genes that are circadian per patient\n",
    "\n",
    "plt.figure(figsize=(12,8))\n",
    "plt.bar(np.arange(1,14), CC_list_l)\n",
    "plt.title('Percentage of Genes that are Circadian in LTV Cohort')\n",
    "plt.xlabel('Genes')\n",
    "plt.xticks(np.arange(1,14),genes)\n",
    "plt.ylabel('Percentage')"
   ]
  },
  {
   "cell_type": "code",
   "execution_count": null,
   "id": "c76e1454",
   "metadata": {
    "scrolled": true
   },
   "outputs": [],
   "source": [
    "CC_olist_l = np.zeros(6) # create empty list to store circadian genes for LTV cohort\n",
    "\n",
    "for i in range(6):\n",
    "    CC_olist_l[i] = (CC_grid_l[i] == 1).sum() # add circadian genes per patient\n",
    "plt.bar(['LTV01','LTV02','LTV03','LTV04','LTV05','LTV06'], CC_olist_l)\n",
    "plt.title('Number of Circadian Genes found in each Patient')\n",
    "plt.xlabel('Patients')\n",
    "plt.ylabel('Number of genes')"
   ]
  },
  {
   "cell_type": "markdown",
   "id": "925f4377",
   "metadata": {},
   "source": [
    "#### Show both cohorts"
   ]
  },
  {
   "cell_type": "code",
   "execution_count": null,
   "id": "561efdf9",
   "metadata": {
    "scrolled": false
   },
   "outputs": [],
   "source": [
    "CC_olist=np.concatenate((CC_olist_a,CC_olist_l)) # concatenate cohorts to plot together\n",
    "\n",
    "plt.figure(figsize=(12,8))\n",
    "plt.bar(['ACU01','ACU02','ACU03','ACU04','ACU05','ACU06','ACU07','LTV01','LTV02','LTV03','LTV04','LTV05','LTV06'], CC_olist)\n",
    "plt.title('Number of Circadian Genes found in each Patient')\n",
    "plt.xlabel('Patients')\n",
    "plt.ylabel('Number of genes')\n",
    "plt.yticks(np.arange(1,11))\n",
    "plt.show()"
   ]
  },
  {
   "cell_type": "code",
   "execution_count": null,
   "id": "8c7131fd",
   "metadata": {
    "scrolled": false
   },
   "outputs": [],
   "source": [
    "CC_list = np.zeros(13) # create list to store circadian genes\n",
    "for i in range(13):\n",
    "    CC_list[i] = 100*((CC_grid_a[:,i] == 1).sum()+(CC_grid_l[:,i] == 1).sum())/13 # calculate percentage of circ genes\n",
    "\n",
    "plt.figure(figsize=(12,8))\n",
    "plt.bar(np.arange(1,14), CC_list)\n",
    "plt.title('Percentage of Genes that are Circadian in both cohorts')\n",
    "plt.xlabel('Genes')\n",
    "plt.xticks(np.arange(1,14),genes)\n",
    "plt.ylabel('Percentage')"
   ]
  }
 ],
 "metadata": {
  "kernelspec": {
   "display_name": "Python 3",
   "language": "python",
   "name": "python3"
  },
  "language_info": {
   "codemirror_mode": {
    "name": "ipython",
    "version": 3
   },
   "file_extension": ".py",
   "mimetype": "text/x-python",
   "name": "python",
   "nbconvert_exporter": "python",
   "pygments_lexer": "ipython3",
   "version": "3.8.10"
  }
 },
 "nbformat": 4,
 "nbformat_minor": 5
}
