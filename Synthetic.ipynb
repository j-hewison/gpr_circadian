{
 "cells": [
  {
   "cell_type": "code",
   "execution_count": null,
   "id": "3dbb5bd2",
   "metadata": {},
   "outputs": [],
   "source": [
    "import numpy as np\n",
    "import gpflow\n",
    "import tensorflow_probability as tfp\n",
    "from tensorflow_probability import distributions as tfd\n",
    "import matplotlib.pyplot as plt\n",
    "import tensorflow as tf\n",
    "from gpflow.utilities import print_summary, set_trainable, to_default_float\n",
    "import statistics\n",
    "from scipy import stats\n",
    "import random\n",
    "from gpflow.utilities import print_summary, positive\n",
    "import math\n",
    "from gpflow.ci_utils import ci_niter\n",
    "#import plot_from_samples, colors\n",
    "colors = [\"#1f77b4\", \"#ff7f0e\", \"#2ca02c\"]\n",
    "import scipy\n",
    "from scipy import io"
   ]
  },
  {
   "cell_type": "code",
   "execution_count": null,
   "id": "2158a7bc",
   "metadata": {},
   "outputs": [],
   "source": [
    "def plot_from_samples(m, X, Y, parameters, parameter_samples, thin):\n",
    "\n",
    "    f = plt.figure(figsize=(12, 6))\n",
    "    a1 = f.add_axes([0.05, 0.05, 0.9, 0.6])\n",
    "    a2 = f.add_axes([0.05, 0.7, 0.9, 0.1])\n",
    "    a3 = f.add_axes([0.05, 0.85, 0.9, 0.1])\n",
    "\n",
    "    xx = np.linspace(X.min(), X.max(), 200).reshape(-1, 1)\n",
    "\n",
    "    Fpred, Ypred = [], []\n",
    "    num_samples = len(parameter_samples[0])\n",
    "    for i in range(0, num_samples, thin):\n",
    "        for parameter, var_samples in zip(parameters, parameter_samples):\n",
    "            parameter.assign(var_samples[i])\n",
    "        Ypred.append(m.predict_y(xx)[0])\n",
    "        Fpred.append(np.squeeze(m.predict_f_samples(xx, 1)))\n",
    "\n",
    "    for i in range(m.likelihood.num_classes):\n",
    "        x = X[Y.reshape(-1) == i]\n",
    "        (points,) = a3.plot(x, x * 0, \".\")\n",
    "        color = points.get_color()\n",
    "        for F in Fpred:\n",
    "            a1.plot(xx, F[:, i], color=color, lw=0.2, alpha=1.0)\n",
    "        for Yp in Ypred:\n",
    "            a2.plot(xx, Yp[:, i], color=color, lw=0.5, alpha=1.0)\n",
    "\n",
    "    a2.set_ylim(-0.1, 1.1)\n",
    "    a2.set_yticks([0, 1])\n",
    "    a2.set_xticks([])\n",
    "\n",
    "    a3.set_xticks([])\n",
    "    a3.set_yticks([])\n",
    "\n",
    "    a3.set_title(\"inputs X\")\n",
    "    a2.set_title(\n",
    "        \"predicted mean label value \\\n",
    "                 $\\mathbb{E}_{q(\\mathbf{u})}[y^*|x^*, Z, \\mathbf{u}]$\"\n",
    "    )\n",
    "    a1.set_title(\n",
    "        \"posterior process samples \\\n",
    "                $\\int d\\mathbf{u} q(\\mathbf{u})p(f^*|\\mathbf{u}, Z, x^*)$\"\n",
    "    )"
   ]
  },
  {
   "cell_type": "code",
   "execution_count": null,
   "id": "01360b80",
   "metadata": {},
   "outputs": [],
   "source": [
    "gpflow.config.set_default_float(np.float64)\n",
    "gpflow.config.set_default_jitter(1e-4)\n",
    "gpflow.config.set_default_summary_fmt(\"notebook\")\n",
    "# convert to float64 for tfp to play nicely with gpflow in 64\n",
    "f64 = gpflow.utilities.to_default_float\n",
    "\n",
    "tf.random.set_seed(123)\n",
    "\n",
    "\n",
    "%matplotlib inline"
   ]
  },
  {
   "cell_type": "markdown",
   "id": "fa8841bf",
   "metadata": {},
   "source": [
    "# 48 hr data, 1hr sampling, 1 repeat\n",
    "We create synthetic data that should have a circadian rhythm:"
   ]
  },
  {
   "cell_type": "code",
   "execution_count": null,
   "id": "444ed2df",
   "metadata": {},
   "outputs": [],
   "source": [
    "# toy data\n",
    "N = 48\n",
    "X = np.linspace(0,N-1,N).reshape((N,1))\n",
    "Y = np.sin(np.pi*X/12) + np.cos(np.pi*X/12) + np.random.randn(N,1)*0.3 +0.5"
   ]
  },
  {
   "cell_type": "code",
   "execution_count": null,
   "id": "0b94ace5",
   "metadata": {},
   "outputs": [],
   "source": [
    "# z-score it\n",
    "Z = stats.zscore(Y)"
   ]
  },
  {
   "cell_type": "markdown",
   "id": "ea45056e",
   "metadata": {},
   "source": [
    "To check the Z-score:"
   ]
  },
  {
   "cell_type": "code",
   "execution_count": null,
   "id": "a9c9f95b",
   "metadata": {},
   "outputs": [],
   "source": [
    "def mean(data):\n",
    "    n=len(data)\n",
    "    mean=sum(data)/n\n",
    "    return mean"
   ]
  },
  {
   "cell_type": "code",
   "execution_count": null,
   "id": "4da49712",
   "metadata": {},
   "outputs": [],
   "source": [
    "def variance(data):\n",
    "    n=len(data)\n",
    "    mean=sum(data)/n\n",
    "    deviations=[(x-mean)**2 for x in data]\n",
    "    variance=sum(deviations)/n\n",
    "    return variance"
   ]
  },
  {
   "cell_type": "code",
   "execution_count": null,
   "id": "3003a9f9",
   "metadata": {},
   "outputs": [],
   "source": [
    "variance(Z)"
   ]
  },
  {
   "cell_type": "code",
   "execution_count": null,
   "id": "4c978ff8",
   "metadata": {},
   "outputs": [],
   "source": [
    "mean(Z)"
   ]
  },
  {
   "cell_type": "code",
   "execution_count": null,
   "id": "753089aa",
   "metadata": {
    "scrolled": true
   },
   "outputs": [],
   "source": [
    "plt.plot(X,Y, label='Original toy data')\n",
    "plt.plot(X,Z, label='Z-scored data')\n",
    "plt.legend()\n",
    "plt.xlabel(\"Time (hr)\")\n",
    "plt.title(\"48hr data, 1hr sampling\")"
   ]
  },
  {
   "cell_type": "markdown",
   "id": "a89faa30",
   "metadata": {},
   "source": [
    "Here we can see the circadian nature of the data.\n",
    "\n",
    "## Fitting using a Squared Exponential Periodic Kernel\n",
    "\n",
    "Here we use a Squared Exponential periodic kernel with period set to to be 24 hours.\n",
    "\n",
    "The Squared Exponential base kernel in a periodic kernel can be expressed as:\n",
    "\\begin{equation}\n",
    "k(r) = \\sigma ^2 \\exp\\left(-\\frac{1}{2}\\sin ^2\\left(\\frac{\\pi r/ \\gamma}{\\lambda ^2}\\right)\\right) ,\n",
    "\\end{equation}\n",
    "where $r$ is the Euclidean distance between the input points, $\\lambda$ is the lengthscales parameter, $\\sigma^2$ is the variance parameter and $\\gamma$ is the period parameter."
   ]
  },
  {
   "cell_type": "code",
   "execution_count": null,
   "id": "dce7970a",
   "metadata": {},
   "outputs": [],
   "source": [
    "# create kernel\n",
    "k=gpflow.kernels.Periodic(gpflow.kernels.SquaredExponential(), period=24.0)"
   ]
  },
  {
   "cell_type": "code",
   "execution_count": null,
   "id": "af37bfc7",
   "metadata": {},
   "outputs": [],
   "source": [
    "# create model using data and above kernel\n",
    "m = gpflow.models.GPR(data=(X,Z), kernel=k, mean_function=None)\n",
    "m.likelihood.variance.assign(0.1)"
   ]
  },
  {
   "cell_type": "code",
   "execution_count": null,
   "id": "e8b3684e",
   "metadata": {},
   "outputs": [],
   "source": [
    "m"
   ]
  },
  {
   "cell_type": "code",
   "execution_count": null,
   "id": "ad97650c",
   "metadata": {},
   "outputs": [],
   "source": [
    "## generate test points for prediction\n",
    "xx = np.linspace(-72.1, 72.1, 100).reshape(100, 1)  # test points must be of shape (N, D)\n",
    "\n",
    "## predict mean and variance of latent GP at test points\n",
    "mean, var = m.predict_y(xx)\n",
    "\n",
    "## generate 10 samples from posterior\n",
    "tf.random.set_seed(1)  # for reproducibility\n",
    "samples = m.predict_f_samples(xx, 10)  # shape (10, 100, 1)\n",
    "\n",
    "## plot\n",
    "plt.figure(figsize=(12, 6))\n",
    "plt.plot(X, Z, \"kx\", mew=2)\n",
    "plt.plot(xx, mean, \"C0\", lw=2)\n",
    "plt.fill_between(\n",
    "    xx[:, 0],\n",
    "    mean[:, 0] - 1.96 * np.sqrt(var[:, 0]),\n",
    "    mean[:, 0] + 1.96 * np.sqrt(var[:, 0]),\n",
    "    color=\"C0\",\n",
    "    alpha=0.2,\n",
    ")\n",
    "\n",
    "plt.plot(xx, samples[:, :, 0].numpy().T, \"C0\", linewidth=0.5)\n",
    "_ = plt.xlim(-5,55)"
   ]
  },
  {
   "cell_type": "markdown",
   "id": "5b03b857",
   "metadata": {},
   "source": [
    "## Optimising using MLE\n",
    "\n",
    "We will attempt to improve this fit using Maximum Likelihood Estimation."
   ]
  },
  {
   "cell_type": "code",
   "execution_count": null,
   "id": "59c2efbc",
   "metadata": {},
   "outputs": [],
   "source": [
    "opt = gpflow.optimizers.Scipy()\n",
    "opt.minimize(m.training_loss, variables=m.trainable_variables)"
   ]
  },
  {
   "cell_type": "code",
   "execution_count": null,
   "id": "3881ca0f",
   "metadata": {
    "scrolled": true
   },
   "outputs": [],
   "source": [
    "m"
   ]
  },
  {
   "cell_type": "markdown",
   "id": "0f71adb1",
   "metadata": {},
   "source": [
    "Our fit still gives a period close to circadian rhythm."
   ]
  },
  {
   "cell_type": "code",
   "execution_count": null,
   "id": "e0e7b81d",
   "metadata": {
    "scrolled": false
   },
   "outputs": [],
   "source": [
    "## generate test points for prediction\n",
    "xx = np.linspace(-72.1, 72.1, 100).reshape(100, 1)  # test points must be of shape (N, D)\n",
    "\n",
    "## predict mean and variance of latent GP at test points\n",
    "mean, var = m.predict_y(xx)\n",
    "\n",
    "## generate 10 samples from posterior\n",
    "tf.random.set_seed(1)  # for reproducibility\n",
    "samples = m.predict_f_samples(xx, 10)  # shape (10, 100, 1)\n",
    "\n",
    "## plot\n",
    "plt.figure(figsize=(12, 6))\n",
    "plt.plot(X, Z, \"kx\", mew=2)\n",
    "plt.plot(xx, mean, \"C0\", lw=2)\n",
    "plt.fill_between(\n",
    "    xx[:, 0],\n",
    "    mean[:, 0] - 1.96 * np.sqrt(var[:, 0]),\n",
    "    mean[:, 0] + 1.96 * np.sqrt(var[:, 0]),\n",
    "    color=\"C0\",\n",
    "    alpha=0.2,\n",
    ")\n",
    "\n",
    "plt.plot(xx, samples[:, :, 0].numpy().T, \"C0\", linewidth=0.5)\n",
    "_ = plt.xlim(-5, 55)\n",
    "plt.xlabel(\"Time (hr)\")\n",
    "plt.title(\"Original 48 hr data 1hr Sampling MLE\")"
   ]
  },
  {
   "cell_type": "markdown",
   "id": "c6569892",
   "metadata": {},
   "source": [
    "## Maximum A Priori Estimation using Priors"
   ]
  },
  {
   "cell_type": "markdown",
   "id": "03abad91",
   "metadata": {},
   "source": [
    "### Using priors with Gamma distribution"
   ]
  },
  {
   "cell_type": "markdown",
   "id": "9093b4b0",
   "metadata": {},
   "source": [
    "A random quantity $X$ has a Gamma distribution with parameters $\\alpha \\geq 1$ and $\\beta$, written $X | \\alpha, \\beta ~$ Gamma($\\alpha, \\beta$), if it has pdf\n",
    "\\begin{equation}\n",
    "f(x | \\alpha,\\beta) = \n",
    "\\begin{cases} \n",
    "  \\frac{\\beta^{\\alpha}}{\\Gamma(\\alpha)}x^{\\alpha - 1}\\exp({-\\beta x}) & x\\in [0,\\infty]\\\\\n",
    "  0 & otherwise \\\\\n",
    "\\end{cases}\n",
    "\\end{equation}\n",
    "This is useful when modelling strictly positive quantities, as we want our prior to be positive, we will try using a Gamma prior. To choose the right prior values, we can see what each distribution looks like below."
   ]
  },
  {
   "cell_type": "code",
   "execution_count": null,
   "id": "57ce11f3",
   "metadata": {},
   "outputs": [],
   "source": [
    "from scipy.stats import gamma\n",
    "fig, ax = plt.subplots(1,2, figsize=(12, 4), constrained_layout=True)\n",
    "a = 2\n",
    "b = 1\n",
    "N = 48\n",
    "x = np.linspace(0,N-1,N)\n",
    "ax[0].plot(x, gamma.pdf(x, a, b),label='$\\Gamma(2,1)$')\n",
    "ax[0].legend(loc='best', frameon=False)\n",
    "ax[0].set_title(\"Gamma Prior: $\\Gamma(2,1)$\")\n",
    "a = 25\n",
    "ax[1].plot(x, gamma.pdf(x, a, b),label='$\\Gamma(25,1)$')\n",
    "ax[1].legend(loc='best', frameon=False)\n",
    "ax[1].set_title(\"Gamma Prior: $\\Gamma(25,1)$\")\n",
    "plt.show()"
   ]
  },
  {
   "cell_type": "code",
   "execution_count": null,
   "id": "f10d9c5d",
   "metadata": {},
   "outputs": [],
   "source": [
    "# create kernel\n",
    "k=gpflow.kernels.Periodic(gpflow.kernels.SquaredExponential(), period=24.0)"
   ]
  },
  {
   "cell_type": "code",
   "execution_count": null,
   "id": "626ebac1",
   "metadata": {},
   "outputs": [],
   "source": [
    "k.base_kernel.variance.prior = tfp.distributions.Gamma(\n",
    "    to_default_float(2), to_default_float(1)\n",
    ")\n",
    "k.base_kernel.lengthscales.prior = tfp.distributions.Gamma(\n",
    "    to_default_float(2), to_default_float(1)\n",
    ")\n",
    "k.period.prior = tfp.distributions.Gamma(\n",
    "   to_default_float(25), to_default_float(1)\n",
    ")\n",
    "k"
   ]
  },
  {
   "cell_type": "code",
   "execution_count": null,
   "id": "23c08c9d",
   "metadata": {},
   "outputs": [],
   "source": [
    "# create model using data and above kernel\n",
    "m = gpflow.models.GPR(data=(X,Z), kernel=k, mean_function=None)\n",
    "m.likelihood.variance.prior = tfp.distributions.Gamma(\n",
    "   to_default_float(2), to_default_float(0.1)\n",
    ")"
   ]
  },
  {
   "cell_type": "code",
   "execution_count": null,
   "id": "0aa6f695",
   "metadata": {},
   "outputs": [],
   "source": [
    "opt = gpflow.optimizers.Scipy()\n",
    "opt.minimize(m.training_loss, variables=m.trainable_variables)"
   ]
  },
  {
   "cell_type": "code",
   "execution_count": null,
   "id": "321839d3",
   "metadata": {
    "scrolled": true
   },
   "outputs": [],
   "source": [
    "m"
   ]
  },
  {
   "cell_type": "code",
   "execution_count": null,
   "id": "0fbd9122",
   "metadata": {
    "scrolled": false
   },
   "outputs": [],
   "source": [
    "## generate test points for prediction\n",
    "xx = np.linspace(-72.1, 72.1, 100).reshape(100, 1)  # test points must be of shape (N, D)\n",
    "\n",
    "## predict mean and variance of latent GP at test points\n",
    "mean, var = m.predict_y(xx)\n",
    "\n",
    "## generate 10 samples from posterior\n",
    "tf.random.set_seed(1)  # for reproducibility\n",
    "samples = m.predict_f_samples(xx, 10)  # shape (10, 100, 1)\n",
    "\n",
    "## plot\n",
    "plt.figure(figsize=(12, 6))\n",
    "plt.plot(X, Z, \"kx\", mew=2)\n",
    "plt.plot(xx, mean, \"C0\", lw=2)\n",
    "plt.fill_between(\n",
    "    xx[:, 0],\n",
    "    mean[:, 0] - 1.96 * np.sqrt(var[:, 0]),\n",
    "    mean[:, 0] + 1.96 * np.sqrt(var[:, 0]),\n",
    "    color=\"C0\",\n",
    "    alpha=0.2,\n",
    ")\n",
    "\n",
    "plt.plot(xx, samples[:, :, 0].numpy().T, \"C0\", linewidth=0.5)\n",
    "_ = plt.xlim(-5, 55)\n",
    "plt.xlabel(\"Time (hr)\")\n",
    "plt.title(\"48 hr data 1hr Sampling MAP\")"
   ]
  },
  {
   "cell_type": "markdown",
   "id": "afcbdc55",
   "metadata": {},
   "source": [
    "# 24hrs data, 1hr sampling, 1 repeat\n",
    "### MLE"
   ]
  },
  {
   "cell_type": "code",
   "execution_count": null,
   "id": "c1c19c32",
   "metadata": {},
   "outputs": [],
   "source": [
    "# toy data\n",
    "N = 24\n",
    "X = np.linspace(0,N-1,N).reshape((N,1))\n",
    "Y = np.sin(np.pi*X/12) + np.cos(np.pi*X/12) + np.random.randn(N,1)*0.3 +0.5"
   ]
  },
  {
   "cell_type": "code",
   "execution_count": null,
   "id": "546d0a64",
   "metadata": {},
   "outputs": [],
   "source": [
    "# z-score it\n",
    "Z = stats.zscore(Y)"
   ]
  },
  {
   "cell_type": "code",
   "execution_count": null,
   "id": "c390c10f",
   "metadata": {},
   "outputs": [],
   "source": [
    "# create kernel\n",
    "k=gpflow.kernels.Periodic(gpflow.kernels.SquaredExponential(), period=24.0)"
   ]
  },
  {
   "cell_type": "code",
   "execution_count": null,
   "id": "352d2427",
   "metadata": {},
   "outputs": [],
   "source": [
    "# create model using data and above kernel\n",
    "m = gpflow.models.GPR(data=(X,Z), kernel=k, mean_function=None)\n",
    "m.likelihood.variance.assign(0.1)"
   ]
  },
  {
   "cell_type": "code",
   "execution_count": null,
   "id": "81e99649",
   "metadata": {},
   "outputs": [],
   "source": [
    "opt = gpflow.optimizers.Scipy()\n",
    "opt.minimize(m.training_loss, variables=m.trainable_variables)"
   ]
  },
  {
   "cell_type": "code",
   "execution_count": null,
   "id": "45a1be2c",
   "metadata": {
    "scrolled": true
   },
   "outputs": [],
   "source": [
    "m"
   ]
  },
  {
   "cell_type": "code",
   "execution_count": null,
   "id": "dc793c13",
   "metadata": {
    "scrolled": false
   },
   "outputs": [],
   "source": [
    "## generate test points for prediction\n",
    "xx = np.linspace(-72.1, 72.1, 100).reshape(100, 1)  # test points must be of shape (N, D)\n",
    "\n",
    "## predict mean and variance of latent GP at test points\n",
    "mean, var = m.predict_y(xx)\n",
    "\n",
    "## generate 10 samples from posterior\n",
    "tf.random.set_seed(1)  # for reproducibility\n",
    "samples = m.predict_f_samples(xx, 10)  # shape (10, 100, 1)\n",
    "\n",
    "## plot\n",
    "plt.figure(figsize=(12, 6))\n",
    "plt.plot(X, Z, \"kx\", mew=2)\n",
    "plt.plot(xx, mean, \"C0\", lw=2)\n",
    "plt.fill_between(\n",
    "    xx[:, 0],\n",
    "    mean[:, 0] - 1.96 * np.sqrt(var[:, 0]),\n",
    "    mean[:, 0] + 1.96 * np.sqrt(var[:, 0]),\n",
    "    color=\"C0\",\n",
    "    alpha=0.2,\n",
    ")\n",
    "\n",
    "plt.plot(xx, samples[:, :, 0].numpy().T, \"C0\", linewidth=0.5)\n",
    "_ = plt.xlim(-5, 55)\n",
    "plt.xlabel(\"Time (hr)\")\n",
    "plt.title(\"24 hr data 1hr Sampling MLE\")"
   ]
  },
  {
   "cell_type": "markdown",
   "id": "9e21a252",
   "metadata": {},
   "source": [
    "### MAP"
   ]
  },
  {
   "cell_type": "code",
   "execution_count": null,
   "id": "f5b70b1d",
   "metadata": {},
   "outputs": [],
   "source": [
    "# create kernel\n",
    "k=gpflow.kernels.Periodic(gpflow.kernels.SquaredExponential(), period=24.0)"
   ]
  },
  {
   "cell_type": "code",
   "execution_count": null,
   "id": "6dd8b05e",
   "metadata": {},
   "outputs": [],
   "source": [
    "k.base_kernel.variance.prior = tfp.distributions.Gamma(\n",
    "    to_default_float(2), to_default_float(1)\n",
    ")\n",
    "k.base_kernel.lengthscales.prior = tfp.distributions.Gamma(\n",
    "    to_default_float(2), to_default_float(1)\n",
    ")\n",
    "k.period.prior = tfp.distributions.Gamma(\n",
    "   to_default_float(25), to_default_float(1)\n",
    ")\n",
    "k"
   ]
  },
  {
   "cell_type": "code",
   "execution_count": null,
   "id": "aad274df",
   "metadata": {},
   "outputs": [],
   "source": [
    "# create model using data and above kernel\n",
    "m = gpflow.models.GPR(data=(X,Z), kernel=k, mean_function=None)\n",
    "m.likelihood.variance.prior = tfp.distributions.Gamma(\n",
    "   to_default_float(2), to_default_float(0.1)\n",
    ")"
   ]
  },
  {
   "cell_type": "code",
   "execution_count": null,
   "id": "469bbabe",
   "metadata": {},
   "outputs": [],
   "source": [
    "opt = gpflow.optimizers.Scipy()\n",
    "opt.minimize(m.training_loss, variables=m.trainable_variables)"
   ]
  },
  {
   "cell_type": "code",
   "execution_count": null,
   "id": "0a0e2df4",
   "metadata": {
    "scrolled": true
   },
   "outputs": [],
   "source": [
    "m"
   ]
  },
  {
   "cell_type": "code",
   "execution_count": null,
   "id": "a26a2487",
   "metadata": {
    "scrolled": false
   },
   "outputs": [],
   "source": [
    "## generate test points for prediction\n",
    "xx = np.linspace(-72.1, 72.1, 100).reshape(100, 1)  # test points must be of shape (N, D)\n",
    "\n",
    "## predict mean and variance of latent GP at test points\n",
    "mean, var = m.predict_y(xx)\n",
    "\n",
    "## generate 10 samples from posterior\n",
    "tf.random.set_seed(1)  # for reproducibility\n",
    "samples = m.predict_f_samples(xx, 10)  # shape (10, 100, 1)\n",
    "\n",
    "## plot\n",
    "plt.figure(figsize=(12, 6))\n",
    "plt.plot(X, Z, \"kx\", mew=2)\n",
    "plt.plot(xx, mean, \"C0\", lw=2)\n",
    "plt.fill_between(\n",
    "    xx[:, 0],\n",
    "    mean[:, 0] - 1.96 * np.sqrt(var[:, 0]),\n",
    "    mean[:, 0] + 1.96 * np.sqrt(var[:, 0]),\n",
    "    color=\"C0\",\n",
    "    alpha=0.2,\n",
    ")\n",
    "\n",
    "plt.plot(xx, samples[:, :, 0].numpy().T, \"C0\", linewidth=0.5)\n",
    "_ = plt.xlim(-5, 55)\n",
    "plt.xlabel(\"Time (hr)\")\n",
    "plt.title(\"24 hr data 1hr Sampling MAP\")"
   ]
  },
  {
   "cell_type": "markdown",
   "id": "c5fffc03",
   "metadata": {},
   "source": [
    "# 48hrs data, 4hr sampling, 1 repeat\n",
    "### MLE"
   ]
  },
  {
   "cell_type": "code",
   "execution_count": null,
   "id": "e2a7244e",
   "metadata": {},
   "outputs": [],
   "source": [
    "# toy data\n",
    "N = 48\n",
    "M = int(N/4) # to get more realistic sampling\n",
    "X = np.linspace(0,N-1,M).reshape((M,1))\n",
    "Y = np.sin(np.pi*X/12) + np.cos(np.pi*X/12) + np.random.randn(M,1)*0.3 +0.5"
   ]
  },
  {
   "cell_type": "code",
   "execution_count": null,
   "id": "dad9f431",
   "metadata": {},
   "outputs": [],
   "source": [
    "# z-score it\n",
    "Z = stats.zscore(Y)"
   ]
  },
  {
   "cell_type": "code",
   "execution_count": null,
   "id": "8541f737",
   "metadata": {
    "scrolled": false
   },
   "outputs": [],
   "source": [
    "plt.plot(X,Y, label='Original toy data')\n",
    "plt.plot(X,Z, label='Z-scored data')\n",
    "plt.xlabel(\"Time (hr)\")\n",
    "plt.legend()\n",
    "plt.title(\"48hrs 4hr sampling\")"
   ]
  },
  {
   "cell_type": "code",
   "execution_count": null,
   "id": "ef12d64f",
   "metadata": {},
   "outputs": [],
   "source": [
    "# create kernel\n",
    "k=gpflow.kernels.Periodic(gpflow.kernels.SquaredExponential(), period=24.0)"
   ]
  },
  {
   "cell_type": "code",
   "execution_count": null,
   "id": "0ef661a4",
   "metadata": {},
   "outputs": [],
   "source": [
    "# create model using data and above kernel\n",
    "m = gpflow.models.GPR(data=(X,Z), kernel=k, mean_function=None)\n",
    "m.likelihood.variance.assign(0.1)"
   ]
  },
  {
   "cell_type": "code",
   "execution_count": null,
   "id": "4c89d4f8",
   "metadata": {},
   "outputs": [],
   "source": [
    "opt = gpflow.optimizers.Scipy()\n",
    "opt.minimize(m.training_loss, variables=m.trainable_variables)"
   ]
  },
  {
   "cell_type": "code",
   "execution_count": null,
   "id": "3f6d4f6f",
   "metadata": {
    "scrolled": true
   },
   "outputs": [],
   "source": [
    "m"
   ]
  },
  {
   "cell_type": "code",
   "execution_count": null,
   "id": "274bd9eb",
   "metadata": {
    "scrolled": true
   },
   "outputs": [],
   "source": [
    "## generate test points for prediction\n",
    "xx = np.linspace(-72.1, 72.1, 100).reshape(100, 1)  # test points must be of shape (N, D)\n",
    "\n",
    "## predict mean and variance of latent GP at test points\n",
    "mean, var = m.predict_y(xx)\n",
    "\n",
    "## generate 10 samples from posterior\n",
    "tf.random.set_seed(1)  # for reproducibility\n",
    "samples = m.predict_f_samples(xx, 10)  # shape (10, 100, 1)\n",
    "\n",
    "## plot\n",
    "plt.figure(figsize=(12, 6))\n",
    "plt.plot(X, Z, \"kx\", mew=2)\n",
    "plt.plot(xx, mean, \"C0\", lw=2)\n",
    "plt.fill_between(\n",
    "    xx[:, 0],\n",
    "    mean[:, 0] - 1.96 * np.sqrt(var[:, 0]),\n",
    "    mean[:, 0] + 1.96 * np.sqrt(var[:, 0]),\n",
    "    color=\"C0\",\n",
    "    alpha=0.2,\n",
    ")\n",
    "\n",
    "plt.plot(xx, samples[:, :, 0].numpy().T, \"C0\", linewidth=0.5)\n",
    "_ = plt.xlim(-5, 55)\n",
    "plt.xlabel(\"Time (hr)\")\n",
    "plt.title(\"48 hr data 4hr Sampling MLE\")"
   ]
  },
  {
   "cell_type": "markdown",
   "id": "b1eafc93",
   "metadata": {},
   "source": [
    "### MAP"
   ]
  },
  {
   "cell_type": "code",
   "execution_count": null,
   "id": "c0c11b01",
   "metadata": {},
   "outputs": [],
   "source": [
    "# create kernel\n",
    "k=gpflow.kernels.Periodic(gpflow.kernels.SquaredExponential(), period=24.0)"
   ]
  },
  {
   "cell_type": "code",
   "execution_count": null,
   "id": "857769ed",
   "metadata": {},
   "outputs": [],
   "source": [
    "k.base_kernel.variance.prior = tfp.distributions.Gamma(\n",
    "    to_default_float(2), to_default_float(1)\n",
    ")\n",
    "k.base_kernel.lengthscales.prior = tfp.distributions.Gamma(\n",
    "    to_default_float(2), to_default_float(1)\n",
    ")\n",
    "k.period.prior = tfp.distributions.Gamma(\n",
    "   to_default_float(25), to_default_float(1)\n",
    ")\n",
    "k"
   ]
  },
  {
   "cell_type": "code",
   "execution_count": null,
   "id": "e32bce66",
   "metadata": {},
   "outputs": [],
   "source": [
    "# create model using data and above kernel\n",
    "m = gpflow.models.GPR(data=(X,Z), kernel=k, mean_function=None)\n",
    "m.likelihood.variance.prior = tfp.distributions.Gamma(\n",
    "   to_default_float(2), to_default_float(0.1)\n",
    ")"
   ]
  },
  {
   "cell_type": "code",
   "execution_count": null,
   "id": "d194af9a",
   "metadata": {},
   "outputs": [],
   "source": [
    "opt = gpflow.optimizers.Scipy()\n",
    "opt.minimize(m.training_loss, variables=m.trainable_variables)"
   ]
  },
  {
   "cell_type": "code",
   "execution_count": null,
   "id": "fd31548e",
   "metadata": {
    "scrolled": true
   },
   "outputs": [],
   "source": [
    "m"
   ]
  },
  {
   "cell_type": "code",
   "execution_count": null,
   "id": "85671545",
   "metadata": {
    "scrolled": false
   },
   "outputs": [],
   "source": [
    "## generate test points for prediction\n",
    "xx = np.linspace(-72.1, 72.1, 100).reshape(100, 1)  # test points must be of shape (N, D)\n",
    "\n",
    "## predict mean and variance of latent GP at test points\n",
    "mean, var = m.predict_y(xx)\n",
    "\n",
    "## generate 10 samples from posterior\n",
    "tf.random.set_seed(1)  # for reproducibility\n",
    "samples = m.predict_f_samples(xx, 10)  # shape (10, 100, 1)\n",
    "\n",
    "## plot\n",
    "plt.figure(figsize=(12, 6))\n",
    "plt.plot(X, Z, \"kx\", mew=2)\n",
    "plt.plot(xx, mean, \"C0\", lw=2)\n",
    "plt.fill_between(\n",
    "    xx[:, 0],\n",
    "    mean[:, 0] - 1.96 * np.sqrt(var[:, 0]),\n",
    "    mean[:, 0] + 1.96 * np.sqrt(var[:, 0]),\n",
    "    color=\"C0\",\n",
    "    alpha=0.2,\n",
    ")\n",
    "\n",
    "plt.plot(xx, samples[:, :, 0].numpy().T, \"C0\", linewidth=0.5)\n",
    "_ = plt.xlim(-5, 55)\n",
    "plt.xlabel(\"Time (hr)\")\n",
    "plt.title(\"48 hr data 4hr Sampling MAP\")"
   ]
  },
  {
   "cell_type": "markdown",
   "id": "922e66a6",
   "metadata": {},
   "source": [
    "# 24hrs data, 4hr sampling, 1 repeat\n",
    "### MLE"
   ]
  },
  {
   "cell_type": "code",
   "execution_count": null,
   "id": "21114f86",
   "metadata": {},
   "outputs": [],
   "source": [
    "# toy data\n",
    "N = 24\n",
    "M = int(N/4) # to get more realistic sampling\n",
    "X = np.linspace(0,N-1,M).reshape((M,1))\n",
    "Y = np.sin(np.pi*X/12) + np.cos(np.pi*X/12) + np.random.randn(M,1)*0.3 +0.5"
   ]
  },
  {
   "cell_type": "code",
   "execution_count": null,
   "id": "d31bac9e",
   "metadata": {},
   "outputs": [],
   "source": [
    "# z-score it\n",
    "Z = stats.zscore(Y)"
   ]
  },
  {
   "cell_type": "code",
   "execution_count": null,
   "id": "78d97dbe",
   "metadata": {
    "scrolled": false
   },
   "outputs": [],
   "source": [
    "plt.plot(X,Y, label='Original toy data')\n",
    "plt.plot(X,Z, label='Z-scored data')\n",
    "plt.xlabel(\"Time (hr)\")\n",
    "plt.title(\"24hr data 4hr sampling\")\n",
    "plt.legend()"
   ]
  },
  {
   "cell_type": "code",
   "execution_count": null,
   "id": "4414e15c",
   "metadata": {},
   "outputs": [],
   "source": [
    "# create kernel\n",
    "k=gpflow.kernels.Periodic(gpflow.kernels.SquaredExponential(), period=24.0)"
   ]
  },
  {
   "cell_type": "code",
   "execution_count": null,
   "id": "0b10a981",
   "metadata": {},
   "outputs": [],
   "source": [
    "# create model using data and above kernel\n",
    "m = gpflow.models.GPR(data=(X,Z), kernel=k, mean_function=None)\n",
    "m.likelihood.variance.assign(0.1)"
   ]
  },
  {
   "cell_type": "code",
   "execution_count": null,
   "id": "8765bf27",
   "metadata": {},
   "outputs": [],
   "source": [
    "opt = gpflow.optimizers.Scipy()\n",
    "opt.minimize(m.training_loss, variables=m.trainable_variables)"
   ]
  },
  {
   "cell_type": "code",
   "execution_count": null,
   "id": "3cc596f2",
   "metadata": {
    "scrolled": true
   },
   "outputs": [],
   "source": [
    "m"
   ]
  },
  {
   "cell_type": "code",
   "execution_count": null,
   "id": "29fb5d5d",
   "metadata": {
    "scrolled": true
   },
   "outputs": [],
   "source": [
    "## generate test points for prediction\n",
    "xx = np.linspace(-72.1, 72.1, 100).reshape(100, 1)  # test points must be of shape (N, D)\n",
    "\n",
    "## predict mean and variance of latent GP at test points\n",
    "mean, var = m.predict_y(xx)\n",
    "\n",
    "## generate 10 samples from posterior\n",
    "tf.random.set_seed(1)  # for reproducibility\n",
    "samples = m.predict_f_samples(xx, 10)  # shape (10, 100, 1)\n",
    "\n",
    "## plot\n",
    "plt.figure(figsize=(12, 6))\n",
    "plt.plot(X, Z, \"kx\", mew=2)\n",
    "plt.plot(xx, mean, \"C0\", lw=2)\n",
    "plt.fill_between(\n",
    "    xx[:, 0],\n",
    "    mean[:, 0] - 1.96 * np.sqrt(var[:, 0]),\n",
    "    mean[:, 0] + 1.96 * np.sqrt(var[:, 0]),\n",
    "    color=\"C0\",\n",
    "    alpha=0.2,\n",
    ")\n",
    "\n",
    "plt.plot(xx, samples[:, :, 0].numpy().T, \"C0\", linewidth=0.5)\n",
    "_ = plt.xlim(-5, 55)\n",
    "plt.xlabel(\"Time (hr)\")\n",
    "plt.title(\"24 hr data 4hr Sampling MLE\")"
   ]
  },
  {
   "cell_type": "markdown",
   "id": "4e66a2b1",
   "metadata": {},
   "source": [
    "### MAP"
   ]
  },
  {
   "cell_type": "code",
   "execution_count": null,
   "id": "68a4fa1d",
   "metadata": {},
   "outputs": [],
   "source": [
    "# create kernel\n",
    "k=gpflow.kernels.Periodic(gpflow.kernels.SquaredExponential(), period=24.0)"
   ]
  },
  {
   "cell_type": "code",
   "execution_count": null,
   "id": "ceecbf67",
   "metadata": {},
   "outputs": [],
   "source": [
    "k.base_kernel.variance.prior = tfp.distributions.Gamma(\n",
    "    to_default_float(2), to_default_float(1)\n",
    ")\n",
    "k.base_kernel.lengthscales.prior = tfp.distributions.Gamma(\n",
    "    to_default_float(2), to_default_float(1)\n",
    ")\n",
    "k.period.prior = tfp.distributions.Gamma(\n",
    "   to_default_float(25), to_default_float(1)\n",
    ")\n",
    "k"
   ]
  },
  {
   "cell_type": "code",
   "execution_count": null,
   "id": "175a6ee2",
   "metadata": {},
   "outputs": [],
   "source": [
    "# create model using data and above kernel\n",
    "m = gpflow.models.GPR(data=(X,Z), kernel=k, mean_function=None)\n",
    "m.likelihood.variance.prior = tfp.distributions.Gamma(\n",
    "   to_default_float(2), to_default_float(0.1)\n",
    ")"
   ]
  },
  {
   "cell_type": "code",
   "execution_count": null,
   "id": "bd153ec0",
   "metadata": {},
   "outputs": [],
   "source": [
    "opt = gpflow.optimizers.Scipy()\n",
    "opt.minimize(m.training_loss, variables=m.trainable_variables)"
   ]
  },
  {
   "cell_type": "code",
   "execution_count": null,
   "id": "27d84ac6",
   "metadata": {
    "scrolled": true
   },
   "outputs": [],
   "source": [
    "m"
   ]
  },
  {
   "cell_type": "code",
   "execution_count": null,
   "id": "d149d44b",
   "metadata": {
    "scrolled": false
   },
   "outputs": [],
   "source": [
    "## generate test points for prediction\n",
    "xx = np.linspace(-72.1, 72.1, 100).reshape(100, 1)  # test points must be of shape (N, D)\n",
    "\n",
    "## predict mean and variance of latent GP at test points\n",
    "mean, var = m.predict_y(xx)\n",
    "\n",
    "## generate 10 samples from posterior\n",
    "tf.random.set_seed(1)  # for reproducibility\n",
    "samples = m.predict_f_samples(xx, 10)  # shape (10, 100, 1)\n",
    "\n",
    "## plot\n",
    "plt.figure(figsize=(12, 6))\n",
    "plt.plot(X, Z, \"kx\", mew=2)\n",
    "plt.plot(xx, mean, \"C0\", lw=2)\n",
    "plt.fill_between(\n",
    "    xx[:, 0],\n",
    "    mean[:, 0] - 1.96 * np.sqrt(var[:, 0]),\n",
    "    mean[:, 0] + 1.96 * np.sqrt(var[:, 0]),\n",
    "    color=\"C0\",\n",
    "    alpha=0.2,\n",
    ")\n",
    "\n",
    "plt.plot(xx, samples[:, :, 0].numpy().T, \"C0\", linewidth=0.5)\n",
    "_ = plt.xlim(-5, 55)\n",
    "plt.xlabel(\"Time (hr)\")\n",
    "plt.title(\"24 hr data 4hr Sampling MAP\")"
   ]
  },
  {
   "cell_type": "markdown",
   "id": "ba0c30af",
   "metadata": {},
   "source": [
    "# 48hrs data, 1hr sampling, 3 repeat\n",
    "### MLE"
   ]
  },
  {
   "cell_type": "code",
   "execution_count": null,
   "id": "f699ff7d",
   "metadata": {},
   "outputs": [],
   "source": [
    "# toy data\n",
    "N = 48\n",
    "X = np.linspace(0,N-1,N).reshape((N,1))\n",
    "Y1 = np.sin(np.pi*X/12) + np.cos(np.pi*X/12) + np.random.randn(N,1)*0.3+0.5\n",
    "Y2 = np.sin(np.pi*X/12) + np.cos(np.pi*X/12) + np.random.randn(N,1)*0.3+0.5\n",
    "Y3 = np.sin(np.pi*X/12) + np.cos(np.pi*X/12) + np.random.randn(N,1)*0.3+0.5"
   ]
  },
  {
   "cell_type": "code",
   "execution_count": null,
   "id": "6a139f28",
   "metadata": {},
   "outputs": [],
   "source": [
    "X = np.concatenate([X, X, X])\n",
    "Y = np.concatenate([Y1,Y2,Y3])"
   ]
  },
  {
   "cell_type": "code",
   "execution_count": null,
   "id": "765c2bd5",
   "metadata": {},
   "outputs": [],
   "source": [
    "plt.plot(X,Y,'o', color='black')\n",
    "plt.xlabel(\"Time (hr)\")\n",
    "plt.title(\"Original 48 hr data 1hr sampling, 3 repeats\")"
   ]
  },
  {
   "cell_type": "code",
   "execution_count": null,
   "id": "22e56aff",
   "metadata": {},
   "outputs": [],
   "source": [
    "# z-score it\n",
    "Z = stats.zscore(Y)"
   ]
  },
  {
   "cell_type": "code",
   "execution_count": null,
   "id": "b029b87b",
   "metadata": {
    "scrolled": false
   },
   "outputs": [],
   "source": [
    "plt.plot(X,Z,'o', color='black')\n",
    "plt.xlabel(\"Time (hr)\")\n",
    "plt.title(\"Z-scored 48 hr data 1hr sampling, 3 repeats\")"
   ]
  },
  {
   "cell_type": "code",
   "execution_count": null,
   "id": "886ad005",
   "metadata": {},
   "outputs": [],
   "source": [
    "# create kernel\n",
    "k=gpflow.kernels.Periodic(gpflow.kernels.SquaredExponential(), period=24.0)"
   ]
  },
  {
   "cell_type": "code",
   "execution_count": null,
   "id": "2932b14e",
   "metadata": {},
   "outputs": [],
   "source": [
    "# create model using data and above kernel\n",
    "m = gpflow.models.GPR(data=(X,Z), kernel=k, mean_function=None)\n",
    "m.likelihood.variance.assign(0.1)"
   ]
  },
  {
   "cell_type": "code",
   "execution_count": null,
   "id": "b355015a",
   "metadata": {},
   "outputs": [],
   "source": [
    "opt = gpflow.optimizers.Scipy()\n",
    "opt.minimize(m.training_loss, variables=m.trainable_variables)"
   ]
  },
  {
   "cell_type": "code",
   "execution_count": null,
   "id": "12dd9f14",
   "metadata": {},
   "outputs": [],
   "source": [
    "m"
   ]
  },
  {
   "cell_type": "code",
   "execution_count": null,
   "id": "431df662",
   "metadata": {
    "scrolled": true
   },
   "outputs": [],
   "source": [
    "## generate test points for prediction\n",
    "xx = np.linspace(-72.1, 72.1, 100).reshape(100, 1)  # test points must be of shape (N, D)\n",
    "\n",
    "## predict mean and variance of latent GP at test points\n",
    "mean, var = m.predict_y(xx)\n",
    "\n",
    "## generate 10 samples from posterior\n",
    "tf.random.set_seed(1)  # for reproducibility\n",
    "samples = m.predict_f_samples(xx, 10)  # shape (10, 100, 1)\n",
    "\n",
    "## plot\n",
    "plt.figure(figsize=(12, 6))\n",
    "plt.plot(X, Z, \"kx\", mew=2)\n",
    "plt.plot(xx, mean, \"C0\", lw=2)\n",
    "plt.fill_between(\n",
    "    xx[:, 0],\n",
    "    mean[:, 0] - 1.96 * np.sqrt(var[:, 0]),\n",
    "    mean[:, 0] + 1.96 * np.sqrt(var[:, 0]),\n",
    "    color=\"C0\",\n",
    "    alpha=0.2,\n",
    ")\n",
    "\n",
    "plt.plot(xx, samples[:, :, 0].numpy().T, \"C0\", linewidth=0.5)\n",
    "_ = plt.xlim(-5, 55)\n",
    "plt.xlabel(\"Time (hr)\")\n",
    "plt.title(\"48 hr data 1hr Sampling 3 repeats MLE\")"
   ]
  },
  {
   "cell_type": "markdown",
   "id": "7d3b33cd",
   "metadata": {},
   "source": [
    "### MAP"
   ]
  },
  {
   "cell_type": "code",
   "execution_count": null,
   "id": "d7c1a561",
   "metadata": {},
   "outputs": [],
   "source": [
    "# create kernel\n",
    "k=gpflow.kernels.Periodic(gpflow.kernels.SquaredExponential(), period=24.0)"
   ]
  },
  {
   "cell_type": "code",
   "execution_count": null,
   "id": "5bc4c8b8",
   "metadata": {},
   "outputs": [],
   "source": [
    "k.base_kernel.variance.prior = tfp.distributions.Gamma(\n",
    "    to_default_float(2), to_default_float(1)\n",
    ")\n",
    "k.base_kernel.lengthscales.prior = tfp.distributions.Gamma(\n",
    "    to_default_float(2), to_default_float(1)\n",
    ")\n",
    "k.period.prior = tfp.distributions.Gamma(\n",
    "   to_default_float(25), to_default_float(1)\n",
    ")\n",
    "k"
   ]
  },
  {
   "cell_type": "code",
   "execution_count": null,
   "id": "f63e0ae7",
   "metadata": {},
   "outputs": [],
   "source": [
    "# create model using data and above kernel\n",
    "m = gpflow.models.GPR(data=(X,Z), kernel=k, mean_function=None)\n",
    "m.likelihood.variance.prior = tfp.distributions.Gamma(\n",
    "   to_default_float(2), to_default_float(0.1)\n",
    ")"
   ]
  },
  {
   "cell_type": "code",
   "execution_count": null,
   "id": "39ecacdb",
   "metadata": {},
   "outputs": [],
   "source": [
    "opt = gpflow.optimizers.Scipy()\n",
    "opt.minimize(m.training_loss, variables=m.trainable_variables)"
   ]
  },
  {
   "cell_type": "code",
   "execution_count": null,
   "id": "cebdd9d3",
   "metadata": {
    "scrolled": true
   },
   "outputs": [],
   "source": [
    "m"
   ]
  },
  {
   "cell_type": "code",
   "execution_count": null,
   "id": "e3d062de",
   "metadata": {
    "scrolled": true
   },
   "outputs": [],
   "source": [
    "## generate test points for prediction\n",
    "xx = np.linspace(-72.1, 72.1, 100).reshape(100, 1)  # test points must be of shape (N, D)\n",
    "\n",
    "## predict mean and variance of latent GP at test points\n",
    "mean, var = m.predict_y(xx)\n",
    "\n",
    "## generate 10 samples from posterior\n",
    "tf.random.set_seed(1)  # for reproducibility\n",
    "samples = m.predict_f_samples(xx, 10)  # shape (10, 100, 1)\n",
    "\n",
    "## plot\n",
    "plt.figure(figsize=(12, 6))\n",
    "plt.plot(X, Z, \"kx\", mew=2)\n",
    "plt.plot(xx, mean, \"C0\", lw=2)\n",
    "plt.fill_between(\n",
    "    xx[:, 0],\n",
    "    mean[:, 0] - 1.96 * np.sqrt(var[:, 0]),\n",
    "    mean[:, 0] + 1.96 * np.sqrt(var[:, 0]),\n",
    "    color=\"C0\",\n",
    "    alpha=0.2,\n",
    ")\n",
    "\n",
    "plt.plot(xx, samples[:, :, 0].numpy().T, \"C0\", linewidth=0.5)\n",
    "_ = plt.xlim(-5, 55)\n",
    "plt.xlabel(\"Time (hr)\")\n",
    "plt.title(\"48 hr data 1hr 3 repeats Sampling MAP\")"
   ]
  },
  {
   "cell_type": "markdown",
   "id": "70b29b0c",
   "metadata": {},
   "source": [
    "# 24hrs data, 1hr sampling, 3 repeats\n",
    "### MLE"
   ]
  },
  {
   "cell_type": "code",
   "execution_count": null,
   "id": "24757a6a",
   "metadata": {},
   "outputs": [],
   "source": [
    "# toy data\n",
    "N = 24\n",
    "X = np.linspace(0,N-1,N).reshape((N,1))\n",
    "Y1 = np.sin(np.pi*X/12) + np.cos(np.pi*X/12) + np.random.randn(N,1)*0.3+0.5\n",
    "Y2 = np.sin(np.pi*X/12) + np.cos(np.pi*X/12) + np.random.randn(N,1)*0.3+0.5\n",
    "Y3 = np.sin(np.pi*X/12) + np.cos(np.pi*X/12) + np.random.randn(N,1)*0.3+0.5"
   ]
  },
  {
   "cell_type": "code",
   "execution_count": null,
   "id": "a5696cba",
   "metadata": {},
   "outputs": [],
   "source": [
    "X = np.concatenate([X, X, X])\n",
    "Y = np.concatenate([Y1,Y2,Y3])"
   ]
  },
  {
   "cell_type": "code",
   "execution_count": null,
   "id": "d62959b1",
   "metadata": {},
   "outputs": [],
   "source": [
    "plt.plot(X,Y,'o', color='black')\n",
    "plt.xlabel(\"Time (hr)\")\n",
    "plt.title(\"Original 24 hr data 1hr sampling, 3 repeats\")"
   ]
  },
  {
   "cell_type": "code",
   "execution_count": null,
   "id": "a73d605e",
   "metadata": {},
   "outputs": [],
   "source": [
    "# z-score it\n",
    "Z = stats.zscore(Y)"
   ]
  },
  {
   "cell_type": "code",
   "execution_count": null,
   "id": "2e9ebff6",
   "metadata": {
    "scrolled": false
   },
   "outputs": [],
   "source": [
    "plt.plot(X,Z,'o', color='black')\n",
    "plt.xlabel(\"Time (hr)\")\n",
    "plt.title(\"Z-scored 24 hr data 1hr sampling, 3 repeats\")"
   ]
  },
  {
   "cell_type": "code",
   "execution_count": null,
   "id": "588b04e7",
   "metadata": {},
   "outputs": [],
   "source": [
    "# create kernel\n",
    "k=gpflow.kernels.Periodic(gpflow.kernels.SquaredExponential(), period=24.0)"
   ]
  },
  {
   "cell_type": "code",
   "execution_count": null,
   "id": "c9231644",
   "metadata": {},
   "outputs": [],
   "source": [
    "# create model using data and above kernel\n",
    "m = gpflow.models.GPR(data=(X,Z), kernel=k, mean_function=None)\n",
    "m.likelihood.variance.assign(0.1)"
   ]
  },
  {
   "cell_type": "code",
   "execution_count": null,
   "id": "4d067e24",
   "metadata": {},
   "outputs": [],
   "source": [
    "opt = gpflow.optimizers.Scipy()\n",
    "opt.minimize(m.training_loss, variables=m.trainable_variables)"
   ]
  },
  {
   "cell_type": "code",
   "execution_count": null,
   "id": "56b52dca",
   "metadata": {},
   "outputs": [],
   "source": [
    "m"
   ]
  },
  {
   "cell_type": "code",
   "execution_count": null,
   "id": "ed4b7a91",
   "metadata": {
    "scrolled": false
   },
   "outputs": [],
   "source": [
    "## generate test points for prediction\n",
    "xx = np.linspace(-72.1, 72.1, 100).reshape(100, 1)  # test points must be of shape (N, D)\n",
    "\n",
    "## predict mean and variance of latent GP at test points\n",
    "mean, var = m.predict_y(xx)\n",
    "\n",
    "## generate 10 samples from posterior\n",
    "tf.random.set_seed(1)  # for reproducibility\n",
    "samples = m.predict_f_samples(xx, 10)  # shape (10, 100, 1)\n",
    "\n",
    "## plot\n",
    "plt.figure(figsize=(12, 6))\n",
    "plt.plot(X, Z, \"kx\", mew=2)\n",
    "plt.plot(xx, mean, \"C0\", lw=2)\n",
    "plt.fill_between(\n",
    "    xx[:, 0],\n",
    "    mean[:, 0] - 1.96 * np.sqrt(var[:, 0]),\n",
    "    mean[:, 0] + 1.96 * np.sqrt(var[:, 0]),\n",
    "    color=\"C0\",\n",
    "    alpha=0.2,\n",
    ")\n",
    "\n",
    "plt.plot(xx, samples[:, :, 0].numpy().T, \"C0\", linewidth=0.5)\n",
    "_ = plt.xlim(-5, 55)\n",
    "plt.xlabel(\"Time (hr)\")\n",
    "plt.title(\"24 hr data 1hr 3 repeats Sampling MLE\")"
   ]
  },
  {
   "cell_type": "markdown",
   "id": "dbe0e8b1",
   "metadata": {},
   "source": [
    "### MAP"
   ]
  },
  {
   "cell_type": "code",
   "execution_count": null,
   "id": "27e2c5d6",
   "metadata": {},
   "outputs": [],
   "source": [
    "# create kernel\n",
    "k=gpflow.kernels.Periodic(gpflow.kernels.SquaredExponential(), period=24.0)"
   ]
  },
  {
   "cell_type": "code",
   "execution_count": null,
   "id": "5abb5bfa",
   "metadata": {},
   "outputs": [],
   "source": [
    "k.base_kernel.variance.prior = tfp.distributions.Gamma(\n",
    "    to_default_float(2), to_default_float(1)\n",
    ")\n",
    "k.base_kernel.lengthscales.prior = tfp.distributions.Gamma(\n",
    "    to_default_float(2), to_default_float(1)\n",
    ")\n",
    "k.period.prior = tfp.distributions.Gamma(\n",
    "   to_default_float(25), to_default_float(1)\n",
    ")\n",
    "k"
   ]
  },
  {
   "cell_type": "code",
   "execution_count": null,
   "id": "62e9db1b",
   "metadata": {},
   "outputs": [],
   "source": [
    "# create model using data and above kernel\n",
    "m = gpflow.models.GPR(data=(X,Z), kernel=k, mean_function=None)\n",
    "m.likelihood.variance.prior = tfp.distributions.Gamma(\n",
    "   to_default_float(2), to_default_float(0.1)\n",
    ")"
   ]
  },
  {
   "cell_type": "code",
   "execution_count": null,
   "id": "3dd584ab",
   "metadata": {},
   "outputs": [],
   "source": [
    "opt = gpflow.optimizers.Scipy()\n",
    "opt.minimize(m.training_loss, variables=m.trainable_variables)"
   ]
  },
  {
   "cell_type": "code",
   "execution_count": null,
   "id": "be1c4498",
   "metadata": {
    "scrolled": true
   },
   "outputs": [],
   "source": [
    "m"
   ]
  },
  {
   "cell_type": "code",
   "execution_count": null,
   "id": "7a8f7e20",
   "metadata": {
    "scrolled": true
   },
   "outputs": [],
   "source": [
    "## generate test points for prediction\n",
    "xx = np.linspace(-72.1, 72.1, 100).reshape(100, 1)  # test points must be of shape (N, D)\n",
    "\n",
    "## predict mean and variance of latent GP at test points\n",
    "mean, var = m.predict_y(xx)\n",
    "\n",
    "## generate 10 samples from posterior\n",
    "tf.random.set_seed(1)  # for reproducibility\n",
    "samples = m.predict_f_samples(xx, 10)  # shape (10, 100, 1)\n",
    "\n",
    "## plot\n",
    "plt.figure(figsize=(12, 6))\n",
    "plt.plot(X, Z, \"kx\", mew=2)\n",
    "plt.plot(xx, mean, \"C0\", lw=2)\n",
    "plt.fill_between(\n",
    "    xx[:, 0],\n",
    "    mean[:, 0] - 1.96 * np.sqrt(var[:, 0]),\n",
    "    mean[:, 0] + 1.96 * np.sqrt(var[:, 0]),\n",
    "    color=\"C0\",\n",
    "    alpha=0.2,\n",
    ")\n",
    "\n",
    "plt.plot(xx, samples[:, :, 0].numpy().T, \"C0\", linewidth=0.5)\n",
    "_ = plt.xlim(-5, 55)\n",
    "plt.xlabel(\"Time (hr)\")\n",
    "plt.title(\"24 hr data 1hr 3 repeats Sampling MAP\")"
   ]
  },
  {
   "cell_type": "markdown",
   "id": "a345043e",
   "metadata": {},
   "source": [
    "# 48hrs data, 4hr sampling, 3 repeats\n",
    "### MLE"
   ]
  },
  {
   "cell_type": "code",
   "execution_count": null,
   "id": "27a2836d",
   "metadata": {},
   "outputs": [],
   "source": [
    "# toy data\n",
    "N = 48\n",
    "M = int(N/4)\n",
    "X = np.linspace(0,N-1,M).reshape((M,1))\n",
    "Y1 = np.sin(np.pi*X/12) + np.cos(np.pi*X/12) + np.random.randn(M,1)*0.3+0.5\n",
    "Y2 = np.sin(np.pi*X/12) + np.cos(np.pi*X/12) + np.random.randn(M,1)*0.3+0.5\n",
    "Y3 = np.sin(np.pi*X/12) + np.cos(np.pi*X/12) + np.random.randn(M,1)*0.3+0.5"
   ]
  },
  {
   "cell_type": "code",
   "execution_count": null,
   "id": "3f52c605",
   "metadata": {},
   "outputs": [],
   "source": [
    "X = np.concatenate([X, X, X])\n",
    "Y = np.concatenate([Y1,Y2,Y3])"
   ]
  },
  {
   "cell_type": "code",
   "execution_count": null,
   "id": "9dd7ff70",
   "metadata": {},
   "outputs": [],
   "source": [
    "plt.plot(X,Y,'o', color='black')\n",
    "plt.xlabel(\"Time (hr)\")\n",
    "plt.title(\"Original 48 hr data 4hr sampling, 3 repeats\")"
   ]
  },
  {
   "cell_type": "code",
   "execution_count": null,
   "id": "327a88c8",
   "metadata": {},
   "outputs": [],
   "source": [
    "# z-score it\n",
    "Z = stats.zscore(Y)"
   ]
  },
  {
   "cell_type": "code",
   "execution_count": null,
   "id": "4386f8b3",
   "metadata": {
    "scrolled": false
   },
   "outputs": [],
   "source": [
    "plt.plot(X,Z,'o', color='black')\n",
    "plt.xlabel(\"Time (hr)\")\n",
    "plt.title(\"Z-scored 48 hr data 4hr sampling, 3 repeats\")"
   ]
  },
  {
   "cell_type": "code",
   "execution_count": null,
   "id": "27bd5063",
   "metadata": {},
   "outputs": [],
   "source": [
    "# create kernel\n",
    "k=gpflow.kernels.Periodic(gpflow.kernels.SquaredExponential(), period=24.0)"
   ]
  },
  {
   "cell_type": "code",
   "execution_count": null,
   "id": "2a868db4",
   "metadata": {},
   "outputs": [],
   "source": [
    "# create model using data and above kernel\n",
    "m = gpflow.models.GPR(data=(X,Z), kernel=k, mean_function=None)\n",
    "m.likelihood.variance.assign(0.1)"
   ]
  },
  {
   "cell_type": "code",
   "execution_count": null,
   "id": "2954709d",
   "metadata": {},
   "outputs": [],
   "source": [
    "opt = gpflow.optimizers.Scipy()\n",
    "opt.minimize(m.training_loss, variables=m.trainable_variables)"
   ]
  },
  {
   "cell_type": "code",
   "execution_count": null,
   "id": "9688eb20",
   "metadata": {},
   "outputs": [],
   "source": [
    "m"
   ]
  },
  {
   "cell_type": "code",
   "execution_count": null,
   "id": "ad389cc9",
   "metadata": {
    "scrolled": true
   },
   "outputs": [],
   "source": [
    "## generate test points for prediction\n",
    "xx = np.linspace(-72.1, 72.1, 100).reshape(100, 1)  # test points must be of shape (N, D)\n",
    "\n",
    "## predict mean and variance of latent GP at test points\n",
    "mean, var = m.predict_y(xx)\n",
    "\n",
    "## generate 10 samples from posterior\n",
    "tf.random.set_seed(1)  # for reproducibility\n",
    "samples = m.predict_f_samples(xx, 10)  # shape (10, 100, 1)\n",
    "\n",
    "## plot\n",
    "plt.figure(figsize=(12, 6))\n",
    "plt.plot(X, Z, \"kx\", mew=2)\n",
    "plt.plot(xx, mean, \"C0\", lw=2)\n",
    "plt.fill_between(\n",
    "    xx[:, 0],\n",
    "    mean[:, 0] - 1.96 * np.sqrt(var[:, 0]),\n",
    "    mean[:, 0] + 1.96 * np.sqrt(var[:, 0]),\n",
    "    color=\"C0\",\n",
    "    alpha=0.2,\n",
    ")\n",
    "\n",
    "plt.plot(xx, samples[:, :, 0].numpy().T, \"C0\", linewidth=0.5)\n",
    "_ = plt.xlim(-5, 55)\n",
    "plt.xlabel(\"Time (hr)\")\n",
    "plt.title(\"48 hr data 4hr 3 repeats Sampling MLE\")"
   ]
  },
  {
   "cell_type": "markdown",
   "id": "ce797519",
   "metadata": {},
   "source": [
    "### MAP"
   ]
  },
  {
   "cell_type": "code",
   "execution_count": null,
   "id": "e593595c",
   "metadata": {},
   "outputs": [],
   "source": [
    "# create kernel\n",
    "k=gpflow.kernels.Periodic(gpflow.kernels.SquaredExponential(), period=24.0)"
   ]
  },
  {
   "cell_type": "code",
   "execution_count": null,
   "id": "7185b15b",
   "metadata": {},
   "outputs": [],
   "source": [
    "k.base_kernel.variance.prior = tfp.distributions.Gamma(\n",
    "    to_default_float(2), to_default_float(1)\n",
    ")\n",
    "k.base_kernel.lengthscales.prior = tfp.distributions.Gamma(\n",
    "    to_default_float(2), to_default_float(1)\n",
    ")\n",
    "k.period.prior = tfp.distributions.Gamma(\n",
    "   to_default_float(25), to_default_float(1)\n",
    ")\n",
    "k"
   ]
  },
  {
   "cell_type": "code",
   "execution_count": null,
   "id": "eb8d1870",
   "metadata": {},
   "outputs": [],
   "source": [
    "# create model using data and above kernel\n",
    "m = gpflow.models.GPR(data=(X,Z), kernel=k, mean_function=None)\n",
    "m.likelihood.variance.prior = tfp.distributions.Gamma(\n",
    "   to_default_float(2), to_default_float(0.1)\n",
    ")"
   ]
  },
  {
   "cell_type": "code",
   "execution_count": null,
   "id": "70f3732c",
   "metadata": {},
   "outputs": [],
   "source": [
    "opt = gpflow.optimizers.Scipy()\n",
    "opt.minimize(m.training_loss, variables=m.trainable_variables)"
   ]
  },
  {
   "cell_type": "code",
   "execution_count": null,
   "id": "6a77d1cb",
   "metadata": {
    "scrolled": true
   },
   "outputs": [],
   "source": [
    "m"
   ]
  },
  {
   "cell_type": "code",
   "execution_count": null,
   "id": "21ba5c01",
   "metadata": {
    "scrolled": true
   },
   "outputs": [],
   "source": [
    "## generate test points for prediction\n",
    "xx = np.linspace(-72.1, 72.1, 100).reshape(100, 1)  # test points must be of shape (N, D)\n",
    "\n",
    "## predict mean and variance of latent GP at test points\n",
    "mean, var = m.predict_y(xx)\n",
    "\n",
    "## generate 10 samples from posterior\n",
    "tf.random.set_seed(1)  # for reproducibility\n",
    "samples = m.predict_f_samples(xx, 10)  # shape (10, 100, 1)\n",
    "\n",
    "## plot\n",
    "plt.figure(figsize=(12, 6))\n",
    "plt.plot(X, Z, \"kx\", mew=2)\n",
    "plt.plot(xx, mean, \"C0\", lw=2)\n",
    "plt.fill_between(\n",
    "    xx[:, 0],\n",
    "    mean[:, 0] - 1.96 * np.sqrt(var[:, 0]),\n",
    "    mean[:, 0] + 1.96 * np.sqrt(var[:, 0]),\n",
    "    color=\"C0\",\n",
    "    alpha=0.2,\n",
    ")\n",
    "\n",
    "plt.plot(xx, samples[:, :, 0].numpy().T, \"C0\", linewidth=0.5)\n",
    "_ = plt.xlim(-5, 55)\n",
    "plt.xlabel(\"Time (hr)\")\n",
    "plt.title(\"48 hr data 4hr 3 repeats Sampling MAP\")"
   ]
  },
  {
   "cell_type": "markdown",
   "id": "d94edf23",
   "metadata": {},
   "source": [
    "# 24hrs data, 4hr sampling, 3 repeats\n",
    "### MLE"
   ]
  },
  {
   "cell_type": "code",
   "execution_count": null,
   "id": "8a29ed08",
   "metadata": {},
   "outputs": [],
   "source": [
    "# toy data\n",
    "N = 24\n",
    "M = int(N/4)\n",
    "X = np.linspace(0,N-1,M).reshape((M,1))\n",
    "Y1 = np.sin(np.pi*X/12) + np.cos(np.pi*X/12) + np.random.randn(M,1)*0.3+0.5\n",
    "Y2 = np.sin(np.pi*X/12) + np.cos(np.pi*X/12) + np.random.randn(M,1)*0.3+0.5\n",
    "Y3 = np.sin(np.pi*X/12) + np.cos(np.pi*X/12) + np.random.randn(M,1)*0.3+0.5"
   ]
  },
  {
   "cell_type": "code",
   "execution_count": null,
   "id": "2fb244a3",
   "metadata": {},
   "outputs": [],
   "source": [
    "X = np.concatenate([X, X, X])\n",
    "Y = np.concatenate([Y1,Y2,Y3])"
   ]
  },
  {
   "cell_type": "code",
   "execution_count": null,
   "id": "9d89f55d",
   "metadata": {},
   "outputs": [],
   "source": [
    "plt.plot(X,Y,'o', color='black')\n",
    "plt.xlabel(\"Time (hr)\")\n",
    "plt.title(\"Original 24 hr data 4hr sampling, 3 repeats\")"
   ]
  },
  {
   "cell_type": "code",
   "execution_count": null,
   "id": "d17fc722",
   "metadata": {},
   "outputs": [],
   "source": [
    "# z-score it\n",
    "Z = stats.zscore(Y)"
   ]
  },
  {
   "cell_type": "code",
   "execution_count": null,
   "id": "0bc3eefd",
   "metadata": {
    "scrolled": false
   },
   "outputs": [],
   "source": [
    "plt.plot(X,Z,'o', color='black')\n",
    "plt.xlabel(\"Time (hr)\")\n",
    "plt.title(\"Z-scored 24 hr data 4hr sampling, 3 repeats\")"
   ]
  },
  {
   "cell_type": "code",
   "execution_count": null,
   "id": "3edd6bf4",
   "metadata": {},
   "outputs": [],
   "source": [
    "# create kernel\n",
    "k=gpflow.kernels.Periodic(gpflow.kernels.SquaredExponential(), period=24.0)"
   ]
  },
  {
   "cell_type": "code",
   "execution_count": null,
   "id": "bb00ea6d",
   "metadata": {},
   "outputs": [],
   "source": [
    "# create model using data and above kernel\n",
    "m = gpflow.models.GPR(data=(X,Z), kernel=k, mean_function=None)\n",
    "m.likelihood.variance.assign(0.1)"
   ]
  },
  {
   "cell_type": "code",
   "execution_count": null,
   "id": "20612839",
   "metadata": {},
   "outputs": [],
   "source": [
    "opt = gpflow.optimizers.Scipy()\n",
    "opt.minimize(m.training_loss, variables=m.trainable_variables)"
   ]
  },
  {
   "cell_type": "code",
   "execution_count": null,
   "id": "e8eb501e",
   "metadata": {},
   "outputs": [],
   "source": [
    "m"
   ]
  },
  {
   "cell_type": "code",
   "execution_count": null,
   "id": "f1c5e74b",
   "metadata": {
    "scrolled": true
   },
   "outputs": [],
   "source": [
    "## generate test points for prediction\n",
    "xx = np.linspace(-72.1, 72.1, 100).reshape(100, 1)  # test points must be of shape (N, D)\n",
    "\n",
    "## predict mean and variance of latent GP at test points\n",
    "mean, var = m.predict_y(xx)\n",
    "\n",
    "## generate 10 samples from posterior\n",
    "tf.random.set_seed(1)  # for reproducibility\n",
    "samples = m.predict_f_samples(xx, 10)  # shape (10, 100, 1)\n",
    "\n",
    "## plot\n",
    "plt.figure(figsize=(12, 6))\n",
    "plt.plot(X, Z, \"kx\", mew=2)\n",
    "plt.plot(xx, mean, \"C0\", lw=2)\n",
    "plt.fill_between(\n",
    "    xx[:, 0],\n",
    "    mean[:, 0] - 1.96 * np.sqrt(var[:, 0]),\n",
    "    mean[:, 0] + 1.96 * np.sqrt(var[:, 0]),\n",
    "    color=\"C0\",\n",
    "    alpha=0.2,\n",
    ")\n",
    "\n",
    "plt.plot(xx, samples[:, :, 0].numpy().T, \"C0\", linewidth=0.5)\n",
    "_ = plt.xlim(-5, 55)\n",
    "plt.xlabel(\"Time (hr)\")\n",
    "plt.title(\"24 hr data 4hr 3 repeats Sampling MLE\")"
   ]
  },
  {
   "cell_type": "markdown",
   "id": "3947026e",
   "metadata": {},
   "source": [
    "### MAP"
   ]
  },
  {
   "cell_type": "code",
   "execution_count": null,
   "id": "59f270c4",
   "metadata": {},
   "outputs": [],
   "source": [
    "# create kernel\n",
    "k=gpflow.kernels.Periodic(gpflow.kernels.SquaredExponential(), period=24.0)"
   ]
  },
  {
   "cell_type": "code",
   "execution_count": null,
   "id": "64f4576d",
   "metadata": {},
   "outputs": [],
   "source": [
    "k.base_kernel.variance.prior = tfp.distributions.Gamma(\n",
    "    to_default_float(2), to_default_float(1)\n",
    ")\n",
    "k.base_kernel.lengthscales.prior = tfp.distributions.Gamma(\n",
    "    to_default_float(2), to_default_float(1)\n",
    ")\n",
    "k.period.prior = tfp.distributions.Gamma(\n",
    "   to_default_float(25), to_default_float(1)\n",
    ")\n",
    "k"
   ]
  },
  {
   "cell_type": "code",
   "execution_count": null,
   "id": "db6cf482",
   "metadata": {},
   "outputs": [],
   "source": [
    "# create model using data and above kernel\n",
    "m = gpflow.models.GPR(data=(X,Z), kernel=k, mean_function=None)\n",
    "m.likelihood.variance.prior = tfp.distributions.Gamma(\n",
    "   to_default_float(2), to_default_float(0.1)\n",
    ")"
   ]
  },
  {
   "cell_type": "code",
   "execution_count": null,
   "id": "c394e4e0",
   "metadata": {},
   "outputs": [],
   "source": [
    "opt = gpflow.optimizers.Scipy()\n",
    "opt.minimize(m.training_loss, variables=m.trainable_variables)"
   ]
  },
  {
   "cell_type": "code",
   "execution_count": null,
   "id": "db373afc",
   "metadata": {
    "scrolled": true
   },
   "outputs": [],
   "source": [
    "m"
   ]
  },
  {
   "cell_type": "code",
   "execution_count": null,
   "id": "6225aedc",
   "metadata": {
    "scrolled": true
   },
   "outputs": [],
   "source": [
    "## generate test points for prediction\n",
    "xx = np.linspace(-72.1, 72.1, 100).reshape(100, 1)  # test points must be of shape (N, D)\n",
    "\n",
    "## predict mean and variance of latent GP at test points\n",
    "mean, var = m.predict_y(xx)\n",
    "\n",
    "## generate 10 samples from posterior\n",
    "tf.random.set_seed(1)  # for reproducibility\n",
    "samples = m.predict_f_samples(xx, 10)  # shape (10, 100, 1)\n",
    "\n",
    "## plot\n",
    "plt.figure(figsize=(12, 6))\n",
    "plt.plot(X, Z, \"kx\", mew=2)\n",
    "plt.plot(xx, mean, \"C0\", lw=2)\n",
    "plt.fill_between(\n",
    "    xx[:, 0],\n",
    "    mean[:, 0] - 1.96 * np.sqrt(var[:, 0]),\n",
    "    mean[:, 0] + 1.96 * np.sqrt(var[:, 0]),\n",
    "    color=\"C0\",\n",
    "    alpha=0.2,\n",
    ")\n",
    "\n",
    "plt.plot(xx, samples[:, :, 0].numpy().T, \"C0\", linewidth=0.5)\n",
    "_ = plt.xlim(-5, 55)\n",
    "plt.xlabel(\"Time (hr)\")\n",
    "plt.title(\"24hr data 4hr 3 repeats Sampling MAP\")"
   ]
  },
  {
   "cell_type": "markdown",
   "id": "55991467",
   "metadata": {},
   "source": [
    "# MCMC (Markov Chain Monte Carlo) with 48 hr, 1hr sampling, 3 repeats"
   ]
  },
  {
   "cell_type": "code",
   "execution_count": null,
   "id": "740be9d4",
   "metadata": {},
   "outputs": [],
   "source": [
    "# toy data\n",
    "N = 48\n",
    "X = np.linspace(0,N-1,N).reshape((N,1))\n",
    "Y1 = np.sin(np.pi*X/12) + np.cos(np.pi*X/12) + np.random.randn(N,1)*0.3+0.5\n",
    "Y2 = np.sin(np.pi*X/12) + np.cos(np.pi*X/12) + np.random.randn(N,1)*0.3+0.5\n",
    "Y3 = np.sin(np.pi*X/12) + np.cos(np.pi*X/12) + np.random.randn(N,1)*0.3+0.5"
   ]
  },
  {
   "cell_type": "code",
   "execution_count": null,
   "id": "5ba88476",
   "metadata": {},
   "outputs": [],
   "source": [
    "X = np.concatenate([X, X, X])\n",
    "Y = np.concatenate([Y1,Y2,Y3])"
   ]
  },
  {
   "cell_type": "code",
   "execution_count": null,
   "id": "410493be",
   "metadata": {},
   "outputs": [],
   "source": [
    "# z-score it\n",
    "Z = stats.zscore(Y)"
   ]
  },
  {
   "cell_type": "code",
   "execution_count": null,
   "id": "ac700f77",
   "metadata": {},
   "outputs": [],
   "source": [
    "# create kernel\n",
    "k=gpflow.kernels.Periodic(gpflow.kernels.SquaredExponential(), period=24.0)"
   ]
  },
  {
   "cell_type": "code",
   "execution_count": null,
   "id": "6e3c28c4",
   "metadata": {},
   "outputs": [],
   "source": [
    "k.base_kernel.variance.prior = tfp.distributions.Gamma(\n",
    "    to_default_float(2), to_default_float(1)\n",
    ")\n",
    "k.base_kernel.lengthscales.prior = tfp.distributions.Gamma(\n",
    "    to_default_float(2), to_default_float(1)\n",
    ")\n",
    "k.period.prior = tfp.distributions.Gamma(\n",
    "   to_default_float(25), to_default_float(1)\n",
    ")\n",
    "k"
   ]
  },
  {
   "cell_type": "code",
   "execution_count": null,
   "id": "813a6cd0",
   "metadata": {},
   "outputs": [],
   "source": [
    "# create model using data and above kernel\n",
    "m = gpflow.models.GPR(data=(X,Z), kernel=k, mean_function=None)\n",
    "m.likelihood.variance.prior = tfp.distributions.Gamma(\n",
    "   to_default_float(2), to_default_float(0.1)\n",
    ")\n",
    "m"
   ]
  },
  {
   "cell_type": "code",
   "execution_count": null,
   "id": "bf64cddb",
   "metadata": {},
   "outputs": [],
   "source": [
    "opt = gpflow.optimizers.Scipy()\n",
    "opt.minimize(m.training_loss, variables=m.trainable_variables)\n",
    "m"
   ]
  },
  {
   "cell_type": "code",
   "execution_count": null,
   "id": "5683db6b",
   "metadata": {},
   "outputs": [],
   "source": [
    "data=(X,Z)\n",
    "model = m\n",
    "num_burnin_steps = ci_niter(1000)\n",
    "num_samples = ci_niter(5000)\n",
    "\n",
    "# Note that here we need model.trainable_parameters, not trainable_variables - only parameters can have priors!\n",
    "hmc_helper = gpflow.optimizers.SamplingHelper(\n",
    "    model.log_posterior_density, model.trainable_parameters\n",
    ")\n",
    "\n",
    "hmc = tfp.mcmc.HamiltonianMonteCarlo(\n",
    "    target_log_prob_fn=hmc_helper.target_log_prob_fn, num_leapfrog_steps=10, step_size=0.01\n",
    ")\n",
    "adaptive_hmc = tfp.mcmc.SimpleStepSizeAdaptation(\n",
    "    hmc, num_adaptation_steps=10, target_accept_prob=f64(0.75), adaptation_rate=0.1\n",
    ")\n",
    "\n",
    "\n",
    "@tf.function\n",
    "def run_chain_fn():\n",
    "    return tfp.mcmc.sample_chain(\n",
    "        num_results=num_samples,\n",
    "        num_burnin_steps=num_burnin_steps,\n",
    "        current_state=hmc_helper.current_state,\n",
    "        kernel=adaptive_hmc,\n",
    "        trace_fn=lambda _, pkr: pkr.inner_results.is_accepted,\n",
    "    )\n",
    "\n",
    "\n",
    "samples, traces = run_chain_fn()\n",
    "parameter_samples = hmc_helper.convert_to_constrained_values(samples)\n",
    "\n",
    "param_to_name = {param: name for name, param in gpflow.utilities.parameter_dict(model).items()}"
   ]
  },
  {
   "cell_type": "code",
   "execution_count": null,
   "id": "ffc2bf20",
   "metadata": {},
   "outputs": [],
   "source": [
    "def plot_samples(samples, parameters, y_axis_label):\n",
    "    plt.figure(figsize=(8, 4))\n",
    "    for val, param in zip(samples, parameters):\n",
    "        plt.plot(tf.squeeze(val), label=param_to_name[param])\n",
    "    plt.legend(bbox_to_anchor=(1.0, 1.0))\n",
    "    plt.xlabel(\"HMC iteration\")\n",
    "    plt.ylabel(y_axis_label)\n",
    "\n",
    "\n",
    "plot_samples(samples, model.trainable_parameters, \"unconstrained values\")\n",
    "plot_samples(parameter_samples, model.trainable_parameters, \"constrained parameter values\")"
   ]
  },
  {
   "cell_type": "code",
   "execution_count": null,
   "id": "4e23dddb",
   "metadata": {},
   "outputs": [],
   "source": [
    "def marginal_samples(samples, parameters, y_axis_label):\n",
    "    fig, axes = plt.subplots(1, len(param_to_name), figsize=(15, 3), constrained_layout=True)\n",
    "    for ax, val, param in zip(axes, samples, parameters):\n",
    "        ax.hist(np.stack(val).flatten(), bins=20)\n",
    "        ax.set_title(param_to_name[param])\n",
    "    fig.suptitle(y_axis_label)\n",
    "    plt.show()\n",
    "\n",
    "\n",
    "marginal_samples(samples, model.trainable_parameters, \"Unconstrained variable samples\")\n",
    "marginal_samples(parameter_samples, model.trainable_parameters, \"Constrained parameter samples\")"
   ]
  },
  {
   "cell_type": "code",
   "execution_count": null,
   "id": "ce1233c7",
   "metadata": {},
   "outputs": [],
   "source": [
    "# plot the function posterior\n",
    "xx = np.linspace(-0.1, 48.1, 100)[:, None]\n",
    "plt.figure(figsize=(12, 6))\n",
    "\n",
    "for i in range(0, num_samples, 20):\n",
    "    for var, var_samples in zip(hmc_helper.current_state, samples):\n",
    "        var.assign(var_samples[i])\n",
    "    f = model.predict_f_samples(xx, 1)\n",
    "    plt.plot(xx, f[0, :, :], \"C0\", lw=2, alpha=0.3)\n",
    "\n",
    "plt.plot(X, Z, \"kx\", mew=2)\n",
    "_ = plt.xlim(xx.min(), xx.max())\n",
    "_ = plt.ylim(-2, 2)\n",
    "plt.xlabel(\"$x$\")\n",
    "plt.ylabel(\"$f|X,Z$\")\n",
    "plt.title(\"Posterior GP samples\")\n",
    "\n",
    "plt.show()"
   ]
  }
 ],
 "metadata": {
  "kernelspec": {
   "display_name": "Python 3",
   "language": "python",
   "name": "python3"
  },
  "language_info": {
   "codemirror_mode": {
    "name": "ipython",
    "version": 3
   },
   "file_extension": ".py",
   "mimetype": "text/x-python",
   "name": "python",
   "nbconvert_exporter": "python",
   "pygments_lexer": "ipython3",
   "version": "3.8.10"
  }
 },
 "nbformat": 4,
 "nbformat_minor": 5
}
